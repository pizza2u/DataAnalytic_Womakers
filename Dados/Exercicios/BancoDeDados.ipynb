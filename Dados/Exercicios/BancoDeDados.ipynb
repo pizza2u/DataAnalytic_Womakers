{
  "nbformat": 4,
  "nbformat_minor": 0,
  "metadata": {
    "colab": {
      "provenance": []
    },
    "kernelspec": {
      "name": "python3",
      "display_name": "Python 3"
    },
    "language_info": {
      "name": "python"
    }
  },
  "cells": [
    {
      "cell_type": "markdown",
      "source": [
        "### 1. Crie uma tabela chamada \"alunos\" com os seguintes campos: id (inteiro), nome (texto), idade (inteiro) e curso (texto).\n",
        "### 2. Insira pelo menos 5 registros de alunos na tabela que você criou no exercício anterior"
      ],
      "metadata": {
        "id": "WaMW7hq8YRWe"
      }
    },
    {
      "cell_type": "code",
      "execution_count": 6,
      "metadata": {
        "colab": {
          "base_uri": "https://localhost:8080/"
        },
        "id": "bCRvH3tCXwZx",
        "outputId": "266b5cf0-3380-46a7-e2e7-95568d6a24a5"
      },
      "outputs": [
        {
          "output_type": "execute_result",
          "data": {
            "text/plain": [
              "<function Connection.close()>"
            ]
          },
          "metadata": {},
          "execution_count": 6
        }
      ],
      "source": [
        "import sqlite3\n",
        "\n",
        "conexao = sqlite3.connect('alunos')\n",
        "cursor = conexao.cursor()\n",
        "\n",
        "cursor.execute('CREATE TABLE alunos(id INT, nome VARCHAR(100), idade INT, curso VARCHAR(100));')\n",
        "cursor.execute('INSERT INTO alunos(id,nome,idade,curso) VALUES(1,\"Ana\",22,\"Arrquitetura\")')\n",
        "cursor.execute('INSERT INTO alunos(id,nome,idade,curso) VALUES(2,\"João\",23,\"Engenharia\")')\n",
        "cursor.execute('INSERT INTO alunos(id,nome,idade,curso) VALUES(3,\"Antonio\",28,\"Medicina\")')\n",
        "cursor.execute('INSERT INTO alunos(id,nome,idade,curso) VALUES(4,\"Gabriela\",19,\"Engenharia\")')\n",
        "cursor.execute('INSERT INTO alunos(id,nome,idade,curso) VALUES(5,\"Anthony\",23,\"Engenharia\")')\n",
        "cursor.execute('INSERT INTO alunos(id,nome,idade,curso) VALUES(6,\"Caio\",30,\"Enfermagem\")')\n",
        "cursor.execute('INSERT INTO alunos(id,nome,idade,curso) VALUES(7,\"Anthony\",18,\"Contabilidade\")')\n",
        "\n",
        "\n",
        "conexao.commit()\n",
        "conexao.close"
      ]
    },
    {
      "cell_type": "markdown",
      "source": [
        "### 3. Consultas Básicas\n",
        "Escreva consultas SQL para realizar as seguintes tarefas:\n",
        "\n",
        "a) Selecionar todos os registros da tabela \"alunos\".\n",
        "\n",
        "b) Selecionar o nome e a idade dos alunos com mais de 20 anos.\n",
        "\n",
        "c) Selecionar os alunos do curso de \"Engenharia\" em ordem\n",
        "alfabética.\n",
        "\n",
        "d) Contar o número total de alunos na tabela"
      ],
      "metadata": {
        "id": "kavT9gTCYWtm"
      }
    },
    {
      "cell_type": "code",
      "source": [
        "# A\n",
        "import sqlite3\n",
        "\n",
        "conexao = sqlite3.connect('alunos')\n",
        "cursor = conexao.cursor()\n",
        "\n",
        "mostrar = cursor.execute('SELECT * FROM alunos')\n",
        "for usuario in mostrar:\n",
        "    print(usuario)"
      ],
      "metadata": {
        "colab": {
          "base_uri": "https://localhost:8080/"
        },
        "id": "x2jJZLGHYa-r",
        "outputId": "1366ed6e-71e1-4402-fec8-1ed4dba7bfed"
      },
      "execution_count": 7,
      "outputs": [
        {
          "output_type": "stream",
          "name": "stdout",
          "text": [
            "(1, 'Ana', 22, 'Arrquitetura')\n",
            "(2, 'João', 23, 'Engenharia')\n",
            "(3, 'Antonio', 28, 'Medicina')\n",
            "(4, 'Gabriela', 19, 'Engenharia')\n",
            "(5, 'Anthony', 23, 'Engenharia')\n",
            "(6, 'Caio', 30, 'Enfermagem')\n",
            "(7, 'Anthony', 18, 'Contabilidade')\n"
          ]
        }
      ]
    },
    {
      "cell_type": "code",
      "source": [
        "# B\n",
        "mostrar = cursor.execute('SELECT nome, idade FROM alunos WHERE idade > 20')\n",
        "for usuario in mostrar:\n",
        "    print(usuario)"
      ],
      "metadata": {
        "colab": {
          "base_uri": "https://localhost:8080/"
        },
        "id": "asG2qaHPYyDd",
        "outputId": "9e0a7b80-63ec-41cf-ae76-b9b5c6ef29ce"
      },
      "execution_count": 8,
      "outputs": [
        {
          "output_type": "stream",
          "name": "stdout",
          "text": [
            "('Ana', 22)\n",
            "('João', 23)\n",
            "('Antonio', 28)\n",
            "('Anthony', 23)\n",
            "('Caio', 30)\n"
          ]
        }
      ]
    },
    {
      "cell_type": "code",
      "source": [
        "#C\n",
        "mostrar = cursor.execute('SELECT nome FROM alunos WHERE curso = \"Engenharia\" ORDER BY nome ASC')\n",
        "for usuario in mostrar:\n",
        "    print(usuario)"
      ],
      "metadata": {
        "colab": {
          "base_uri": "https://localhost:8080/"
        },
        "id": "WXCs-Rw6ZDqt",
        "outputId": "f480dd6e-9088-4b9f-e8a4-a7efd099e6f4"
      },
      "execution_count": 9,
      "outputs": [
        {
          "output_type": "stream",
          "name": "stdout",
          "text": [
            "('Anthony',)\n",
            "('Gabriela',)\n",
            "('João',)\n"
          ]
        }
      ]
    },
    {
      "cell_type": "code",
      "source": [
        "# D\n",
        "mostrar = cursor.execute('SELECT COUNT(nome) FROM alunos')\n",
        "for usuario in mostrar:\n",
        "    print(usuario)"
      ],
      "metadata": {
        "colab": {
          "base_uri": "https://localhost:8080/"
        },
        "id": "waSeA7vjZMW8",
        "outputId": "f069c685-07bd-4451-8dd2-b4cb69b63a66"
      },
      "execution_count": 10,
      "outputs": [
        {
          "output_type": "stream",
          "name": "stdout",
          "text": [
            "(7,)\n"
          ]
        }
      ]
    },
    {
      "cell_type": "markdown",
      "source": [
        "### 4. Atualização e Remoção\n",
        "a) Atualize a idade de um aluno específico na tabela.\n",
        "\n",
        "b) Remova um aluno pelo seu ID.\n"
      ],
      "metadata": {
        "id": "SkkzbhfjZl8m"
      }
    },
    {
      "cell_type": "code",
      "source": [
        "# a\n",
        "cursor.execute('UPDATE alunos SET idade = 25 WHERE id = 1')\n",
        "mostrar = cursor.execute('SELECT * FROM alunos')\n",
        "for usuario in mostrar:\n",
        "    print(usuario)"
      ],
      "metadata": {
        "colab": {
          "base_uri": "https://localhost:8080/"
        },
        "id": "7KF48aQgZoTk",
        "outputId": "727ce7f7-a0f7-4b26-d503-3040b4b02bfb"
      },
      "execution_count": 11,
      "outputs": [
        {
          "output_type": "stream",
          "name": "stdout",
          "text": [
            "(1, 'Ana', 25, 'Arrquitetura')\n",
            "(2, 'João', 23, 'Engenharia')\n",
            "(3, 'Antonio', 28, 'Medicina')\n",
            "(4, 'Gabriela', 19, 'Engenharia')\n",
            "(5, 'Anthony', 23, 'Engenharia')\n",
            "(6, 'Caio', 30, 'Enfermagem')\n",
            "(7, 'Anthony', 18, 'Contabilidade')\n"
          ]
        }
      ]
    },
    {
      "cell_type": "code",
      "source": [
        "#\n",
        "cursor.execute('DELETE FROM alunos WHERE id = 1')\n",
        "mostrar = cursor.execute('SELECT * FROM alunos')\n",
        "for usuario in mostrar:\n",
        "    print(usuario)"
      ],
      "metadata": {
        "colab": {
          "base_uri": "https://localhost:8080/"
        },
        "id": "ph_4gHj7Zvr8",
        "outputId": "312a99f5-9b64-4dfb-a4fe-a70442ddfa43"
      },
      "execution_count": 12,
      "outputs": [
        {
          "output_type": "stream",
          "name": "stdout",
          "text": [
            "(2, 'João', 23, 'Engenharia')\n",
            "(3, 'Antonio', 28, 'Medicina')\n",
            "(4, 'Gabriela', 19, 'Engenharia')\n",
            "(5, 'Anthony', 23, 'Engenharia')\n",
            "(6, 'Caio', 30, 'Enfermagem')\n",
            "(7, 'Anthony', 18, 'Contabilidade')\n"
          ]
        }
      ]
    },
    {
      "cell_type": "markdown",
      "source": [
        "### 5. Criar uma Tabela e Inserir Dados\n",
        "Crie uma tabela chamada \"clientes\" com os campos: id (chave\n",
        "primária), nome (texto), idade (inteiro) e saldo (float).\n",
        "\n",
        "Insira alguns registros de clientes na tabela.\n"
      ],
      "metadata": {
        "id": "y3SeLhOqZ0e9"
      }
    },
    {
      "cell_type": "code",
      "source": [
        "import sqlite3\n",
        "\n",
        "# Establish a new connection (overwrites the existing 'conexao' variable)\n",
        "conexao = sqlite3.connect('clientes')\n",
        "cursor = conexao.cursor()\n",
        "\n",
        "#cursor.execute('CREATE TABLE clientes(id INT, nome VARCHAR(100), idade INT, saldo FLT);')\n",
        "cursor.execute('INSERT INTO clientes(id,nome,idade,saldo) VALUES(1,\"Ana\",27,1500.60)')\n",
        "cursor.execute('INSERT INTO clientes(id,nome,idade,saldo) VALUES(2,\"João\",59,200.50)')\n",
        "cursor.execute('INSERT INTO clientes(id,nome,idade,saldo) VALUES(3,\"Carlos\",45,1000.00)')\n",
        "cursor.execute('INSERT INTO clientes(id,nome,idade,saldo) VALUES(4,\"Gabriela\",32,525.75)')\n",
        "cursor.execute('INSERT INTO clientes(id,nome,idade,saldo) VALUES(5,\"Anthony\",23,1020.40)')\n",
        "cursor.execute('INSERT INTO clientes(id,nome,idade,saldo) VALUES(5,\"Eduardo\",21,79.00)')\n",
        "\n"
      ],
      "metadata": {
        "colab": {
          "base_uri": "https://localhost:8080/"
        },
        "id": "IIptg5uAZ7_F",
        "outputId": "29152c49-ebf3-41cd-c3a1-a7b46ee447f9"
      },
      "execution_count": 27,
      "outputs": [
        {
          "output_type": "execute_result",
          "data": {
            "text/plain": [
              "<sqlite3.Cursor at 0x79aced8ea340>"
            ]
          },
          "metadata": {},
          "execution_count": 27
        }
      ]
    },
    {
      "cell_type": "code",
      "source": [
        "mostrar = cursor.execute('SELECT * FROM clientes')\n",
        "for clientes in mostrar:\n",
        "    print(clientes)"
      ],
      "metadata": {
        "colab": {
          "base_uri": "https://localhost:8080/"
        },
        "id": "xiWVWLTRbWW_",
        "outputId": "02b62798-ce44-4db0-d890-7aabcadcc918"
      },
      "execution_count": 28,
      "outputs": [
        {
          "output_type": "stream",
          "name": "stdout",
          "text": [
            "(1, 'Ana', 27, 1500.6)\n",
            "(2, 'João', 59, 200.5)\n",
            "(3, 'Carlos', 45, 1000)\n",
            "(4, 'Gabriela', 32, 525.75)\n",
            "(5, 'Anthony', 23, 1020.4)\n",
            "(5, 'Eduardo', 21, 79)\n"
          ]
        }
      ]
    },
    {
      "cell_type": "markdown",
      "source": [
        "### 6. Consultas e Funções Agregadas\n",
        "Escreva consultas SQL para realizar as seguintes tarefas:\n",
        "\n",
        "a) Selecione o nome e a idade dos clientes com idade superior a\n",
        "30 anos.\n",
        "\n",
        "b) Calcule o saldo médio dos clientes.\n",
        "\n",
        "c) Encontre o cliente com o saldo máximo.\n",
        "\n",
        "d) Conte quantos clientes têm saldo acima de 1000.\n"
      ],
      "metadata": {
        "id": "adoOGpygbRPH"
      }
    },
    {
      "cell_type": "code",
      "source": [
        "# a\n",
        "mostrar = cursor.execute('SELECT nome, idade FROM clientes WHERE idade > 30')\n",
        "for clientes in mostrar:\n",
        "    print(clientes)"
      ],
      "metadata": {
        "colab": {
          "base_uri": "https://localhost:8080/"
        },
        "id": "sFqsPq30cbJ0",
        "outputId": "ec6a325d-810b-48b5-975d-237e3e0738df"
      },
      "execution_count": 29,
      "outputs": [
        {
          "output_type": "stream",
          "name": "stdout",
          "text": [
            "('João', 59)\n",
            "('Carlos', 45)\n",
            "('Gabriela', 32)\n"
          ]
        }
      ]
    },
    {
      "cell_type": "code",
      "source": [
        "# b\n",
        "mostrar = cursor.execute('SELECT AVG(saldo) FROM clientes')\n",
        "for clientes in mostrar:\n",
        "    print(clientes)"
      ],
      "metadata": {
        "colab": {
          "base_uri": "https://localhost:8080/"
        },
        "id": "yn52iA6occ4N",
        "outputId": "cb94f980-e0fb-48ce-e629-919e362eea78"
      },
      "execution_count": 30,
      "outputs": [
        {
          "output_type": "stream",
          "name": "stdout",
          "text": [
            "(721.0416666666666,)\n"
          ]
        }
      ]
    },
    {
      "cell_type": "code",
      "source": [
        "# c\n",
        "mostrar = cursor.execute('SELECT nome FROM clientes WHERE saldo = (SELECT MAX(saldo) FROM clientes)')\n",
        "for clientes in mostrar:\n",
        "    print(clientes)"
      ],
      "metadata": {
        "colab": {
          "base_uri": "https://localhost:8080/"
        },
        "id": "pjW2JqAmcf8k",
        "outputId": "de599a94-0754-44d8-d810-618b54b17827"
      },
      "execution_count": 31,
      "outputs": [
        {
          "output_type": "stream",
          "name": "stdout",
          "text": [
            "('Ana',)\n"
          ]
        }
      ]
    },
    {
      "cell_type": "code",
      "source": [
        "# d\n",
        "mostrar = cursor.execute('SELECT COUNT(nome) FROM clientes WHERE saldo > 1000')\n",
        "for clientes in mostrar:\n",
        "    print(clientes)"
      ],
      "metadata": {
        "colab": {
          "base_uri": "https://localhost:8080/"
        },
        "id": "36szdF7IciuU",
        "outputId": "409d49fe-9e43-40f0-a0fd-5afff54c32eb"
      },
      "execution_count": 32,
      "outputs": [
        {
          "output_type": "stream",
          "name": "stdout",
          "text": [
            "(2,)\n"
          ]
        }
      ]
    },
    {
      "cell_type": "markdown",
      "source": [
        "### 7. Atualização e Remoção com Condições\n",
        "a) Atualize o saldo de um cliente específico.\n",
        "\n",
        "b) Remova um cliente pelo seu ID."
      ],
      "metadata": {
        "id": "aiLSjFHEcpCe"
      }
    },
    {
      "cell_type": "code",
      "source": [
        "# a\n",
        "cursor.execute('UPDATE clientes SET saldo = 1200.00 WHERE id = 1')\n",
        "mostrar = cursor.execute('SELECT * FROM clientes')\n",
        "for clientes in mostrar:\n",
        "    print(clientes)"
      ],
      "metadata": {
        "colab": {
          "base_uri": "https://localhost:8080/"
        },
        "id": "MVptY-cBcqw9",
        "outputId": "57a6c4e4-b62f-4ae8-bb84-861851fc0703"
      },
      "execution_count": 33,
      "outputs": [
        {
          "output_type": "stream",
          "name": "stdout",
          "text": [
            "(1, 'Ana', 27, 1200)\n",
            "(2, 'João', 59, 200.5)\n",
            "(3, 'Carlos', 45, 1000)\n",
            "(4, 'Gabriela', 32, 525.75)\n",
            "(5, 'Anthony', 23, 1020.4)\n",
            "(5, 'Eduardo', 21, 79)\n"
          ]
        }
      ]
    },
    {
      "cell_type": "code",
      "source": [
        "# b\n",
        "cursor.execute('DELETE FROM clientes WHERE id = 1')\n",
        "mostrar = cursor.execute('SELECT * FROM clientes')\n",
        "for clientes in mostrar:\n",
        "    print(clientes)"
      ],
      "metadata": {
        "colab": {
          "base_uri": "https://localhost:8080/"
        },
        "id": "yZOxTZ-LcsK9",
        "outputId": "e537300a-3680-4afd-d0b9-afc7db6ca41d"
      },
      "execution_count": 34,
      "outputs": [
        {
          "output_type": "stream",
          "name": "stdout",
          "text": [
            "(2, 'João', 59, 200.5)\n",
            "(3, 'Carlos', 45, 1000)\n",
            "(4, 'Gabriela', 32, 525.75)\n",
            "(5, 'Anthony', 23, 1020.4)\n",
            "(5, 'Eduardo', 21, 79)\n"
          ]
        }
      ]
    },
    {
      "cell_type": "markdown",
      "source": [
        "### 8. Junção de Tabelas\n",
        "Crie uma segunda tabela chamada \"compras\" com os campos: id\n",
        "(chave primária), cliente_id (chave estrangeira referenciando o id\n",
        "da tabela \"clientes\"), produto (texto) e valor (real).\n",
        "\n",
        "\n",
        "Insira algumas compras associadas a clientes existentes na tabela \"clientes\".\n",
        "\n",
        "Escreva uma consulta para exibir o nome do cliente, o produto e o\n",
        "valor de cada compra."
      ],
      "metadata": {
        "id": "deswpIWRcxHd"
      }
    },
    {
      "cell_type": "code",
      "source": [
        "cursor.execute('CREATE TABLE compras(id INT PRIMARY KEY, cliente_id INT, produto VARCHAR(100), valor FLT, FOREIGN KEY (cliente_id) REFERENCES clientes(id));')\n",
        "\n",
        "cursor.execute('INSERT INTO compras(cliente_id, produto, valor) VALUES(1, \"Smartphone\", 1500.00)')\n",
        "cursor.execute('INSERT INTO compras(cliente_id, produto, valor) VALUES(2, \"Notebook\", 2500.00)')\n",
        "cursor.execute('INSERT INTO compras(cliente_id, produto, valor) VALUES(3, \"Tablet\", 1200.50)')\n",
        "cursor.execute('INSERT INTO compras(cliente_id, produto, valor) VALUES(5, \"Smartphone\", 1800.00)')\n",
        "cursor.execute('INSERT INTO compras(cliente_id, produto, valor) VALUES(2, \"Monitor\", 800.75)')\n",
        "\n",
        "mostrar = cursor.execute('SELECT clientes.nome, compras.produto, compras.valor FROM compras JOIN clientes ON compras.cliente_id = clientes.id')\n",
        "\n",
        "for row in mostrar:\n",
        "    print(row)\n",
        "\n",
        "conexao.commit()\n",
        "conexao.close()\n"
      ],
      "metadata": {
        "colab": {
          "base_uri": "https://localhost:8080/"
        },
        "id": "S8dCMEi8czEN",
        "outputId": "23d8a4e1-1e4b-4e34-c035-1ad863f14604"
      },
      "execution_count": 35,
      "outputs": [
        {
          "output_type": "stream",
          "name": "stdout",
          "text": [
            "('João', 'Notebook', 2500.0)\n",
            "('Carlos', 'Tablet', 1200.5)\n",
            "('Anthony', 'Smartphone', 1800.0)\n",
            "('Eduardo', 'Smartphone', 1800.0)\n",
            "('João', 'Monitor', 800.75)\n"
          ]
        }
      ]
    }
  ]
}