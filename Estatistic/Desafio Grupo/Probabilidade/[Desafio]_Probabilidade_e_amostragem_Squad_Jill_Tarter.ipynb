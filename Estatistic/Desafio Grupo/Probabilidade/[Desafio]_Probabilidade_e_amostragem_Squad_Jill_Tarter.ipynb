{
  "nbformat": 4,
  "nbformat_minor": 0,
  "metadata": {
    "colab": {
      "provenance": []
    },
    "kernelspec": {
      "name": "python3",
      "display_name": "Python 3"
    },
    "language_info": {
      "name": "python"
    }
  },
  "cells": [
    {
      "cell_type": "markdown",
      "source": [
        "#**Desafio: Probabilidade e Amostragem**"
      ],
      "metadata": {
        "id": "l-dcSQn6iNeM"
      }
    },
    {
      "cell_type": "markdown",
      "source": [
        "### Importação das bibliotecas"
      ],
      "metadata": {
        "id": "tL_vS_b2UNLk"
      }
    },
    {
      "cell_type": "code",
      "execution_count": null,
      "metadata": {
        "id": "chCYZsyBSrSI"
      },
      "outputs": [],
      "source": [
        "### para manipulação dos dados em python\n",
        "import pandas as pd\n",
        "import numpy as np\n",
        "\n",
        "### para visualizacao de dados\n",
        "import seaborn as sns\n",
        "import matplotlib.pyplot as plt\n",
        "\n",
        "### bibliotecas para estatística\n",
        "import scipy.stats as stats\n",
        "import math"
      ]
    },
    {
      "cell_type": "markdown",
      "source": [
        "\n",
        "\n",
        "---\n",
        "\n"
      ],
      "metadata": {
        "id": "U65M3rfmURTs"
      }
    },
    {
      "cell_type": "markdown",
      "source": [
        "##**Desafio 1: Entendendo o Consumidor**"
      ],
      "metadata": {
        "id": "rd-RclezkEi7"
      }
    },
    {
      "cell_type": "markdown",
      "source": [
        "### Abrindo e lendo o arquivo"
      ],
      "metadata": {
        "id": "oJPIWMR0UWfk"
      }
    },
    {
      "cell_type": "markdown",
      "source": [
        "Clicar no link e baixar o arquivo na sua máquina: https://drive.google.com/file/d/1EHiD_jSQ_vJ8iSN189qCrd1AT3FaWrdA/view?usp=sharing"
      ],
      "metadata": {
        "id": "0h0UK1Oaiw6T"
      }
    },
    {
      "cell_type": "code",
      "source": [
        "#Após rodar o código, clique em \"Escolher arquivos\" para importar o arquivo que você baixou\n",
        "from google.colab import files\n",
        "uploaded = files.upload()"
      ],
      "metadata": {
        "colab": {
          "base_uri": "https://localhost:8080/",
          "height": 73
        },
        "id": "ODGAtZ_njksM",
        "outputId": "2e0c973d-bdb7-4155-e657-bf344651dafc"
      },
      "execution_count": null,
      "outputs": [
        {
          "output_type": "display_data",
          "data": {
            "text/plain": [
              "<IPython.core.display.HTML object>"
            ],
            "text/html": [
              "\n",
              "     <input type=\"file\" id=\"files-ce06a08b-5af4-423f-9032-03bc9267d722\" name=\"files[]\" multiple disabled\n",
              "        style=\"border:none\" />\n",
              "     <output id=\"result-ce06a08b-5af4-423f-9032-03bc9267d722\">\n",
              "      Upload widget is only available when the cell has been executed in the\n",
              "      current browser session. Please rerun this cell to enable.\n",
              "      </output>\n",
              "      <script>// Copyright 2017 Google LLC\n",
              "//\n",
              "// Licensed under the Apache License, Version 2.0 (the \"License\");\n",
              "// you may not use this file except in compliance with the License.\n",
              "// You may obtain a copy of the License at\n",
              "//\n",
              "//      http://www.apache.org/licenses/LICENSE-2.0\n",
              "//\n",
              "// Unless required by applicable law or agreed to in writing, software\n",
              "// distributed under the License is distributed on an \"AS IS\" BASIS,\n",
              "// WITHOUT WARRANTIES OR CONDITIONS OF ANY KIND, either express or implied.\n",
              "// See the License for the specific language governing permissions and\n",
              "// limitations under the License.\n",
              "\n",
              "/**\n",
              " * @fileoverview Helpers for google.colab Python module.\n",
              " */\n",
              "(function(scope) {\n",
              "function span(text, styleAttributes = {}) {\n",
              "  const element = document.createElement('span');\n",
              "  element.textContent = text;\n",
              "  for (const key of Object.keys(styleAttributes)) {\n",
              "    element.style[key] = styleAttributes[key];\n",
              "  }\n",
              "  return element;\n",
              "}\n",
              "\n",
              "// Max number of bytes which will be uploaded at a time.\n",
              "const MAX_PAYLOAD_SIZE = 100 * 1024;\n",
              "\n",
              "function _uploadFiles(inputId, outputId) {\n",
              "  const steps = uploadFilesStep(inputId, outputId);\n",
              "  const outputElement = document.getElementById(outputId);\n",
              "  // Cache steps on the outputElement to make it available for the next call\n",
              "  // to uploadFilesContinue from Python.\n",
              "  outputElement.steps = steps;\n",
              "\n",
              "  return _uploadFilesContinue(outputId);\n",
              "}\n",
              "\n",
              "// This is roughly an async generator (not supported in the browser yet),\n",
              "// where there are multiple asynchronous steps and the Python side is going\n",
              "// to poll for completion of each step.\n",
              "// This uses a Promise to block the python side on completion of each step,\n",
              "// then passes the result of the previous step as the input to the next step.\n",
              "function _uploadFilesContinue(outputId) {\n",
              "  const outputElement = document.getElementById(outputId);\n",
              "  const steps = outputElement.steps;\n",
              "\n",
              "  const next = steps.next(outputElement.lastPromiseValue);\n",
              "  return Promise.resolve(next.value.promise).then((value) => {\n",
              "    // Cache the last promise value to make it available to the next\n",
              "    // step of the generator.\n",
              "    outputElement.lastPromiseValue = value;\n",
              "    return next.value.response;\n",
              "  });\n",
              "}\n",
              "\n",
              "/**\n",
              " * Generator function which is called between each async step of the upload\n",
              " * process.\n",
              " * @param {string} inputId Element ID of the input file picker element.\n",
              " * @param {string} outputId Element ID of the output display.\n",
              " * @return {!Iterable<!Object>} Iterable of next steps.\n",
              " */\n",
              "function* uploadFilesStep(inputId, outputId) {\n",
              "  const inputElement = document.getElementById(inputId);\n",
              "  inputElement.disabled = false;\n",
              "\n",
              "  const outputElement = document.getElementById(outputId);\n",
              "  outputElement.innerHTML = '';\n",
              "\n",
              "  const pickedPromise = new Promise((resolve) => {\n",
              "    inputElement.addEventListener('change', (e) => {\n",
              "      resolve(e.target.files);\n",
              "    });\n",
              "  });\n",
              "\n",
              "  const cancel = document.createElement('button');\n",
              "  inputElement.parentElement.appendChild(cancel);\n",
              "  cancel.textContent = 'Cancel upload';\n",
              "  const cancelPromise = new Promise((resolve) => {\n",
              "    cancel.onclick = () => {\n",
              "      resolve(null);\n",
              "    };\n",
              "  });\n",
              "\n",
              "  // Wait for the user to pick the files.\n",
              "  const files = yield {\n",
              "    promise: Promise.race([pickedPromise, cancelPromise]),\n",
              "    response: {\n",
              "      action: 'starting',\n",
              "    }\n",
              "  };\n",
              "\n",
              "  cancel.remove();\n",
              "\n",
              "  // Disable the input element since further picks are not allowed.\n",
              "  inputElement.disabled = true;\n",
              "\n",
              "  if (!files) {\n",
              "    return {\n",
              "      response: {\n",
              "        action: 'complete',\n",
              "      }\n",
              "    };\n",
              "  }\n",
              "\n",
              "  for (const file of files) {\n",
              "    const li = document.createElement('li');\n",
              "    li.append(span(file.name, {fontWeight: 'bold'}));\n",
              "    li.append(span(\n",
              "        `(${file.type || 'n/a'}) - ${file.size} bytes, ` +\n",
              "        `last modified: ${\n",
              "            file.lastModifiedDate ? file.lastModifiedDate.toLocaleDateString() :\n",
              "                                    'n/a'} - `));\n",
              "    const percent = span('0% done');\n",
              "    li.appendChild(percent);\n",
              "\n",
              "    outputElement.appendChild(li);\n",
              "\n",
              "    const fileDataPromise = new Promise((resolve) => {\n",
              "      const reader = new FileReader();\n",
              "      reader.onload = (e) => {\n",
              "        resolve(e.target.result);\n",
              "      };\n",
              "      reader.readAsArrayBuffer(file);\n",
              "    });\n",
              "    // Wait for the data to be ready.\n",
              "    let fileData = yield {\n",
              "      promise: fileDataPromise,\n",
              "      response: {\n",
              "        action: 'continue',\n",
              "      }\n",
              "    };\n",
              "\n",
              "    // Use a chunked sending to avoid message size limits. See b/62115660.\n",
              "    let position = 0;\n",
              "    do {\n",
              "      const length = Math.min(fileData.byteLength - position, MAX_PAYLOAD_SIZE);\n",
              "      const chunk = new Uint8Array(fileData, position, length);\n",
              "      position += length;\n",
              "\n",
              "      const base64 = btoa(String.fromCharCode.apply(null, chunk));\n",
              "      yield {\n",
              "        response: {\n",
              "          action: 'append',\n",
              "          file: file.name,\n",
              "          data: base64,\n",
              "        },\n",
              "      };\n",
              "\n",
              "      let percentDone = fileData.byteLength === 0 ?\n",
              "          100 :\n",
              "          Math.round((position / fileData.byteLength) * 100);\n",
              "      percent.textContent = `${percentDone}% done`;\n",
              "\n",
              "    } while (position < fileData.byteLength);\n",
              "  }\n",
              "\n",
              "  // All done.\n",
              "  yield {\n",
              "    response: {\n",
              "      action: 'complete',\n",
              "    }\n",
              "  };\n",
              "}\n",
              "\n",
              "scope.google = scope.google || {};\n",
              "scope.google.colab = scope.google.colab || {};\n",
              "scope.google.colab._files = {\n",
              "  _uploadFiles,\n",
              "  _uploadFilesContinue,\n",
              "};\n",
              "})(self);\n",
              "</script> "
            ]
          },
          "metadata": {}
        },
        {
          "output_type": "stream",
          "name": "stdout",
          "text": [
            "Saving desafio_01_consumidor.csv to desafio_01_consumidor.csv\n"
          ]
        }
      ]
    },
    {
      "cell_type": "code",
      "source": [
        "df_consumidor = pd.read_csv(\"desafio_01_consumidor.csv\", sep = \",\")\n",
        "df_consumidor.head()"
      ],
      "metadata": {
        "id": "QTRa1YldUPw1",
        "colab": {
          "base_uri": "https://localhost:8080/",
          "height": 206
        },
        "outputId": "d53d2de5-bd09-40cb-f9b4-d67e8f7afc68"
      },
      "execution_count": null,
      "outputs": [
        {
          "output_type": "execute_result",
          "data": {
            "text/plain": [
              "  id_cliente  idade  renda      produto     regiao-BR  pre-pandemia\n",
              "0  XXXXXXX72     30   7452        batom       Sudeste             1\n",
              "1  XXXXXXX15     59    837  desodorante      Nordeste             1\n",
              "2  XXXXXXX70     28   3231       sombra  Centro-Oeste             1\n",
              "3  XXXXXXX99     27   5409        batom           Sul             1\n",
              "4  XXXXXXX98     24   1142        batom       Sudeste             1"
            ],
            "text/html": [
              "\n",
              "  <div id=\"df-93595484-2ea4-40d8-bd10-23fcf62dfc20\" class=\"colab-df-container\">\n",
              "    <div>\n",
              "<style scoped>\n",
              "    .dataframe tbody tr th:only-of-type {\n",
              "        vertical-align: middle;\n",
              "    }\n",
              "\n",
              "    .dataframe tbody tr th {\n",
              "        vertical-align: top;\n",
              "    }\n",
              "\n",
              "    .dataframe thead th {\n",
              "        text-align: right;\n",
              "    }\n",
              "</style>\n",
              "<table border=\"1\" class=\"dataframe\">\n",
              "  <thead>\n",
              "    <tr style=\"text-align: right;\">\n",
              "      <th></th>\n",
              "      <th>id_cliente</th>\n",
              "      <th>idade</th>\n",
              "      <th>renda</th>\n",
              "      <th>produto</th>\n",
              "      <th>regiao-BR</th>\n",
              "      <th>pre-pandemia</th>\n",
              "    </tr>\n",
              "  </thead>\n",
              "  <tbody>\n",
              "    <tr>\n",
              "      <th>0</th>\n",
              "      <td>XXXXXXX72</td>\n",
              "      <td>30</td>\n",
              "      <td>7452</td>\n",
              "      <td>batom</td>\n",
              "      <td>Sudeste</td>\n",
              "      <td>1</td>\n",
              "    </tr>\n",
              "    <tr>\n",
              "      <th>1</th>\n",
              "      <td>XXXXXXX15</td>\n",
              "      <td>59</td>\n",
              "      <td>837</td>\n",
              "      <td>desodorante</td>\n",
              "      <td>Nordeste</td>\n",
              "      <td>1</td>\n",
              "    </tr>\n",
              "    <tr>\n",
              "      <th>2</th>\n",
              "      <td>XXXXXXX70</td>\n",
              "      <td>28</td>\n",
              "      <td>3231</td>\n",
              "      <td>sombra</td>\n",
              "      <td>Centro-Oeste</td>\n",
              "      <td>1</td>\n",
              "    </tr>\n",
              "    <tr>\n",
              "      <th>3</th>\n",
              "      <td>XXXXXXX99</td>\n",
              "      <td>27</td>\n",
              "      <td>5409</td>\n",
              "      <td>batom</td>\n",
              "      <td>Sul</td>\n",
              "      <td>1</td>\n",
              "    </tr>\n",
              "    <tr>\n",
              "      <th>4</th>\n",
              "      <td>XXXXXXX98</td>\n",
              "      <td>24</td>\n",
              "      <td>1142</td>\n",
              "      <td>batom</td>\n",
              "      <td>Sudeste</td>\n",
              "      <td>1</td>\n",
              "    </tr>\n",
              "  </tbody>\n",
              "</table>\n",
              "</div>\n",
              "    <div class=\"colab-df-buttons\">\n",
              "\n",
              "  <div class=\"colab-df-container\">\n",
              "    <button class=\"colab-df-convert\" onclick=\"convertToInteractive('df-93595484-2ea4-40d8-bd10-23fcf62dfc20')\"\n",
              "            title=\"Convert this dataframe to an interactive table.\"\n",
              "            style=\"display:none;\">\n",
              "\n",
              "  <svg xmlns=\"http://www.w3.org/2000/svg\" height=\"24px\" viewBox=\"0 -960 960 960\">\n",
              "    <path d=\"M120-120v-720h720v720H120Zm60-500h600v-160H180v160Zm220 220h160v-160H400v160Zm0 220h160v-160H400v160ZM180-400h160v-160H180v160Zm440 0h160v-160H620v160ZM180-180h160v-160H180v160Zm440 0h160v-160H620v160Z\"/>\n",
              "  </svg>\n",
              "    </button>\n",
              "\n",
              "  <style>\n",
              "    .colab-df-container {\n",
              "      display:flex;\n",
              "      gap: 12px;\n",
              "    }\n",
              "\n",
              "    .colab-df-convert {\n",
              "      background-color: #E8F0FE;\n",
              "      border: none;\n",
              "      border-radius: 50%;\n",
              "      cursor: pointer;\n",
              "      display: none;\n",
              "      fill: #1967D2;\n",
              "      height: 32px;\n",
              "      padding: 0 0 0 0;\n",
              "      width: 32px;\n",
              "    }\n",
              "\n",
              "    .colab-df-convert:hover {\n",
              "      background-color: #E2EBFA;\n",
              "      box-shadow: 0px 1px 2px rgba(60, 64, 67, 0.3), 0px 1px 3px 1px rgba(60, 64, 67, 0.15);\n",
              "      fill: #174EA6;\n",
              "    }\n",
              "\n",
              "    .colab-df-buttons div {\n",
              "      margin-bottom: 4px;\n",
              "    }\n",
              "\n",
              "    [theme=dark] .colab-df-convert {\n",
              "      background-color: #3B4455;\n",
              "      fill: #D2E3FC;\n",
              "    }\n",
              "\n",
              "    [theme=dark] .colab-df-convert:hover {\n",
              "      background-color: #434B5C;\n",
              "      box-shadow: 0px 1px 3px 1px rgba(0, 0, 0, 0.15);\n",
              "      filter: drop-shadow(0px 1px 2px rgba(0, 0, 0, 0.3));\n",
              "      fill: #FFFFFF;\n",
              "    }\n",
              "  </style>\n",
              "\n",
              "    <script>\n",
              "      const buttonEl =\n",
              "        document.querySelector('#df-93595484-2ea4-40d8-bd10-23fcf62dfc20 button.colab-df-convert');\n",
              "      buttonEl.style.display =\n",
              "        google.colab.kernel.accessAllowed ? 'block' : 'none';\n",
              "\n",
              "      async function convertToInteractive(key) {\n",
              "        const element = document.querySelector('#df-93595484-2ea4-40d8-bd10-23fcf62dfc20');\n",
              "        const dataTable =\n",
              "          await google.colab.kernel.invokeFunction('convertToInteractive',\n",
              "                                                    [key], {});\n",
              "        if (!dataTable) return;\n",
              "\n",
              "        const docLinkHtml = 'Like what you see? Visit the ' +\n",
              "          '<a target=\"_blank\" href=https://colab.research.google.com/notebooks/data_table.ipynb>data table notebook</a>'\n",
              "          + ' to learn more about interactive tables.';\n",
              "        element.innerHTML = '';\n",
              "        dataTable['output_type'] = 'display_data';\n",
              "        await google.colab.output.renderOutput(dataTable, element);\n",
              "        const docLink = document.createElement('div');\n",
              "        docLink.innerHTML = docLinkHtml;\n",
              "        element.appendChild(docLink);\n",
              "      }\n",
              "    </script>\n",
              "  </div>\n",
              "\n",
              "\n",
              "<div id=\"df-c24cfcd9-df83-4919-8dd8-2e86deb006cd\">\n",
              "  <button class=\"colab-df-quickchart\" onclick=\"quickchart('df-c24cfcd9-df83-4919-8dd8-2e86deb006cd')\"\n",
              "            title=\"Suggest charts\"\n",
              "            style=\"display:none;\">\n",
              "\n",
              "<svg xmlns=\"http://www.w3.org/2000/svg\" height=\"24px\"viewBox=\"0 0 24 24\"\n",
              "     width=\"24px\">\n",
              "    <g>\n",
              "        <path d=\"M19 3H5c-1.1 0-2 .9-2 2v14c0 1.1.9 2 2 2h14c1.1 0 2-.9 2-2V5c0-1.1-.9-2-2-2zM9 17H7v-7h2v7zm4 0h-2V7h2v10zm4 0h-2v-4h2v4z\"/>\n",
              "    </g>\n",
              "</svg>\n",
              "  </button>\n",
              "\n",
              "<style>\n",
              "  .colab-df-quickchart {\n",
              "      --bg-color: #E8F0FE;\n",
              "      --fill-color: #1967D2;\n",
              "      --hover-bg-color: #E2EBFA;\n",
              "      --hover-fill-color: #174EA6;\n",
              "      --disabled-fill-color: #AAA;\n",
              "      --disabled-bg-color: #DDD;\n",
              "  }\n",
              "\n",
              "  [theme=dark] .colab-df-quickchart {\n",
              "      --bg-color: #3B4455;\n",
              "      --fill-color: #D2E3FC;\n",
              "      --hover-bg-color: #434B5C;\n",
              "      --hover-fill-color: #FFFFFF;\n",
              "      --disabled-bg-color: #3B4455;\n",
              "      --disabled-fill-color: #666;\n",
              "  }\n",
              "\n",
              "  .colab-df-quickchart {\n",
              "    background-color: var(--bg-color);\n",
              "    border: none;\n",
              "    border-radius: 50%;\n",
              "    cursor: pointer;\n",
              "    display: none;\n",
              "    fill: var(--fill-color);\n",
              "    height: 32px;\n",
              "    padding: 0;\n",
              "    width: 32px;\n",
              "  }\n",
              "\n",
              "  .colab-df-quickchart:hover {\n",
              "    background-color: var(--hover-bg-color);\n",
              "    box-shadow: 0 1px 2px rgba(60, 64, 67, 0.3), 0 1px 3px 1px rgba(60, 64, 67, 0.15);\n",
              "    fill: var(--button-hover-fill-color);\n",
              "  }\n",
              "\n",
              "  .colab-df-quickchart-complete:disabled,\n",
              "  .colab-df-quickchart-complete:disabled:hover {\n",
              "    background-color: var(--disabled-bg-color);\n",
              "    fill: var(--disabled-fill-color);\n",
              "    box-shadow: none;\n",
              "  }\n",
              "\n",
              "  .colab-df-spinner {\n",
              "    border: 2px solid var(--fill-color);\n",
              "    border-color: transparent;\n",
              "    border-bottom-color: var(--fill-color);\n",
              "    animation:\n",
              "      spin 1s steps(1) infinite;\n",
              "  }\n",
              "\n",
              "  @keyframes spin {\n",
              "    0% {\n",
              "      border-color: transparent;\n",
              "      border-bottom-color: var(--fill-color);\n",
              "      border-left-color: var(--fill-color);\n",
              "    }\n",
              "    20% {\n",
              "      border-color: transparent;\n",
              "      border-left-color: var(--fill-color);\n",
              "      border-top-color: var(--fill-color);\n",
              "    }\n",
              "    30% {\n",
              "      border-color: transparent;\n",
              "      border-left-color: var(--fill-color);\n",
              "      border-top-color: var(--fill-color);\n",
              "      border-right-color: var(--fill-color);\n",
              "    }\n",
              "    40% {\n",
              "      border-color: transparent;\n",
              "      border-right-color: var(--fill-color);\n",
              "      border-top-color: var(--fill-color);\n",
              "    }\n",
              "    60% {\n",
              "      border-color: transparent;\n",
              "      border-right-color: var(--fill-color);\n",
              "    }\n",
              "    80% {\n",
              "      border-color: transparent;\n",
              "      border-right-color: var(--fill-color);\n",
              "      border-bottom-color: var(--fill-color);\n",
              "    }\n",
              "    90% {\n",
              "      border-color: transparent;\n",
              "      border-bottom-color: var(--fill-color);\n",
              "    }\n",
              "  }\n",
              "</style>\n",
              "\n",
              "  <script>\n",
              "    async function quickchart(key) {\n",
              "      const quickchartButtonEl =\n",
              "        document.querySelector('#' + key + ' button');\n",
              "      quickchartButtonEl.disabled = true;  // To prevent multiple clicks.\n",
              "      quickchartButtonEl.classList.add('colab-df-spinner');\n",
              "      try {\n",
              "        const charts = await google.colab.kernel.invokeFunction(\n",
              "            'suggestCharts', [key], {});\n",
              "      } catch (error) {\n",
              "        console.error('Error during call to suggestCharts:', error);\n",
              "      }\n",
              "      quickchartButtonEl.classList.remove('colab-df-spinner');\n",
              "      quickchartButtonEl.classList.add('colab-df-quickchart-complete');\n",
              "    }\n",
              "    (() => {\n",
              "      let quickchartButtonEl =\n",
              "        document.querySelector('#df-c24cfcd9-df83-4919-8dd8-2e86deb006cd button');\n",
              "      quickchartButtonEl.style.display =\n",
              "        google.colab.kernel.accessAllowed ? 'block' : 'none';\n",
              "    })();\n",
              "  </script>\n",
              "</div>\n",
              "\n",
              "    </div>\n",
              "  </div>\n"
            ],
            "application/vnd.google.colaboratory.intrinsic+json": {
              "type": "dataframe",
              "variable_name": "df_consumidor",
              "summary": "{\n  \"name\": \"df_consumidor\",\n  \"rows\": 203,\n  \"fields\": [\n    {\n      \"column\": \"id_cliente\",\n      \"properties\": {\n        \"dtype\": \"category\",\n        \"num_unique_values\": 82,\n        \"samples\": [\n          \"XXXXXXX37\",\n          \"XXXXXXX72\",\n          \"XXXXXXX17\"\n        ],\n        \"semantic_type\": \"\",\n        \"description\": \"\"\n      }\n    },\n    {\n      \"column\": \"idade\",\n      \"properties\": {\n        \"dtype\": \"number\",\n        \"std\": 14,\n        \"min\": 15,\n        \"max\": 80,\n        \"num_unique_values\": 58,\n        \"samples\": [\n          30,\n          29,\n          43\n        ],\n        \"semantic_type\": \"\",\n        \"description\": \"\"\n      }\n    },\n    {\n      \"column\": \"renda\",\n      \"properties\": {\n        \"dtype\": \"number\",\n        \"std\": 6288,\n        \"min\": 110,\n        \"max\": 30000,\n        \"num_unique_values\": 202,\n        \"samples\": [\n          7996,\n          6366,\n          2558\n        ],\n        \"semantic_type\": \"\",\n        \"description\": \"\"\n      }\n    },\n    {\n      \"column\": \"produto\",\n      \"properties\": {\n        \"dtype\": \"category\",\n        \"num_unique_values\": 6,\n        \"samples\": [\n          \"batom\",\n          \"desodorante\",\n          \"base\"\n        ],\n        \"semantic_type\": \"\",\n        \"description\": \"\"\n      }\n    },\n    {\n      \"column\": \"regiao-BR\",\n      \"properties\": {\n        \"dtype\": \"category\",\n        \"num_unique_values\": 5,\n        \"samples\": [\n          \"Nordeste\",\n          \"Norte\",\n          \"Centro-Oeste\"\n        ],\n        \"semantic_type\": \"\",\n        \"description\": \"\"\n      }\n    },\n    {\n      \"column\": \"pre-pandemia\",\n      \"properties\": {\n        \"dtype\": \"number\",\n        \"std\": 0,\n        \"min\": 0,\n        \"max\": 1,\n        \"num_unique_values\": 2,\n        \"samples\": [\n          0,\n          1\n        ],\n        \"semantic_type\": \"\",\n        \"description\": \"\"\n      }\n    }\n  ]\n}"
            }
          },
          "metadata": {},
          "execution_count": 3
        }
      ]
    },
    {
      "cell_type": "code",
      "source": [
        "\n",
        "df_consumidor.shape"
      ],
      "metadata": {
        "colab": {
          "base_uri": "https://localhost:8080/"
        },
        "id": "38lK_Q6Wib_w",
        "outputId": "13f3ca0f-524f-4c74-9e82-03d1732ab3d2"
      },
      "execution_count": null,
      "outputs": [
        {
          "output_type": "execute_result",
          "data": {
            "text/plain": [
              "(203, 6)"
            ]
          },
          "metadata": {},
          "execution_count": 4
        }
      ]
    },
    {
      "cell_type": "code",
      "source": [
        "df_consumidor.dtypes"
      ],
      "metadata": {
        "colab": {
          "base_uri": "https://localhost:8080/",
          "height": 272
        },
        "id": "0hu1Hn-GU-6n",
        "outputId": "33a884da-95cf-4202-85a7-d9271c0a47ec"
      },
      "execution_count": null,
      "outputs": [
        {
          "output_type": "execute_result",
          "data": {
            "text/plain": [
              "id_cliente      object\n",
              "idade            int64\n",
              "renda            int64\n",
              "produto         object\n",
              "regiao-BR       object\n",
              "pre-pandemia     int64\n",
              "dtype: object"
            ],
            "text/html": [
              "<div>\n",
              "<style scoped>\n",
              "    .dataframe tbody tr th:only-of-type {\n",
              "        vertical-align: middle;\n",
              "    }\n",
              "\n",
              "    .dataframe tbody tr th {\n",
              "        vertical-align: top;\n",
              "    }\n",
              "\n",
              "    .dataframe thead th {\n",
              "        text-align: right;\n",
              "    }\n",
              "</style>\n",
              "<table border=\"1\" class=\"dataframe\">\n",
              "  <thead>\n",
              "    <tr style=\"text-align: right;\">\n",
              "      <th></th>\n",
              "      <th>0</th>\n",
              "    </tr>\n",
              "  </thead>\n",
              "  <tbody>\n",
              "    <tr>\n",
              "      <th>id_cliente</th>\n",
              "      <td>object</td>\n",
              "    </tr>\n",
              "    <tr>\n",
              "      <th>idade</th>\n",
              "      <td>int64</td>\n",
              "    </tr>\n",
              "    <tr>\n",
              "      <th>renda</th>\n",
              "      <td>int64</td>\n",
              "    </tr>\n",
              "    <tr>\n",
              "      <th>produto</th>\n",
              "      <td>object</td>\n",
              "    </tr>\n",
              "    <tr>\n",
              "      <th>regiao-BR</th>\n",
              "      <td>object</td>\n",
              "    </tr>\n",
              "    <tr>\n",
              "      <th>pre-pandemia</th>\n",
              "      <td>int64</td>\n",
              "    </tr>\n",
              "  </tbody>\n",
              "</table>\n",
              "</div><br><label><b>dtype:</b> object</label>"
            ]
          },
          "metadata": {},
          "execution_count": 5
        }
      ]
    },
    {
      "cell_type": "code",
      "source": [
        "df_consumidor.describe()"
      ],
      "metadata": {
        "colab": {
          "base_uri": "https://localhost:8080/",
          "height": 300
        },
        "id": "pv7JKimBievI",
        "outputId": "860f8cfb-23cf-43e2-8169-c193eb488e2a"
      },
      "execution_count": null,
      "outputs": [
        {
          "output_type": "execute_result",
          "data": {
            "text/plain": [
              "            idade         renda  pre-pandemia\n",
              "count  203.000000    203.000000    203.000000\n",
              "mean    42.403941  11586.364532      0.497537\n",
              "std     14.400715   6288.016708      0.501230\n",
              "min     15.000000    110.000000      0.000000\n",
              "25%     31.000000   6705.000000      0.000000\n",
              "50%     41.000000  11145.000000      0.000000\n",
              "75%     53.000000  15590.500000      1.000000\n",
              "max     80.000000  30000.000000      1.000000"
            ],
            "text/html": [
              "\n",
              "  <div id=\"df-d2fdcc44-8e00-4e07-8b42-9aa305c918eb\" class=\"colab-df-container\">\n",
              "    <div>\n",
              "<style scoped>\n",
              "    .dataframe tbody tr th:only-of-type {\n",
              "        vertical-align: middle;\n",
              "    }\n",
              "\n",
              "    .dataframe tbody tr th {\n",
              "        vertical-align: top;\n",
              "    }\n",
              "\n",
              "    .dataframe thead th {\n",
              "        text-align: right;\n",
              "    }\n",
              "</style>\n",
              "<table border=\"1\" class=\"dataframe\">\n",
              "  <thead>\n",
              "    <tr style=\"text-align: right;\">\n",
              "      <th></th>\n",
              "      <th>idade</th>\n",
              "      <th>renda</th>\n",
              "      <th>pre-pandemia</th>\n",
              "    </tr>\n",
              "  </thead>\n",
              "  <tbody>\n",
              "    <tr>\n",
              "      <th>count</th>\n",
              "      <td>203.000000</td>\n",
              "      <td>203.000000</td>\n",
              "      <td>203.000000</td>\n",
              "    </tr>\n",
              "    <tr>\n",
              "      <th>mean</th>\n",
              "      <td>42.403941</td>\n",
              "      <td>11586.364532</td>\n",
              "      <td>0.497537</td>\n",
              "    </tr>\n",
              "    <tr>\n",
              "      <th>std</th>\n",
              "      <td>14.400715</td>\n",
              "      <td>6288.016708</td>\n",
              "      <td>0.501230</td>\n",
              "    </tr>\n",
              "    <tr>\n",
              "      <th>min</th>\n",
              "      <td>15.000000</td>\n",
              "      <td>110.000000</td>\n",
              "      <td>0.000000</td>\n",
              "    </tr>\n",
              "    <tr>\n",
              "      <th>25%</th>\n",
              "      <td>31.000000</td>\n",
              "      <td>6705.000000</td>\n",
              "      <td>0.000000</td>\n",
              "    </tr>\n",
              "    <tr>\n",
              "      <th>50%</th>\n",
              "      <td>41.000000</td>\n",
              "      <td>11145.000000</td>\n",
              "      <td>0.000000</td>\n",
              "    </tr>\n",
              "    <tr>\n",
              "      <th>75%</th>\n",
              "      <td>53.000000</td>\n",
              "      <td>15590.500000</td>\n",
              "      <td>1.000000</td>\n",
              "    </tr>\n",
              "    <tr>\n",
              "      <th>max</th>\n",
              "      <td>80.000000</td>\n",
              "      <td>30000.000000</td>\n",
              "      <td>1.000000</td>\n",
              "    </tr>\n",
              "  </tbody>\n",
              "</table>\n",
              "</div>\n",
              "    <div class=\"colab-df-buttons\">\n",
              "\n",
              "  <div class=\"colab-df-container\">\n",
              "    <button class=\"colab-df-convert\" onclick=\"convertToInteractive('df-d2fdcc44-8e00-4e07-8b42-9aa305c918eb')\"\n",
              "            title=\"Convert this dataframe to an interactive table.\"\n",
              "            style=\"display:none;\">\n",
              "\n",
              "  <svg xmlns=\"http://www.w3.org/2000/svg\" height=\"24px\" viewBox=\"0 -960 960 960\">\n",
              "    <path d=\"M120-120v-720h720v720H120Zm60-500h600v-160H180v160Zm220 220h160v-160H400v160Zm0 220h160v-160H400v160ZM180-400h160v-160H180v160Zm440 0h160v-160H620v160ZM180-180h160v-160H180v160Zm440 0h160v-160H620v160Z\"/>\n",
              "  </svg>\n",
              "    </button>\n",
              "\n",
              "  <style>\n",
              "    .colab-df-container {\n",
              "      display:flex;\n",
              "      gap: 12px;\n",
              "    }\n",
              "\n",
              "    .colab-df-convert {\n",
              "      background-color: #E8F0FE;\n",
              "      border: none;\n",
              "      border-radius: 50%;\n",
              "      cursor: pointer;\n",
              "      display: none;\n",
              "      fill: #1967D2;\n",
              "      height: 32px;\n",
              "      padding: 0 0 0 0;\n",
              "      width: 32px;\n",
              "    }\n",
              "\n",
              "    .colab-df-convert:hover {\n",
              "      background-color: #E2EBFA;\n",
              "      box-shadow: 0px 1px 2px rgba(60, 64, 67, 0.3), 0px 1px 3px 1px rgba(60, 64, 67, 0.15);\n",
              "      fill: #174EA6;\n",
              "    }\n",
              "\n",
              "    .colab-df-buttons div {\n",
              "      margin-bottom: 4px;\n",
              "    }\n",
              "\n",
              "    [theme=dark] .colab-df-convert {\n",
              "      background-color: #3B4455;\n",
              "      fill: #D2E3FC;\n",
              "    }\n",
              "\n",
              "    [theme=dark] .colab-df-convert:hover {\n",
              "      background-color: #434B5C;\n",
              "      box-shadow: 0px 1px 3px 1px rgba(0, 0, 0, 0.15);\n",
              "      filter: drop-shadow(0px 1px 2px rgba(0, 0, 0, 0.3));\n",
              "      fill: #FFFFFF;\n",
              "    }\n",
              "  </style>\n",
              "\n",
              "    <script>\n",
              "      const buttonEl =\n",
              "        document.querySelector('#df-d2fdcc44-8e00-4e07-8b42-9aa305c918eb button.colab-df-convert');\n",
              "      buttonEl.style.display =\n",
              "        google.colab.kernel.accessAllowed ? 'block' : 'none';\n",
              "\n",
              "      async function convertToInteractive(key) {\n",
              "        const element = document.querySelector('#df-d2fdcc44-8e00-4e07-8b42-9aa305c918eb');\n",
              "        const dataTable =\n",
              "          await google.colab.kernel.invokeFunction('convertToInteractive',\n",
              "                                                    [key], {});\n",
              "        if (!dataTable) return;\n",
              "\n",
              "        const docLinkHtml = 'Like what you see? Visit the ' +\n",
              "          '<a target=\"_blank\" href=https://colab.research.google.com/notebooks/data_table.ipynb>data table notebook</a>'\n",
              "          + ' to learn more about interactive tables.';\n",
              "        element.innerHTML = '';\n",
              "        dataTable['output_type'] = 'display_data';\n",
              "        await google.colab.output.renderOutput(dataTable, element);\n",
              "        const docLink = document.createElement('div');\n",
              "        docLink.innerHTML = docLinkHtml;\n",
              "        element.appendChild(docLink);\n",
              "      }\n",
              "    </script>\n",
              "  </div>\n",
              "\n",
              "\n",
              "<div id=\"df-6e253e8a-4b2f-4e8a-ac20-4d56cb47cbd4\">\n",
              "  <button class=\"colab-df-quickchart\" onclick=\"quickchart('df-6e253e8a-4b2f-4e8a-ac20-4d56cb47cbd4')\"\n",
              "            title=\"Suggest charts\"\n",
              "            style=\"display:none;\">\n",
              "\n",
              "<svg xmlns=\"http://www.w3.org/2000/svg\" height=\"24px\"viewBox=\"0 0 24 24\"\n",
              "     width=\"24px\">\n",
              "    <g>\n",
              "        <path d=\"M19 3H5c-1.1 0-2 .9-2 2v14c0 1.1.9 2 2 2h14c1.1 0 2-.9 2-2V5c0-1.1-.9-2-2-2zM9 17H7v-7h2v7zm4 0h-2V7h2v10zm4 0h-2v-4h2v4z\"/>\n",
              "    </g>\n",
              "</svg>\n",
              "  </button>\n",
              "\n",
              "<style>\n",
              "  .colab-df-quickchart {\n",
              "      --bg-color: #E8F0FE;\n",
              "      --fill-color: #1967D2;\n",
              "      --hover-bg-color: #E2EBFA;\n",
              "      --hover-fill-color: #174EA6;\n",
              "      --disabled-fill-color: #AAA;\n",
              "      --disabled-bg-color: #DDD;\n",
              "  }\n",
              "\n",
              "  [theme=dark] .colab-df-quickchart {\n",
              "      --bg-color: #3B4455;\n",
              "      --fill-color: #D2E3FC;\n",
              "      --hover-bg-color: #434B5C;\n",
              "      --hover-fill-color: #FFFFFF;\n",
              "      --disabled-bg-color: #3B4455;\n",
              "      --disabled-fill-color: #666;\n",
              "  }\n",
              "\n",
              "  .colab-df-quickchart {\n",
              "    background-color: var(--bg-color);\n",
              "    border: none;\n",
              "    border-radius: 50%;\n",
              "    cursor: pointer;\n",
              "    display: none;\n",
              "    fill: var(--fill-color);\n",
              "    height: 32px;\n",
              "    padding: 0;\n",
              "    width: 32px;\n",
              "  }\n",
              "\n",
              "  .colab-df-quickchart:hover {\n",
              "    background-color: var(--hover-bg-color);\n",
              "    box-shadow: 0 1px 2px rgba(60, 64, 67, 0.3), 0 1px 3px 1px rgba(60, 64, 67, 0.15);\n",
              "    fill: var(--button-hover-fill-color);\n",
              "  }\n",
              "\n",
              "  .colab-df-quickchart-complete:disabled,\n",
              "  .colab-df-quickchart-complete:disabled:hover {\n",
              "    background-color: var(--disabled-bg-color);\n",
              "    fill: var(--disabled-fill-color);\n",
              "    box-shadow: none;\n",
              "  }\n",
              "\n",
              "  .colab-df-spinner {\n",
              "    border: 2px solid var(--fill-color);\n",
              "    border-color: transparent;\n",
              "    border-bottom-color: var(--fill-color);\n",
              "    animation:\n",
              "      spin 1s steps(1) infinite;\n",
              "  }\n",
              "\n",
              "  @keyframes spin {\n",
              "    0% {\n",
              "      border-color: transparent;\n",
              "      border-bottom-color: var(--fill-color);\n",
              "      border-left-color: var(--fill-color);\n",
              "    }\n",
              "    20% {\n",
              "      border-color: transparent;\n",
              "      border-left-color: var(--fill-color);\n",
              "      border-top-color: var(--fill-color);\n",
              "    }\n",
              "    30% {\n",
              "      border-color: transparent;\n",
              "      border-left-color: var(--fill-color);\n",
              "      border-top-color: var(--fill-color);\n",
              "      border-right-color: var(--fill-color);\n",
              "    }\n",
              "    40% {\n",
              "      border-color: transparent;\n",
              "      border-right-color: var(--fill-color);\n",
              "      border-top-color: var(--fill-color);\n",
              "    }\n",
              "    60% {\n",
              "      border-color: transparent;\n",
              "      border-right-color: var(--fill-color);\n",
              "    }\n",
              "    80% {\n",
              "      border-color: transparent;\n",
              "      border-right-color: var(--fill-color);\n",
              "      border-bottom-color: var(--fill-color);\n",
              "    }\n",
              "    90% {\n",
              "      border-color: transparent;\n",
              "      border-bottom-color: var(--fill-color);\n",
              "    }\n",
              "  }\n",
              "</style>\n",
              "\n",
              "  <script>\n",
              "    async function quickchart(key) {\n",
              "      const quickchartButtonEl =\n",
              "        document.querySelector('#' + key + ' button');\n",
              "      quickchartButtonEl.disabled = true;  // To prevent multiple clicks.\n",
              "      quickchartButtonEl.classList.add('colab-df-spinner');\n",
              "      try {\n",
              "        const charts = await google.colab.kernel.invokeFunction(\n",
              "            'suggestCharts', [key], {});\n",
              "      } catch (error) {\n",
              "        console.error('Error during call to suggestCharts:', error);\n",
              "      }\n",
              "      quickchartButtonEl.classList.remove('colab-df-spinner');\n",
              "      quickchartButtonEl.classList.add('colab-df-quickchart-complete');\n",
              "    }\n",
              "    (() => {\n",
              "      let quickchartButtonEl =\n",
              "        document.querySelector('#df-6e253e8a-4b2f-4e8a-ac20-4d56cb47cbd4 button');\n",
              "      quickchartButtonEl.style.display =\n",
              "        google.colab.kernel.accessAllowed ? 'block' : 'none';\n",
              "    })();\n",
              "  </script>\n",
              "</div>\n",
              "\n",
              "    </div>\n",
              "  </div>\n"
            ],
            "application/vnd.google.colaboratory.intrinsic+json": {
              "type": "dataframe",
              "summary": "{\n  \"name\": \"df_consumidor\",\n  \"rows\": 8,\n  \"fields\": [\n    {\n      \"column\": \"idade\",\n      \"properties\": {\n        \"dtype\": \"number\",\n        \"std\": 61.54430618135315,\n        \"min\": 14.400714511854398,\n        \"max\": 203.0,\n        \"num_unique_values\": 8,\n        \"samples\": [\n          42.40394088669951,\n          41.0,\n          203.0\n        ],\n        \"semantic_type\": \"\",\n        \"description\": \"\"\n      }\n    },\n    {\n      \"column\": \"renda\",\n      \"properties\": {\n        \"dtype\": \"number\",\n        \"std\": 9659.77796236899,\n        \"min\": 110.0,\n        \"max\": 30000.0,\n        \"num_unique_values\": 8,\n        \"samples\": [\n          11586.364532019705,\n          11145.0,\n          203.0\n        ],\n        \"semantic_type\": \"\",\n        \"description\": \"\"\n      }\n    },\n    {\n      \"column\": \"pre-pandemia\",\n      \"properties\": {\n        \"dtype\": \"number\",\n        \"std\": 71.62108855030155,\n        \"min\": 0.0,\n        \"max\": 203.0,\n        \"num_unique_values\": 5,\n        \"samples\": [\n          0.4975369458128079,\n          1.0,\n          0.5012300141587653\n        ],\n        \"semantic_type\": \"\",\n        \"description\": \"\"\n      }\n    }\n  ]\n}"
            }
          },
          "metadata": {},
          "execution_count": 6
        }
      ]
    },
    {
      "cell_type": "markdown",
      "source": [
        "\n",
        "\n",
        "---\n",
        "\n"
      ],
      "metadata": {
        "id": "uxbdwzZtVu-3"
      }
    },
    {
      "cell_type": "markdown",
      "source": [
        "Suponha que você trabalha em uma empresa de produtos de beleza populares e, com a pandemia, você suspeita que o perfil de seus clientes mudou. O time de marketing, pediu a sua ajuda e gostaria de entender se:\n",
        "\n",
        "1. Isso de fato aconteceu?\n",
        "\n",
        "2. Quais as diferenças do novo perfil de clientes para o antigo, pois assim poderiam personalizar melhor os seus anúncios.\n",
        "\n",
        "Para isso, eles te enviaram a base de dados (desafio_01_consumidor.csv). Como você poderia ajudá-los?\n",
        "\n",
        "\n",
        "Para responder esse desafio:\n",
        "A base de dados: desafio_01_consumidor.csv contém informações de seus clientes (anonimizados) no período pré e pós pandemia. A coluna \"pré-pandemia\" indica se o dado é pré-pandemia ou não, sendo 1, caso positivo ou 0 caso negativo."
      ],
      "metadata": {
        "id": "2CG2jMRIksC7"
      }
    },
    {
      "cell_type": "markdown",
      "source": [
        "### **Exercício 1**\n",
        "\n",
        "1. Entenda a distribuição de variáveis como de idade / renda / região /\n",
        "produtos mais comprados antes e depois da pandemia\n",
        "\n",
        "  a. Identifique as distribuições\n",
        "\n",
        "  b. Plote histogramas / boxplots"
      ],
      "metadata": {
        "id": "qa-oQj_1VwxI"
      }
    },
    {
      "cell_type": "code",
      "source": [
        "#A coluna \"pré-pandemia\" indica se o dado é pré-pandemia ou não, sendo 1, caso positivo ou 0 caso negativo.\n",
        "df_consumidor['pre-pandemia'].value_counts()"
      ],
      "metadata": {
        "id": "1IiL9RiLVDxK",
        "colab": {
          "base_uri": "https://localhost:8080/",
          "height": 178
        },
        "outputId": "0da86077-138e-4a91-8c0b-c5da0bf3ff8d"
      },
      "execution_count": null,
      "outputs": [
        {
          "output_type": "execute_result",
          "data": {
            "text/plain": [
              "pre-pandemia\n",
              "0    102\n",
              "1    101\n",
              "Name: count, dtype: int64"
            ],
            "text/html": [
              "<div>\n",
              "<style scoped>\n",
              "    .dataframe tbody tr th:only-of-type {\n",
              "        vertical-align: middle;\n",
              "    }\n",
              "\n",
              "    .dataframe tbody tr th {\n",
              "        vertical-align: top;\n",
              "    }\n",
              "\n",
              "    .dataframe thead th {\n",
              "        text-align: right;\n",
              "    }\n",
              "</style>\n",
              "<table border=\"1\" class=\"dataframe\">\n",
              "  <thead>\n",
              "    <tr style=\"text-align: right;\">\n",
              "      <th></th>\n",
              "      <th>count</th>\n",
              "    </tr>\n",
              "    <tr>\n",
              "      <th>pre-pandemia</th>\n",
              "      <th></th>\n",
              "    </tr>\n",
              "  </thead>\n",
              "  <tbody>\n",
              "    <tr>\n",
              "      <th>0</th>\n",
              "      <td>102</td>\n",
              "    </tr>\n",
              "    <tr>\n",
              "      <th>1</th>\n",
              "      <td>101</td>\n",
              "    </tr>\n",
              "  </tbody>\n",
              "</table>\n",
              "</div><br><label><b>dtype:</b> int64</label>"
            ]
          },
          "metadata": {},
          "execution_count": 7
        }
      ]
    },
    {
      "cell_type": "code",
      "source": [
        "df_pre_pandemia = df_consumidor[df_consumidor['pre-pandemia'] == 1]\n",
        "df_pos_pandemia = df_consumidor[df_consumidor['pre-pandemia'] == 0]"
      ],
      "metadata": {
        "id": "T_G5YquTvJGX"
      },
      "execution_count": null,
      "outputs": []
    },
    {
      "cell_type": "markdown",
      "source": [
        "###Análise por Idade"
      ],
      "metadata": {
        "id": "6bV_BHY_vMrI"
      }
    },
    {
      "cell_type": "code",
      "source": [
        "plt.figure(figsize=(14, 6))\n",
        "\n",
        "plt.subplot(1, 2, 1)\n",
        "sns.histplot(df_pre_pandemia['idade'], bins = 20, color = 'blue', kde = True, label = 'Pré-Pandemia')\n",
        "sns.histplot(df_pos_pandemia['idade'], bins = 20, color = 'red', kde = True, label = 'Pós-Pandemia')\n",
        "plt.title('Distribuição da Idade')\n",
        "plt.xlabel('Idade')\n",
        "plt.ylabel('Frequência')\n",
        "plt.legend()"
      ],
      "metadata": {
        "id": "sBbXatyevLbi",
        "colab": {
          "base_uri": "https://localhost:8080/",
          "height": 581
        },
        "outputId": "109390d5-ff09-469d-f36f-f97d75d356be"
      },
      "execution_count": null,
      "outputs": [
        {
          "output_type": "execute_result",
          "data": {
            "text/plain": [
              "<matplotlib.legend.Legend at 0x7d21eaf4a9b0>"
            ]
          },
          "metadata": {},
          "execution_count": 9
        },
        {
          "output_type": "display_data",
          "data": {
            "text/plain": [
              "<Figure size 1400x600 with 1 Axes>"
            ],
            "image/png": "[encoded data removed]"
          },
          "metadata": {}
        }
      ]
    },
    {
      "cell_type": "code",
      "source": [
        "plt.figure(figsize=(10, 6))\n",
        "sns.boxplot(data = df_consumidor, x = 'pre-pandemia', y = 'idade', hue = 'pre-pandemia', palette = {1: 'blue', 0: 'red'})\n",
        "plt.title('Boxplot da Idade por Período')\n",
        "plt.xlabel('Período')\n",
        "plt.ylabel('Idade')\n",
        "plt.xticks(ticks = [0, 1], labels = ['Pré-Pandemia', 'Pós-Pandemia'])\n",
        "plt.legend(title='Período')\n",
        "plt.show()"
      ],
      "metadata": {
        "id": "ZTCMzmynvQIR",
        "colab": {
          "base_uri": "https://localhost:8080/",
          "height": 565
        },
        "outputId": "6147f05f-b049-4bf1-c8c8-b2abb9886cb4"
      },
      "execution_count": null,
      "outputs": [
        {
          "output_type": "display_data",
          "data": {
            "text/plain": [
              "<Figure size 1000x600 with 1 Axes>"
            ],
            "image/png": "[encoded data removed]"
          },
          "metadata": {}
        }
      ]
    },
    {
      "cell_type": "markdown",
      "source": [
        "###Análise por Renda"
      ],
      "metadata": {
        "id": "lmiptlEfvRvP"
      }
    },
    {
      "cell_type": "code",
      "source": [
        "plt.figure(figsize=(14, 6))\n",
        "\n",
        "plt.subplot(1, 2, 1)\n",
        "sns.histplot(df_pre_pandemia['renda'], bins = 20, color = 'blue', kde = True, label = 'Pré-Pandemia')\n",
        "sns.histplot(df_pos_pandemia['renda'], bins = 20, color = 'red', kde = True, label = 'Pós-Pandemia')\n",
        "plt.title('Distribuição da Renda')\n",
        "plt.xlabel('Renda')\n",
        "plt.ylabel('Frequência')\n",
        "plt.legend()"
      ],
      "metadata": {
        "id": "uHxZDpn7vTn7",
        "colab": {
          "base_uri": "https://localhost:8080/",
          "height": 581
        },
        "outputId": "d006c6a5-d0ea-4f04-9591-80231e7e268c"
      },
      "execution_count": null,
      "outputs": [
        {
          "output_type": "execute_result",
          "data": {
            "text/plain": [
              "<matplotlib.legend.Legend at 0x7d21e6bcbe50>"
            ]
          },
          "metadata": {},
          "execution_count": 11
        },
        {
          "output_type": "display_data",
          "data": {
            "text/plain": [
              "<Figure size 1400x600 with 1 Axes>"
            ],
            "image/png": "[encoded data removed]"
          },
          "metadata": {}
        }
      ]
    },
    {
      "cell_type": "code",
      "source": [
        "plt.figure(figsize=(10, 6))\n",
        "sns.boxplot(data = df_consumidor, x = 'pre-pandemia', y = 'renda', hue = 'pre-pandemia', palette = {1: 'blue', 0: 'red'})\n",
        "plt.title('Boxplot da Renda por Período')\n",
        "plt.xlabel('Período')\n",
        "plt.ylabel('Renda')\n",
        "plt.xticks(ticks = [0, 1], labels = ['Pré-Pandemia', 'Pós-Pandemia'])\n",
        "plt.legend(title = 'Período')\n",
        "plt.show()"
      ],
      "metadata": {
        "id": "EVOY9N94vTbW",
        "colab": {
          "base_uri": "https://localhost:8080/",
          "height": 565
        },
        "outputId": "03367c45-01ce-4d7e-e062-bead424fe761"
      },
      "execution_count": null,
      "outputs": [
        {
          "output_type": "display_data",
          "data": {
            "text/plain": [
              "<Figure size 1000x600 with 1 Axes>"
            ],
            "image/png": "[encoded data removed]"
          },
          "metadata": {}
        }
      ]
    },
    {
      "cell_type": "markdown",
      "source": [
        "###Análise por Região"
      ],
      "metadata": {
        "id": "2Lvle8IivXhr"
      }
    },
    {
      "cell_type": "code",
      "source": [
        "plt.figure(figsize=(14, 6))\n",
        "\n",
        "plt.subplot(1, 2, 1)\n",
        "sns.histplot(df_pre_pandemia['regiao-BR'], bins = 20, color = 'blue', kde = True, label = 'Pré-Pandemia')\n",
        "sns.histplot(df_pos_pandemia['regiao-BR'], bins = 20, color = 'red', kde = True, label = 'Pós-Pandemia')\n",
        "plt.title('Distribuição da Região')\n",
        "plt.xlabel('Região')\n",
        "plt.ylabel('Frequência')\n",
        "plt.legend()"
      ],
      "metadata": {
        "id": "wUwoJeD0vadv",
        "colab": {
          "base_uri": "https://localhost:8080/",
          "height": 581
        },
        "outputId": "24c11600-1d88-4796-db45-8ade2edc14e5"
      },
      "execution_count": null,
      "outputs": [
        {
          "output_type": "execute_result",
          "data": {
            "text/plain": [
              "<matplotlib.legend.Legend at 0x7d21e6ca0430>"
            ]
          },
          "metadata": {},
          "execution_count": 13
        },
        {
          "output_type": "display_data",
          "data": {
            "text/plain": [
              "<Figure size 1400x600 with 1 Axes>"
            ],
            "image/png": "[encoded data removed]"
          },
          "metadata": {}
        }
      ]
    },
    {
      "cell_type": "markdown",
      "source": [
        "###Análise por Produtos"
      ],
      "metadata": {
        "id": "Yosd2vN6vbRy"
      }
    },
    {
      "cell_type": "code",
      "source": [
        "df_consumidor['produto'].unique()"
      ],
      "metadata": {
        "id": "5pVDnc2yve_n",
        "colab": {
          "base_uri": "https://localhost:8080/"
        },
        "outputId": "27f7104b-af33-45d8-94de-b4c3e692d864"
      },
      "execution_count": null,
      "outputs": [
        {
          "output_type": "execute_result",
          "data": {
            "text/plain": [
              "array(['batom', 'desodorante', 'sombra', 'perfume', 'antissinais', 'base'],\n",
              "      dtype=object)"
            ]
          },
          "metadata": {},
          "execution_count": 14
        }
      ]
    },
    {
      "cell_type": "code",
      "source": [
        "df_consumidor['produto'].value_counts()"
      ],
      "metadata": {
        "id": "r5rQlPUPve45",
        "colab": {
          "base_uri": "https://localhost:8080/",
          "height": 303
        },
        "outputId": "357f4297-7c70-407a-88cb-8532dda8d1df"
      },
      "execution_count": null,
      "outputs": [
        {
          "output_type": "execute_result",
          "data": {
            "text/plain": [
              "produto\n",
              "batom          76\n",
              "desodorante    66\n",
              "antissinais    29\n",
              "sombra         13\n",
              "perfume        12\n",
              "base            7\n",
              "Name: count, dtype: int64"
            ],
            "text/html": [
              "<div>\n",
              "<style scoped>\n",
              "    .dataframe tbody tr th:only-of-type {\n",
              "        vertical-align: middle;\n",
              "    }\n",
              "\n",
              "    .dataframe tbody tr th {\n",
              "        vertical-align: top;\n",
              "    }\n",
              "\n",
              "    .dataframe thead th {\n",
              "        text-align: right;\n",
              "    }\n",
              "</style>\n",
              "<table border=\"1\" class=\"dataframe\">\n",
              "  <thead>\n",
              "    <tr style=\"text-align: right;\">\n",
              "      <th></th>\n",
              "      <th>count</th>\n",
              "    </tr>\n",
              "    <tr>\n",
              "      <th>produto</th>\n",
              "      <th></th>\n",
              "    </tr>\n",
              "  </thead>\n",
              "  <tbody>\n",
              "    <tr>\n",
              "      <th>batom</th>\n",
              "      <td>76</td>\n",
              "    </tr>\n",
              "    <tr>\n",
              "      <th>desodorante</th>\n",
              "      <td>66</td>\n",
              "    </tr>\n",
              "    <tr>\n",
              "      <th>antissinais</th>\n",
              "      <td>29</td>\n",
              "    </tr>\n",
              "    <tr>\n",
              "      <th>sombra</th>\n",
              "      <td>13</td>\n",
              "    </tr>\n",
              "    <tr>\n",
              "      <th>perfume</th>\n",
              "      <td>12</td>\n",
              "    </tr>\n",
              "    <tr>\n",
              "      <th>base</th>\n",
              "      <td>7</td>\n",
              "    </tr>\n",
              "  </tbody>\n",
              "</table>\n",
              "</div><br><label><b>dtype:</b> int64</label>"
            ]
          },
          "metadata": {},
          "execution_count": 15
        }
      ]
    },
    {
      "cell_type": "code",
      "source": [
        "plt.figure(figsize=(14, 6))\n",
        "\n",
        "plt.subplot(1, 2, 1)\n",
        "sns.histplot(df_pre_pandemia['produto'], bins = 20, color = 'blue', kde = True, label = 'Pré-Pandemia')\n",
        "sns.histplot(df_pos_pandemia['produto'], bins = 20, color = 'red', kde = True, label = 'Pós-Pandemia')\n",
        "plt.title('Distribuição da Compra de Produtos')\n",
        "plt.xlabel('Produto')\n",
        "plt.ylabel('Quantidade')\n",
        "plt.legend()"
      ],
      "metadata": {
        "id": "JkMkmrNAveww",
        "colab": {
          "base_uri": "https://localhost:8080/",
          "height": 581
        },
        "outputId": "98e2f93f-450e-4593-ac4f-b2ebdedd3d66"
      },
      "execution_count": null,
      "outputs": [
        {
          "output_type": "execute_result",
          "data": {
            "text/plain": [
              "<matplotlib.legend.Legend at 0x7d21e6bebfa0>"
            ]
          },
          "metadata": {},
          "execution_count": 16
        },
        {
          "output_type": "display_data",
          "data": {
            "text/plain": [
              "<Figure size 1400x600 with 1 Axes>"
            ],
            "image/png": "[encoded data removed]"
          },
          "metadata": {}
        }
      ]
    },
    {
      "cell_type": "markdown",
      "source": [
        "Através da análise dos gráficos plotados acima, podemos verificar uma diferença significativa no perfil dos clientes.\n",
        "\n",
        "Podemos considerar que Pós-Pandemia houve:\n",
        "- aumento considerável de clientes com idades entre 35 e 55 anos;\n",
        "- aumento de vendas na região Sul e Norte;\n",
        "- queda de vendas no Sudeste, Nordeste e Centro-Oeste;\n",
        "- maior número de clientes com rendas entre 10.000 e 20.000;\n",
        "- diminuição drástica na venda de batons;\n",
        "- aumento considerável na venda de desodorante, sombra, perfume e antissinais."
      ],
      "metadata": {
        "id": "vYYmV1G4UmjN"
      }
    },
    {
      "cell_type": "markdown",
      "source": [
        "\n",
        "\n",
        "---\n",
        "\n"
      ],
      "metadata": {
        "id": "WpeXKtw8WOAt"
      }
    },
    {
      "cell_type": "markdown",
      "source": [
        "### **Exercício 2**\n",
        "\n",
        "2. Você notou diferenças nítidas pré e pós pandemia? Como você poderia\n",
        "provar estatisticamente que essas diferenças são significativas? (pergunta\n",
        "extra)"
      ],
      "metadata": {
        "id": "MfmDULcyV8Sf"
      }
    },
    {
      "cell_type": "code",
      "source": [
        "from scipy import stats\n",
        "\n",
        "t_stat, p_value = stats.ttest_ind(df_pre_pandemia['idade'], df_pos_pandemia['idade'])\n",
        "print(f'T-statistic: {t_stat}, p-value: {p_value}')"
      ],
      "metadata": {
        "colab": {
          "base_uri": "https://localhost:8080/"
        },
        "id": "pdsg-W8PZPkp",
        "outputId": "206d514c-6224-4183-c304-f8f5a7306de7"
      },
      "execution_count": null,
      "outputs": [
        {
          "output_type": "stream",
          "name": "stdout",
          "text": [
            "T-statistic: -2.5162646871061667, p-value: 0.01264248733730923\n"
          ]
        }
      ]
    },
    {
      "cell_type": "markdown",
      "source": [
        "Utilizando o teste t de student para comparar médias de duas amostras de idades dos cliente em período Pré e Pós-pandemia, chegamos a um resultado onde **p-value < 0,05**, logo significando que há uma diferença estatisticamente significativa entre os períodos Pré e Pós-pandemia."
      ],
      "metadata": {
        "id": "MTizb8LPZlmy"
      }
    },
    {
      "cell_type": "markdown",
      "source": [
        "\n",
        "\n",
        "---\n",
        "\n"
      ],
      "metadata": {
        "id": "sysE_BusWQFo"
      }
    },
    {
      "cell_type": "markdown",
      "source": [
        "### **Exercício 3**\n",
        "\n",
        "3. Suponha agora que os dados recebidos são somente uma amostra da sua\n",
        "população total de clientes. Suponha que a sua \"população\" de clientes\n",
        "verdadeira é de 100.000. Qual o tamanho da amostra necessária para\n",
        "chegarmos a conclusões com 95% de confiança e 2% de margem de erro? A\n",
        "base informada é suficiente? E com uma margem de erro de 10%?"
      ],
      "metadata": {
        "id": "K_L3ZVDxWE8m"
      }
    },
    {
      "cell_type": "markdown",
      "source": [
        "\n",
        "\n",
        "---\n",
        "\n"
      ],
      "metadata": {
        "id": "KYEAZgiujfYf"
      }
    },
    {
      "cell_type": "markdown",
      "source": [
        "######Para calcular o tamanho da amostra necessário, você pode usar a fórmula para o tamanho da amostra para uma proporção:\n",
        "\n",
        "![image.png](data:image/png;base64,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)\n",
        "\n",
        "onde:\n",
        "\n",
        "*   Z é o valor da distribuição normal padrão para o nível de confiança (1,96 para 95% de confiança)\n",
        "*   p é a proporção esperada (suponha 0,5 se não souber)\n",
        "*   E é a margem de erro\n",
        "\n"
      ],
      "metadata": {
        "id": "QorFDUswhNJG"
      }
    },
    {
      "cell_type": "markdown",
      "source": [
        "\n",
        "\n",
        "---\n",
        "\n"
      ],
      "metadata": {
        "id": "ZHD_w2-5jhOM"
      }
    },
    {
      "cell_type": "code",
      "source": [
        "# Calculando o tamanho da amostra necessária\n",
        "def calcular_tamanho_amostra(p, E, Z = 1.96):\n",
        "    n = (Z ** 2 * p * (1 - p)) / (E ** 2)\n",
        "    return math.ceil(n)\n",
        "\n",
        "# Tamanho da amostra para 2% de margem de erro\n",
        "n_2 = calcular_tamanho_amostra(p = 0.5, E = 0.02)\n",
        "print(f'Tamanho da amostra necessário para 2% de margem de erro: {n_2}.')\n",
        "\n",
        "# Tamanho da amostra para 10% de margem de erro\n",
        "n_10 = calcular_tamanho_amostra(p = 0.5, E = 0.10)\n",
        "print(f'Tamanho da amostra necessário para 10% de margem de erro: {n_10}.')"
      ],
      "metadata": {
        "id": "FL8tg6h-WM8y",
        "colab": {
          "base_uri": "https://localhost:8080/"
        },
        "outputId": "7de87c8b-710c-45cd-f14d-90ec5e981394"
      },
      "execution_count": null,
      "outputs": [
        {
          "output_type": "stream",
          "name": "stdout",
          "text": [
            "Tamanho da amostra necessário para 2% de margem de erro: 2401.\n",
            "Tamanho da amostra necessário para 10% de margem de erro: 97.\n"
          ]
        }
      ]
    },
    {
      "cell_type": "code",
      "source": [
        "# Suposição do tamanho da amostra fornecida\n",
        "n_atual = len(df_consumidor)\n",
        "\n",
        "print(f'Tamanho da amostra fornecida: {n_atual}. \\n')\n",
        "print(f'A amostra fornecida é suficiente para 2% de margem de erro? {\"Sim\" if n_atual >= n_2 else \"Não\"}')\n",
        "print(f'A amostra fornecida é suficiente para 10% de margem de erro? {\"Sim\" if n_atual >= n_10 else \"Não\"}')"
      ],
      "metadata": {
        "colab": {
          "base_uri": "https://localhost:8080/"
        },
        "id": "AX5KxEohh8Uh",
        "outputId": "b3b26e59-edee-48ca-ab93-26dbc7bc7f9b"
      },
      "execution_count": null,
      "outputs": [
        {
          "output_type": "stream",
          "name": "stdout",
          "text": [
            "Tamanho da amostra fornecida: 203. \n",
            "\n",
            "A amostra fornecida é suficiente para 2% de margem de erro? Não\n",
            "A amostra fornecida é suficiente para 10% de margem de erro? Sim\n"
          ]
        }
      ]
    },
    {
      "cell_type": "markdown",
      "source": [
        "\n",
        "\n",
        "---\n",
        "\n",
        "\n",
        "\n",
        "---\n",
        "\n",
        "\n",
        "\n",
        "---\n",
        "\n"
      ],
      "metadata": {
        "id": "CxcDbDzGvlo0"
      }
    },
    {
      "cell_type": "markdown",
      "source": [
        "##**Desafio 2: Determinando o Estoque de Segurança**"
      ],
      "metadata": {
        "id": "6bzKbpGLlaU-"
      }
    },
    {
      "cell_type": "markdown",
      "source": [
        "###Abrindo e lendo o arquivo"
      ],
      "metadata": {
        "id": "bBwRXPuAmmyC"
      }
    },
    {
      "cell_type": "markdown",
      "source": [
        "Clicar no link e baixar o arquivo na sua máquina: https://drive.google.com/file/d/1wSf1I8BBOksWkHGVVZrn60UbjSJTFvQS/view?usp=sharing"
      ],
      "metadata": {
        "id": "_-7b3iPWmblp"
      }
    },
    {
      "cell_type": "code",
      "source": [
        "#Após rodar o código, clique em \"Escolher arquivos\" para importar o arquivo que você baixou\n",
        "from google.colab import files\n",
        "uploaded = files.upload()"
      ],
      "metadata": {
        "colab": {
          "base_uri": "https://localhost:8080/",
          "height": 73
        },
        "id": "fU9wGBiblel-",
        "outputId": "8e8da6f3-2c1c-49b0-f87a-dcc95f8bc88b"
      },
      "execution_count": null,
      "outputs": [
        {
          "output_type": "display_data",
          "data": {
            "text/plain": [
              "<IPython.core.display.HTML object>"
            ],
            "text/html": [
              "\n",
              "     <input type=\"file\" id=\"files-8ec10443-6250-4972-875f-1200264d3c81\" name=\"files[]\" multiple disabled\n",
              "        style=\"border:none\" />\n",
              "     <output id=\"result-8ec10443-6250-4972-875f-1200264d3c81\">\n",
              "      Upload widget is only available when the cell has been executed in the\n",
              "      current browser session. Please rerun this cell to enable.\n",
              "      </output>\n",
              "      <script>// Copyright 2017 Google LLC\n",
              "//\n",
              "// Licensed under the Apache License, Version 2.0 (the \"License\");\n",
              "// you may not use this file except in compliance with the License.\n",
              "// You may obtain a copy of the License at\n",
              "//\n",
              "//      http://www.apache.org/licenses/LICENSE-2.0\n",
              "//\n",
              "// Unless required by applicable law or agreed to in writing, software\n",
              "// distributed under the License is distributed on an \"AS IS\" BASIS,\n",
              "// WITHOUT WARRANTIES OR CONDITIONS OF ANY KIND, either express or implied.\n",
              "// See the License for the specific language governing permissions and\n",
              "// limitations under the License.\n",
              "\n",
              "/**\n",
              " * @fileoverview Helpers for google.colab Python module.\n",
              " */\n",
              "(function(scope) {\n",
              "function span(text, styleAttributes = {}) {\n",
              "  const element = document.createElement('span');\n",
              "  element.textContent = text;\n",
              "  for (const key of Object.keys(styleAttributes)) {\n",
              "    element.style[key] = styleAttributes[key];\n",
              "  }\n",
              "  return element;\n",
              "}\n",
              "\n",
              "// Max number of bytes which will be uploaded at a time.\n",
              "const MAX_PAYLOAD_SIZE = 100 * 1024;\n",
              "\n",
              "function _uploadFiles(inputId, outputId) {\n",
              "  const steps = uploadFilesStep(inputId, outputId);\n",
              "  const outputElement = document.getElementById(outputId);\n",
              "  // Cache steps on the outputElement to make it available for the next call\n",
              "  // to uploadFilesContinue from Python.\n",
              "  outputElement.steps = steps;\n",
              "\n",
              "  return _uploadFilesContinue(outputId);\n",
              "}\n",
              "\n",
              "// This is roughly an async generator (not supported in the browser yet),\n",
              "// where there are multiple asynchronous steps and the Python side is going\n",
              "// to poll for completion of each step.\n",
              "// This uses a Promise to block the python side on completion of each step,\n",
              "// then passes the result of the previous step as the input to the next step.\n",
              "function _uploadFilesContinue(outputId) {\n",
              "  const outputElement = document.getElementById(outputId);\n",
              "  const steps = outputElement.steps;\n",
              "\n",
              "  const next = steps.next(outputElement.lastPromiseValue);\n",
              "  return Promise.resolve(next.value.promise).then((value) => {\n",
              "    // Cache the last promise value to make it available to the next\n",
              "    // step of the generator.\n",
              "    outputElement.lastPromiseValue = value;\n",
              "    return next.value.response;\n",
              "  });\n",
              "}\n",
              "\n",
              "/**\n",
              " * Generator function which is called between each async step of the upload\n",
              " * process.\n",
              " * @param {string} inputId Element ID of the input file picker element.\n",
              " * @param {string} outputId Element ID of the output display.\n",
              " * @return {!Iterable<!Object>} Iterable of next steps.\n",
              " */\n",
              "function* uploadFilesStep(inputId, outputId) {\n",
              "  const inputElement = document.getElementById(inputId);\n",
              "  inputElement.disabled = false;\n",
              "\n",
              "  const outputElement = document.getElementById(outputId);\n",
              "  outputElement.innerHTML = '';\n",
              "\n",
              "  const pickedPromise = new Promise((resolve) => {\n",
              "    inputElement.addEventListener('change', (e) => {\n",
              "      resolve(e.target.files);\n",
              "    });\n",
              "  });\n",
              "\n",
              "  const cancel = document.createElement('button');\n",
              "  inputElement.parentElement.appendChild(cancel);\n",
              "  cancel.textContent = 'Cancel upload';\n",
              "  const cancelPromise = new Promise((resolve) => {\n",
              "    cancel.onclick = () => {\n",
              "      resolve(null);\n",
              "    };\n",
              "  });\n",
              "\n",
              "  // Wait for the user to pick the files.\n",
              "  const files = yield {\n",
              "    promise: Promise.race([pickedPromise, cancelPromise]),\n",
              "    response: {\n",
              "      action: 'starting',\n",
              "    }\n",
              "  };\n",
              "\n",
              "  cancel.remove();\n",
              "\n",
              "  // Disable the input element since further picks are not allowed.\n",
              "  inputElement.disabled = true;\n",
              "\n",
              "  if (!files) {\n",
              "    return {\n",
              "      response: {\n",
              "        action: 'complete',\n",
              "      }\n",
              "    };\n",
              "  }\n",
              "\n",
              "  for (const file of files) {\n",
              "    const li = document.createElement('li');\n",
              "    li.append(span(file.name, {fontWeight: 'bold'}));\n",
              "    li.append(span(\n",
              "        `(${file.type || 'n/a'}) - ${file.size} bytes, ` +\n",
              "        `last modified: ${\n",
              "            file.lastModifiedDate ? file.lastModifiedDate.toLocaleDateString() :\n",
              "                                    'n/a'} - `));\n",
              "    const percent = span('0% done');\n",
              "    li.appendChild(percent);\n",
              "\n",
              "    outputElement.appendChild(li);\n",
              "\n",
              "    const fileDataPromise = new Promise((resolve) => {\n",
              "      const reader = new FileReader();\n",
              "      reader.onload = (e) => {\n",
              "        resolve(e.target.result);\n",
              "      };\n",
              "      reader.readAsArrayBuffer(file);\n",
              "    });\n",
              "    // Wait for the data to be ready.\n",
              "    let fileData = yield {\n",
              "      promise: fileDataPromise,\n",
              "      response: {\n",
              "        action: 'continue',\n",
              "      }\n",
              "    };\n",
              "\n",
              "    // Use a chunked sending to avoid message size limits. See b/62115660.\n",
              "    let position = 0;\n",
              "    do {\n",
              "      const length = Math.min(fileData.byteLength - position, MAX_PAYLOAD_SIZE);\n",
              "      const chunk = new Uint8Array(fileData, position, length);\n",
              "      position += length;\n",
              "\n",
              "      const base64 = btoa(String.fromCharCode.apply(null, chunk));\n",
              "      yield {\n",
              "        response: {\n",
              "          action: 'append',\n",
              "          file: file.name,\n",
              "          data: base64,\n",
              "        },\n",
              "      };\n",
              "\n",
              "      let percentDone = fileData.byteLength === 0 ?\n",
              "          100 :\n",
              "          Math.round((position / fileData.byteLength) * 100);\n",
              "      percent.textContent = `${percentDone}% done`;\n",
              "\n",
              "    } while (position < fileData.byteLength);\n",
              "  }\n",
              "\n",
              "  // All done.\n",
              "  yield {\n",
              "    response: {\n",
              "      action: 'complete',\n",
              "    }\n",
              "  };\n",
              "}\n",
              "\n",
              "scope.google = scope.google || {};\n",
              "scope.google.colab = scope.google.colab || {};\n",
              "scope.google.colab._files = {\n",
              "  _uploadFiles,\n",
              "  _uploadFilesContinue,\n",
              "};\n",
              "})(self);\n",
              "</script> "
            ]
          },
          "metadata": {}
        },
        {
          "output_type": "stream",
          "name": "stdout",
          "text": [
            "Saving desafio_02_estoque.csv to desafio_02_estoque.csv\n"
          ]
        }
      ]
    },
    {
      "cell_type": "code",
      "source": [
        "df_estoque = pd.read_csv(\"desafio_02_estoque.csv\", sep = \",\")\n",
        "df_estoque.head()"
      ],
      "metadata": {
        "colab": {
          "base_uri": "https://localhost:8080/",
          "height": 206
        },
        "id": "Ziw3KBWfmuhC",
        "outputId": "dbee3c7e-2936-4ebc-ec45-66b00ea913f4"
      },
      "execution_count": null,
      "outputs": [
        {
          "output_type": "execute_result",
          "data": {
            "text/plain": [
              "         data  vendas-iogurte  lead-time\n",
              "0  2015-01-04            5083          4\n",
              "1  2015-01-11            4936          3\n",
              "2  2015-01-18            5051          6\n",
              "3  2015-01-25            4846          4\n",
              "4  2015-02-01            5003          5"
            ],
            "text/html": [
              "\n",
              "  <div id=\"df-411a271d-5cd9-4be7-9b7c-e6cfad2e09d8\" class=\"colab-df-container\">\n",
              "    <div>\n",
              "<style scoped>\n",
              "    .dataframe tbody tr th:only-of-type {\n",
              "        vertical-align: middle;\n",
              "    }\n",
              "\n",
              "    .dataframe tbody tr th {\n",
              "        vertical-align: top;\n",
              "    }\n",
              "\n",
              "    .dataframe thead th {\n",
              "        text-align: right;\n",
              "    }\n",
              "</style>\n",
              "<table border=\"1\" class=\"dataframe\">\n",
              "  <thead>\n",
              "    <tr style=\"text-align: right;\">\n",
              "      <th></th>\n",
              "      <th>data</th>\n",
              "      <th>vendas-iogurte</th>\n",
              "      <th>lead-time</th>\n",
              "    </tr>\n",
              "  </thead>\n",
              "  <tbody>\n",
              "    <tr>\n",
              "      <th>0</th>\n",
              "      <td>2015-01-04</td>\n",
              "      <td>5083</td>\n",
              "      <td>4</td>\n",
              "    </tr>\n",
              "    <tr>\n",
              "      <th>1</th>\n",
              "      <td>2015-01-11</td>\n",
              "      <td>4936</td>\n",
              "      <td>3</td>\n",
              "    </tr>\n",
              "    <tr>\n",
              "      <th>2</th>\n",
              "      <td>2015-01-18</td>\n",
              "      <td>5051</td>\n",
              "      <td>6</td>\n",
              "    </tr>\n",
              "    <tr>\n",
              "      <th>3</th>\n",
              "      <td>2015-01-25</td>\n",
              "      <td>4846</td>\n",
              "      <td>4</td>\n",
              "    </tr>\n",
              "    <tr>\n",
              "      <th>4</th>\n",
              "      <td>2015-02-01</td>\n",
              "      <td>5003</td>\n",
              "      <td>5</td>\n",
              "    </tr>\n",
              "  </tbody>\n",
              "</table>\n",
              "</div>\n",
              "    <div class=\"colab-df-buttons\">\n",
              "\n",
              "  <div class=\"colab-df-container\">\n",
              "    <button class=\"colab-df-convert\" onclick=\"convertToInteractive('df-411a271d-5cd9-4be7-9b7c-e6cfad2e09d8')\"\n",
              "            title=\"Convert this dataframe to an interactive table.\"\n",
              "            style=\"display:none;\">\n",
              "\n",
              "  <svg xmlns=\"http://www.w3.org/2000/svg\" height=\"24px\" viewBox=\"0 -960 960 960\">\n",
              "    <path d=\"M120-120v-720h720v720H120Zm60-500h600v-160H180v160Zm220 220h160v-160H400v160Zm0 220h160v-160H400v160ZM180-400h160v-160H180v160Zm440 0h160v-160H620v160ZM180-180h160v-160H180v160Zm440 0h160v-160H620v160Z\"/>\n",
              "  </svg>\n",
              "    </button>\n",
              "\n",
              "  <style>\n",
              "    .colab-df-container {\n",
              "      display:flex;\n",
              "      gap: 12px;\n",
              "    }\n",
              "\n",
              "    .colab-df-convert {\n",
              "      background-color: #E8F0FE;\n",
              "      border: none;\n",
              "      border-radius: 50%;\n",
              "      cursor: pointer;\n",
              "      display: none;\n",
              "      fill: #1967D2;\n",
              "      height: 32px;\n",
              "      padding: 0 0 0 0;\n",
              "      width: 32px;\n",
              "    }\n",
              "\n",
              "    .colab-df-convert:hover {\n",
              "      background-color: #E2EBFA;\n",
              "      box-shadow: 0px 1px 2px rgba(60, 64, 67, 0.3), 0px 1px 3px 1px rgba(60, 64, 67, 0.15);\n",
              "      fill: #174EA6;\n",
              "    }\n",
              "\n",
              "    .colab-df-buttons div {\n",
              "      margin-bottom: 4px;\n",
              "    }\n",
              "\n",
              "    [theme=dark] .colab-df-convert {\n",
              "      background-color: #3B4455;\n",
              "      fill: #D2E3FC;\n",
              "    }\n",
              "\n",
              "    [theme=dark] .colab-df-convert:hover {\n",
              "      background-color: #434B5C;\n",
              "      box-shadow: 0px 1px 3px 1px rgba(0, 0, 0, 0.15);\n",
              "      filter: drop-shadow(0px 1px 2px rgba(0, 0, 0, 0.3));\n",
              "      fill: #FFFFFF;\n",
              "    }\n",
              "  </style>\n",
              "\n",
              "    <script>\n",
              "      const buttonEl =\n",
              "        document.querySelector('#df-411a271d-5cd9-4be7-9b7c-e6cfad2e09d8 button.colab-df-convert');\n",
              "      buttonEl.style.display =\n",
              "        google.colab.kernel.accessAllowed ? 'block' : 'none';\n",
              "\n",
              "      async function convertToInteractive(key) {\n",
              "        const element = document.querySelector('#df-411a271d-5cd9-4be7-9b7c-e6cfad2e09d8');\n",
              "        const dataTable =\n",
              "          await google.colab.kernel.invokeFunction('convertToInteractive',\n",
              "                                                    [key], {});\n",
              "        if (!dataTable) return;\n",
              "\n",
              "        const docLinkHtml = 'Like what you see? Visit the ' +\n",
              "          '<a target=\"_blank\" href=https://colab.research.google.com/notebooks/data_table.ipynb>data table notebook</a>'\n",
              "          + ' to learn more about interactive tables.';\n",
              "        element.innerHTML = '';\n",
              "        dataTable['output_type'] = 'display_data';\n",
              "        await google.colab.output.renderOutput(dataTable, element);\n",
              "        const docLink = document.createElement('div');\n",
              "        docLink.innerHTML = docLinkHtml;\n",
              "        element.appendChild(docLink);\n",
              "      }\n",
              "    </script>\n",
              "  </div>\n",
              "\n",
              "\n",
              "<div id=\"df-f93e3dc0-d9e7-4b04-8192-a466a81d6b2f\">\n",
              "  <button class=\"colab-df-quickchart\" onclick=\"quickchart('df-f93e3dc0-d9e7-4b04-8192-a466a81d6b2f')\"\n",
              "            title=\"Suggest charts\"\n",
              "            style=\"display:none;\">\n",
              "\n",
              "<svg xmlns=\"http://www.w3.org/2000/svg\" height=\"24px\"viewBox=\"0 0 24 24\"\n",
              "     width=\"24px\">\n",
              "    <g>\n",
              "        <path d=\"M19 3H5c-1.1 0-2 .9-2 2v14c0 1.1.9 2 2 2h14c1.1 0 2-.9 2-2V5c0-1.1-.9-2-2-2zM9 17H7v-7h2v7zm4 0h-2V7h2v10zm4 0h-2v-4h2v4z\"/>\n",
              "    </g>\n",
              "</svg>\n",
              "  </button>\n",
              "\n",
              "<style>\n",
              "  .colab-df-quickchart {\n",
              "      --bg-color: #E8F0FE;\n",
              "      --fill-color: #1967D2;\n",
              "      --hover-bg-color: #E2EBFA;\n",
              "      --hover-fill-color: #174EA6;\n",
              "      --disabled-fill-color: #AAA;\n",
              "      --disabled-bg-color: #DDD;\n",
              "  }\n",
              "\n",
              "  [theme=dark] .colab-df-quickchart {\n",
              "      --bg-color: #3B4455;\n",
              "      --fill-color: #D2E3FC;\n",
              "      --hover-bg-color: #434B5C;\n",
              "      --hover-fill-color: #FFFFFF;\n",
              "      --disabled-bg-color: #3B4455;\n",
              "      --disabled-fill-color: #666;\n",
              "  }\n",
              "\n",
              "  .colab-df-quickchart {\n",
              "    background-color: var(--bg-color);\n",
              "    border: none;\n",
              "    border-radius: 50%;\n",
              "    cursor: pointer;\n",
              "    display: none;\n",
              "    fill: var(--fill-color);\n",
              "    height: 32px;\n",
              "    padding: 0;\n",
              "    width: 32px;\n",
              "  }\n",
              "\n",
              "  .colab-df-quickchart:hover {\n",
              "    background-color: var(--hover-bg-color);\n",
              "    box-shadow: 0 1px 2px rgba(60, 64, 67, 0.3), 0 1px 3px 1px rgba(60, 64, 67, 0.15);\n",
              "    fill: var(--button-hover-fill-color);\n",
              "  }\n",
              "\n",
              "  .colab-df-quickchart-complete:disabled,\n",
              "  .colab-df-quickchart-complete:disabled:hover {\n",
              "    background-color: var(--disabled-bg-color);\n",
              "    fill: var(--disabled-fill-color);\n",
              "    box-shadow: none;\n",
              "  }\n",
              "\n",
              "  .colab-df-spinner {\n",
              "    border: 2px solid var(--fill-color);\n",
              "    border-color: transparent;\n",
              "    border-bottom-color: var(--fill-color);\n",
              "    animation:\n",
              "      spin 1s steps(1) infinite;\n",
              "  }\n",
              "\n",
              "  @keyframes spin {\n",
              "    0% {\n",
              "      border-color: transparent;\n",
              "      border-bottom-color: var(--fill-color);\n",
              "      border-left-color: var(--fill-color);\n",
              "    }\n",
              "    20% {\n",
              "      border-color: transparent;\n",
              "      border-left-color: var(--fill-color);\n",
              "      border-top-color: var(--fill-color);\n",
              "    }\n",
              "    30% {\n",
              "      border-color: transparent;\n",
              "      border-left-color: var(--fill-color);\n",
              "      border-top-color: var(--fill-color);\n",
              "      border-right-color: var(--fill-color);\n",
              "    }\n",
              "    40% {\n",
              "      border-color: transparent;\n",
              "      border-right-color: var(--fill-color);\n",
              "      border-top-color: var(--fill-color);\n",
              "    }\n",
              "    60% {\n",
              "      border-color: transparent;\n",
              "      border-right-color: var(--fill-color);\n",
              "    }\n",
              "    80% {\n",
              "      border-color: transparent;\n",
              "      border-right-color: var(--fill-color);\n",
              "      border-bottom-color: var(--fill-color);\n",
              "    }\n",
              "    90% {\n",
              "      border-color: transparent;\n",
              "      border-bottom-color: var(--fill-color);\n",
              "    }\n",
              "  }\n",
              "</style>\n",
              "\n",
              "  <script>\n",
              "    async function quickchart(key) {\n",
              "      const quickchartButtonEl =\n",
              "        document.querySelector('#' + key + ' button');\n",
              "      quickchartButtonEl.disabled = true;  // To prevent multiple clicks.\n",
              "      quickchartButtonEl.classList.add('colab-df-spinner');\n",
              "      try {\n",
              "        const charts = await google.colab.kernel.invokeFunction(\n",
              "            'suggestCharts', [key], {});\n",
              "      } catch (error) {\n",
              "        console.error('Error during call to suggestCharts:', error);\n",
              "      }\n",
              "      quickchartButtonEl.classList.remove('colab-df-spinner');\n",
              "      quickchartButtonEl.classList.add('colab-df-quickchart-complete');\n",
              "    }\n",
              "    (() => {\n",
              "      let quickchartButtonEl =\n",
              "        document.querySelector('#df-f93e3dc0-d9e7-4b04-8192-a466a81d6b2f button');\n",
              "      quickchartButtonEl.style.display =\n",
              "        google.colab.kernel.accessAllowed ? 'block' : 'none';\n",
              "    })();\n",
              "  </script>\n",
              "</div>\n",
              "\n",
              "    </div>\n",
              "  </div>\n"
            ],
            "application/vnd.google.colaboratory.intrinsic+json": {
              "type": "dataframe",
              "variable_name": "df_estoque",
              "summary": "{\n  \"name\": \"df_estoque\",\n  \"rows\": 370,\n  \"fields\": [\n    {\n      \"column\": \"data\",\n      \"properties\": {\n        \"dtype\": \"object\",\n        \"num_unique_values\": 370,\n        \"samples\": [\n          \"2021-04-11\",\n          \"2015-08-23\",\n          \"2015-04-19\"\n        ],\n        \"semantic_type\": \"\",\n        \"description\": \"\"\n      }\n    },\n    {\n      \"column\": \"vendas-iogurte\",\n      \"properties\": {\n        \"dtype\": \"number\",\n        \"std\": 77,\n        \"min\": 4811,\n        \"max\": 5233,\n        \"num_unique_values\": 207,\n        \"samples\": [\n          4950,\n          5113,\n          4949\n        ],\n        \"semantic_type\": \"\",\n        \"description\": \"\"\n      }\n    },\n    {\n      \"column\": \"lead-time\",\n      \"properties\": {\n        \"dtype\": \"number\",\n        \"std\": 1,\n        \"min\": 1,\n        \"max\": 9,\n        \"num_unique_values\": 9,\n        \"samples\": [\n          2,\n          3,\n          8\n        ],\n        \"semantic_type\": \"\",\n        \"description\": \"\"\n      }\n    }\n  ]\n}"
            }
          },
          "metadata": {},
          "execution_count": 21
        }
      ]
    },
    {
      "cell_type": "code",
      "source": [
        "df_estoque.shape"
      ],
      "metadata": {
        "colab": {
          "base_uri": "https://localhost:8080/"
        },
        "id": "1v34YyCtm9wx",
        "outputId": "37dff789-ed4a-4893-c258-2d8a6b6b5020"
      },
      "execution_count": null,
      "outputs": [
        {
          "output_type": "execute_result",
          "data": {
            "text/plain": [
              "(370, 3)"
            ]
          },
          "metadata": {},
          "execution_count": 22
        }
      ]
    },
    {
      "cell_type": "code",
      "source": [
        "df_estoque.dtypes"
      ],
      "metadata": {
        "colab": {
          "base_uri": "https://localhost:8080/",
          "height": 178
        },
        "id": "LZvH8P49m-0s",
        "outputId": "1484f9e5-176a-4c9b-8a9e-8a622fdc8732"
      },
      "execution_count": null,
      "outputs": [
        {
          "output_type": "execute_result",
          "data": {
            "text/plain": [
              "data              object\n",
              "vendas-iogurte     int64\n",
              "lead-time          int64\n",
              "dtype: object"
            ],
            "text/html": [
              "<div>\n",
              "<style scoped>\n",
              "    .dataframe tbody tr th:only-of-type {\n",
              "        vertical-align: middle;\n",
              "    }\n",
              "\n",
              "    .dataframe tbody tr th {\n",
              "        vertical-align: top;\n",
              "    }\n",
              "\n",
              "    .dataframe thead th {\n",
              "        text-align: right;\n",
              "    }\n",
              "</style>\n",
              "<table border=\"1\" class=\"dataframe\">\n",
              "  <thead>\n",
              "    <tr style=\"text-align: right;\">\n",
              "      <th></th>\n",
              "      <th>0</th>\n",
              "    </tr>\n",
              "  </thead>\n",
              "  <tbody>\n",
              "    <tr>\n",
              "      <th>data</th>\n",
              "      <td>object</td>\n",
              "    </tr>\n",
              "    <tr>\n",
              "      <th>vendas-iogurte</th>\n",
              "      <td>int64</td>\n",
              "    </tr>\n",
              "    <tr>\n",
              "      <th>lead-time</th>\n",
              "      <td>int64</td>\n",
              "    </tr>\n",
              "  </tbody>\n",
              "</table>\n",
              "</div><br><label><b>dtype:</b> object</label>"
            ]
          },
          "metadata": {},
          "execution_count": 23
        }
      ]
    },
    {
      "cell_type": "code",
      "source": [
        "df_estoque.describe()"
      ],
      "metadata": {
        "colab": {
          "base_uri": "https://localhost:8080/",
          "height": 300
        },
        "id": "qg6ZLnVnnEPR",
        "outputId": "82068cd6-cc8b-41d5-a134-45a60f0889ce"
      },
      "execution_count": null,
      "outputs": [
        {
          "output_type": "execute_result",
          "data": {
            "text/plain": [
              "       vendas-iogurte   lead-time\n",
              "count      370.000000  370.000000\n",
              "mean      4999.170270    5.094595\n",
              "std         77.285068    1.578728\n",
              "min       4811.000000    1.000000\n",
              "25%       4947.000000    4.000000\n",
              "50%       4996.000000    5.000000\n",
              "75%       5054.000000    6.000000\n",
              "max       5233.000000    9.000000"
            ],
            "text/html": [
              "\n",
              "  <div id=\"df-08691f60-5856-4d70-be95-43170609552f\" class=\"colab-df-container\">\n",
              "    <div>\n",
              "<style scoped>\n",
              "    .dataframe tbody tr th:only-of-type {\n",
              "        vertical-align: middle;\n",
              "    }\n",
              "\n",
              "    .dataframe tbody tr th {\n",
              "        vertical-align: top;\n",
              "    }\n",
              "\n",
              "    .dataframe thead th {\n",
              "        text-align: right;\n",
              "    }\n",
              "</style>\n",
              "<table border=\"1\" class=\"dataframe\">\n",
              "  <thead>\n",
              "    <tr style=\"text-align: right;\">\n",
              "      <th></th>\n",
              "      <th>vendas-iogurte</th>\n",
              "      <th>lead-time</th>\n",
              "    </tr>\n",
              "  </thead>\n",
              "  <tbody>\n",
              "    <tr>\n",
              "      <th>count</th>\n",
              "      <td>370.000000</td>\n",
              "      <td>370.000000</td>\n",
              "    </tr>\n",
              "    <tr>\n",
              "      <th>mean</th>\n",
              "      <td>4999.170270</td>\n",
              "      <td>5.094595</td>\n",
              "    </tr>\n",
              "    <tr>\n",
              "      <th>std</th>\n",
              "      <td>77.285068</td>\n",
              "      <td>1.578728</td>\n",
              "    </tr>\n",
              "    <tr>\n",
              "      <th>min</th>\n",
              "      <td>4811.000000</td>\n",
              "      <td>1.000000</td>\n",
              "    </tr>\n",
              "    <tr>\n",
              "      <th>25%</th>\n",
              "      <td>4947.000000</td>\n",
              "      <td>4.000000</td>\n",
              "    </tr>\n",
              "    <tr>\n",
              "      <th>50%</th>\n",
              "      <td>4996.000000</td>\n",
              "      <td>5.000000</td>\n",
              "    </tr>\n",
              "    <tr>\n",
              "      <th>75%</th>\n",
              "      <td>5054.000000</td>\n",
              "      <td>6.000000</td>\n",
              "    </tr>\n",
              "    <tr>\n",
              "      <th>max</th>\n",
              "      <td>5233.000000</td>\n",
              "      <td>9.000000</td>\n",
              "    </tr>\n",
              "  </tbody>\n",
              "</table>\n",
              "</div>\n",
              "    <div class=\"colab-df-buttons\">\n",
              "\n",
              "  <div class=\"colab-df-container\">\n",
              "    <button class=\"colab-df-convert\" onclick=\"convertToInteractive('df-08691f60-5856-4d70-be95-43170609552f')\"\n",
              "            title=\"Convert this dataframe to an interactive table.\"\n",
              "            style=\"display:none;\">\n",
              "\n",
              "  <svg xmlns=\"http://www.w3.org/2000/svg\" height=\"24px\" viewBox=\"0 -960 960 960\">\n",
              "    <path d=\"M120-120v-720h720v720H120Zm60-500h600v-160H180v160Zm220 220h160v-160H400v160Zm0 220h160v-160H400v160ZM180-400h160v-160H180v160Zm440 0h160v-160H620v160ZM180-180h160v-160H180v160Zm440 0h160v-160H620v160Z\"/>\n",
              "  </svg>\n",
              "    </button>\n",
              "\n",
              "  <style>\n",
              "    .colab-df-container {\n",
              "      display:flex;\n",
              "      gap: 12px;\n",
              "    }\n",
              "\n",
              "    .colab-df-convert {\n",
              "      background-color: #E8F0FE;\n",
              "      border: none;\n",
              "      border-radius: 50%;\n",
              "      cursor: pointer;\n",
              "      display: none;\n",
              "      fill: #1967D2;\n",
              "      height: 32px;\n",
              "      padding: 0 0 0 0;\n",
              "      width: 32px;\n",
              "    }\n",
              "\n",
              "    .colab-df-convert:hover {\n",
              "      background-color: #E2EBFA;\n",
              "      box-shadow: 0px 1px 2px rgba(60, 64, 67, 0.3), 0px 1px 3px 1px rgba(60, 64, 67, 0.15);\n",
              "      fill: #174EA6;\n",
              "    }\n",
              "\n",
              "    .colab-df-buttons div {\n",
              "      margin-bottom: 4px;\n",
              "    }\n",
              "\n",
              "    [theme=dark] .colab-df-convert {\n",
              "      background-color: #3B4455;\n",
              "      fill: #D2E3FC;\n",
              "    }\n",
              "\n",
              "    [theme=dark] .colab-df-convert:hover {\n",
              "      background-color: #434B5C;\n",
              "      box-shadow: 0px 1px 3px 1px rgba(0, 0, 0, 0.15);\n",
              "      filter: drop-shadow(0px 1px 2px rgba(0, 0, 0, 0.3));\n",
              "      fill: #FFFFFF;\n",
              "    }\n",
              "  </style>\n",
              "\n",
              "    <script>\n",
              "      const buttonEl =\n",
              "        document.querySelector('#df-08691f60-5856-4d70-be95-43170609552f button.colab-df-convert');\n",
              "      buttonEl.style.display =\n",
              "        google.colab.kernel.accessAllowed ? 'block' : 'none';\n",
              "\n",
              "      async function convertToInteractive(key) {\n",
              "        const element = document.querySelector('#df-08691f60-5856-4d70-be95-43170609552f');\n",
              "        const dataTable =\n",
              "          await google.colab.kernel.invokeFunction('convertToInteractive',\n",
              "                                                    [key], {});\n",
              "        if (!dataTable) return;\n",
              "\n",
              "        const docLinkHtml = 'Like what you see? Visit the ' +\n",
              "          '<a target=\"_blank\" href=https://colab.research.google.com/notebooks/data_table.ipynb>data table notebook</a>'\n",
              "          + ' to learn more about interactive tables.';\n",
              "        element.innerHTML = '';\n",
              "        dataTable['output_type'] = 'display_data';\n",
              "        await google.colab.output.renderOutput(dataTable, element);\n",
              "        const docLink = document.createElement('div');\n",
              "        docLink.innerHTML = docLinkHtml;\n",
              "        element.appendChild(docLink);\n",
              "      }\n",
              "    </script>\n",
              "  </div>\n",
              "\n",
              "\n",
              "<div id=\"df-6c6537f1-cc02-49af-814e-0a68de10df93\">\n",
              "  <button class=\"colab-df-quickchart\" onclick=\"quickchart('df-6c6537f1-cc02-49af-814e-0a68de10df93')\"\n",
              "            title=\"Suggest charts\"\n",
              "            style=\"display:none;\">\n",
              "\n",
              "<svg xmlns=\"http://www.w3.org/2000/svg\" height=\"24px\"viewBox=\"0 0 24 24\"\n",
              "     width=\"24px\">\n",
              "    <g>\n",
              "        <path d=\"M19 3H5c-1.1 0-2 .9-2 2v14c0 1.1.9 2 2 2h14c1.1 0 2-.9 2-2V5c0-1.1-.9-2-2-2zM9 17H7v-7h2v7zm4 0h-2V7h2v10zm4 0h-2v-4h2v4z\"/>\n",
              "    </g>\n",
              "</svg>\n",
              "  </button>\n",
              "\n",
              "<style>\n",
              "  .colab-df-quickchart {\n",
              "      --bg-color: #E8F0FE;\n",
              "      --fill-color: #1967D2;\n",
              "      --hover-bg-color: #E2EBFA;\n",
              "      --hover-fill-color: #174EA6;\n",
              "      --disabled-fill-color: #AAA;\n",
              "      --disabled-bg-color: #DDD;\n",
              "  }\n",
              "\n",
              "  [theme=dark] .colab-df-quickchart {\n",
              "      --bg-color: #3B4455;\n",
              "      --fill-color: #D2E3FC;\n",
              "      --hover-bg-color: #434B5C;\n",
              "      --hover-fill-color: #FFFFFF;\n",
              "      --disabled-bg-color: #3B4455;\n",
              "      --disabled-fill-color: #666;\n",
              "  }\n",
              "\n",
              "  .colab-df-quickchart {\n",
              "    background-color: var(--bg-color);\n",
              "    border: none;\n",
              "    border-radius: 50%;\n",
              "    cursor: pointer;\n",
              "    display: none;\n",
              "    fill: var(--fill-color);\n",
              "    height: 32px;\n",
              "    padding: 0;\n",
              "    width: 32px;\n",
              "  }\n",
              "\n",
              "  .colab-df-quickchart:hover {\n",
              "    background-color: var(--hover-bg-color);\n",
              "    box-shadow: 0 1px 2px rgba(60, 64, 67, 0.3), 0 1px 3px 1px rgba(60, 64, 67, 0.15);\n",
              "    fill: var(--button-hover-fill-color);\n",
              "  }\n",
              "\n",
              "  .colab-df-quickchart-complete:disabled,\n",
              "  .colab-df-quickchart-complete:disabled:hover {\n",
              "    background-color: var(--disabled-bg-color);\n",
              "    fill: var(--disabled-fill-color);\n",
              "    box-shadow: none;\n",
              "  }\n",
              "\n",
              "  .colab-df-spinner {\n",
              "    border: 2px solid var(--fill-color);\n",
              "    border-color: transparent;\n",
              "    border-bottom-color: var(--fill-color);\n",
              "    animation:\n",
              "      spin 1s steps(1) infinite;\n",
              "  }\n",
              "\n",
              "  @keyframes spin {\n",
              "    0% {\n",
              "      border-color: transparent;\n",
              "      border-bottom-color: var(--fill-color);\n",
              "      border-left-color: var(--fill-color);\n",
              "    }\n",
              "    20% {\n",
              "      border-color: transparent;\n",
              "      border-left-color: var(--fill-color);\n",
              "      border-top-color: var(--fill-color);\n",
              "    }\n",
              "    30% {\n",
              "      border-color: transparent;\n",
              "      border-left-color: var(--fill-color);\n",
              "      border-top-color: var(--fill-color);\n",
              "      border-right-color: var(--fill-color);\n",
              "    }\n",
              "    40% {\n",
              "      border-color: transparent;\n",
              "      border-right-color: var(--fill-color);\n",
              "      border-top-color: var(--fill-color);\n",
              "    }\n",
              "    60% {\n",
              "      border-color: transparent;\n",
              "      border-right-color: var(--fill-color);\n",
              "    }\n",
              "    80% {\n",
              "      border-color: transparent;\n",
              "      border-right-color: var(--fill-color);\n",
              "      border-bottom-color: var(--fill-color);\n",
              "    }\n",
              "    90% {\n",
              "      border-color: transparent;\n",
              "      border-bottom-color: var(--fill-color);\n",
              "    }\n",
              "  }\n",
              "</style>\n",
              "\n",
              "  <script>\n",
              "    async function quickchart(key) {\n",
              "      const quickchartButtonEl =\n",
              "        document.querySelector('#' + key + ' button');\n",
              "      quickchartButtonEl.disabled = true;  // To prevent multiple clicks.\n",
              "      quickchartButtonEl.classList.add('colab-df-spinner');\n",
              "      try {\n",
              "        const charts = await google.colab.kernel.invokeFunction(\n",
              "            'suggestCharts', [key], {});\n",
              "      } catch (error) {\n",
              "        console.error('Error during call to suggestCharts:', error);\n",
              "      }\n",
              "      quickchartButtonEl.classList.remove('colab-df-spinner');\n",
              "      quickchartButtonEl.classList.add('colab-df-quickchart-complete');\n",
              "    }\n",
              "    (() => {\n",
              "      let quickchartButtonEl =\n",
              "        document.querySelector('#df-6c6537f1-cc02-49af-814e-0a68de10df93 button');\n",
              "      quickchartButtonEl.style.display =\n",
              "        google.colab.kernel.accessAllowed ? 'block' : 'none';\n",
              "    })();\n",
              "  </script>\n",
              "</div>\n",
              "\n",
              "    </div>\n",
              "  </div>\n"
            ],
            "application/vnd.google.colaboratory.intrinsic+json": {
              "type": "dataframe",
              "summary": "{\n  \"name\": \"df_estoque\",\n  \"rows\": 8,\n  \"fields\": [\n    {\n      \"column\": \"vendas-iogurte\",\n      \"properties\": {\n        \"dtype\": \"number\",\n        \"std\": 2218.5809733082765,\n        \"min\": 77.28506821873455,\n        \"max\": 5233.0,\n        \"num_unique_values\": 8,\n        \"samples\": [\n          4999.1702702702705,\n          4996.0,\n          370.0\n        ],\n        \"semantic_type\": \"\",\n        \"description\": \"\"\n      }\n    },\n    {\n      \"column\": \"lead-time\",\n      \"properties\": {\n        \"dtype\": \"number\",\n        \"std\": 129.239404096969,\n        \"min\": 1.0,\n        \"max\": 370.0,\n        \"num_unique_values\": 8,\n        \"samples\": [\n          5.094594594594595,\n          5.0,\n          370.0\n        ],\n        \"semantic_type\": \"\",\n        \"description\": \"\"\n      }\n    }\n  ]\n}"
            }
          },
          "metadata": {},
          "execution_count": 24
        }
      ]
    },
    {
      "cell_type": "markdown",
      "source": [
        "\n",
        "\n",
        "---\n",
        "\n"
      ],
      "metadata": {
        "id": "X98WKqYKvx8x"
      }
    },
    {
      "cell_type": "markdown",
      "source": [
        "Suponha agora que você trabalha em uma empresa de produtos perecíveis, como\n",
        "Danone ou Nestlé. Para a empresa, é muito importante que a sua política de estoque seja eficiente. É necessário manter um estoque de segurança em todos os produtos (acima da previsão de vendas), pois, caso contrário, as pessoas podem não encontrar os produtos no supermercado. Mas, ao mesmo tempo, se o estoque estiver em excesso, isso pode representar um grande custo. Os produtos podem não ser comprados, e consequentemente, jogados fora, o que na indústria se chama \"desova\".\n",
        "\n",
        "Para achar o equilíbrio perfeito, o gerente de vendas pediu a ajuda a você, do time de análise de dados, e ele gostaria de saber qual o estoque de segurança ideal.\n",
        "\n",
        "Mais informações sobre conceitos importantes da indústria: https://drive.google.com/file/d/1hFABtiB4uVd7_UCNz9IfuR6CFYmzFdWa/view?usp=sharing\n",
        "\n",
        "O gerente de vendas te enviou o arquivo desafio_02_estoque.csv contendo os\n",
        "dados de vendas de iogurte e o lead time de 2015 a 2022."
      ],
      "metadata": {
        "id": "-h0p28bhlinW"
      }
    },
    {
      "cell_type": "markdown",
      "source": [
        "###**Exercício 1**\n",
        "\n",
        "1. Analise os dados das vendas e do lead time. Eles seguem uma distribuição\n",
        "normal? Que características você identificou para chegar a essa conclusão?"
      ],
      "metadata": {
        "id": "KjpH-encnasz"
      }
    },
    {
      "cell_type": "code",
      "source": [
        "# Para verificar se os dados seguem uma distribuição normal, podemos utilizar histogramas, Q-Q plots e testes de normalidade como o teste de Shapiro-Wilk.\n",
        "'''\n",
        "Um histograma com uma curva de densidade sobreposta pode fornecer uma boa visualização da distribuição dos dados.\n",
        "Para uma distribuição normal, o histograma deve se aproximar de uma forma de sino (bell-shaped curve).\n",
        "'''\n",
        "\n",
        "# Histogramas\n",
        "plt.figure(figsize=(12, 6))\n",
        "\n",
        "plt.subplot(2, 2, 1)\n",
        "sns.histplot(df_estoque['vendas-iogurte'], kde=True)\n",
        "plt.title('Distribuição de Vendas')\n",
        "\n",
        "plt.subplot(2, 2, 2)\n",
        "sns.histplot(df_estoque['lead-time'], kde=True)\n",
        "plt.title('Distribuição do Lead Time')\n",
        "\n",
        "plt.tight_layout()\n",
        "plt.show()\n",
        "\n",
        "print(\"\\nNotamos que a distribuição das vendas é normal por apresentar a forma de sino simétrica, característico de uma distribuição normal.\")\n",
        "print(\"Notamos que a distribuição do leadtime não é normal por não apresentar a forma de sino simétrica, característico de uma distribuição normal.\")"
      ],
      "metadata": {
        "id": "pF7HdcD7nfdv",
        "colab": {
          "base_uri": "https://localhost:8080/",
          "height": 399
        },
        "outputId": "4b105926-5e4c-4d28-9e91-24eff6bc3d29"
      },
      "execution_count": null,
      "outputs": [
        {
          "output_type": "display_data",
          "data": {
            "text/plain": [
              "<Figure size 1200x600 with 2 Axes>"
            ],
            "image/png": "[encoded data removed]"
          },
          "metadata": {}
        },
        {
          "output_type": "stream",
          "name": "stdout",
          "text": [
            "\n",
            "Notamos que a distribuição das vendas é normal por apresentar a forma de sino simétrica, característico de uma distribuição normal.\n",
            "Notamos que a distribuição do leadtime não é normal por não apresentar a forma de sino simétrica, característico de uma distribuição normal.\n"
          ]
        }
      ]
    },
    {
      "cell_type": "markdown",
      "source": [
        "\n",
        "\n",
        "---\n",
        "\n"
      ],
      "metadata": {
        "id": "NzxGOWC3vzvH"
      }
    },
    {
      "cell_type": "code",
      "source": [
        "# Q-Q Plot para vendas\n",
        "'''\n",
        "O Q-Q plot compara os quantis dos dados com os quantis teóricos de uma distribuição normal.\n",
        "Se os pontos estiverem próximos da linha reta, a distribuição dos dados é aproximadamente normal.\n",
        "'''\n",
        "plt.figure(figsize=(6, 3))\n",
        "stats.probplot(df_estoque['vendas-iogurte'].dropna(), dist=\"norm\", plot=plt)\n",
        "plt.title('Q-Q Plot de Vendas')\n",
        "plt.show()\n",
        "\n",
        "# Q-Q Plot para lead time\n",
        "plt.figure(figsize=(6, 3))\n",
        "stats.probplot(df_estoque['lead-time'].dropna(), dist=\"norm\", plot=plt)\n",
        "plt.title('Q-Q Plot de Lead Time')\n",
        "plt.show()\n",
        "\n",
        "print(\"\\nNotamos que a distribuição das vendas é normal por apresentar os pontos se alinhando aproximadamente em uma linha reta, característico de uma distribuição normal.\")\n",
        "print(\"Notamos que a distribuição do leadtime não é normal por não apresentar os pontos se alinhando aproximadamente em uma linha reta, característico de uma distribuição normal.\")"
      ],
      "metadata": {
        "colab": {
          "base_uri": "https://localhost:8080/",
          "height": 701
        },
        "id": "E6K2lxR2Jvsp",
        "outputId": "e7452e5d-5bf4-4fd1-cf3d-e5e171edd377"
      },
      "execution_count": null,
      "outputs": [
        {
          "output_type": "display_data",
          "data": {
            "text/plain": [
              "<Figure size 600x300 with 1 Axes>"
            ],
            "image/png": "[encoded data removed]"
          },
          "metadata": {}
        },
        {
          "output_type": "display_data",
          "data": {
            "text/plain": [
              "<Figure size 600x300 with 1 Axes>"
            ],
            "image/png": "[encoded data removed]"
          },
          "metadata": {}
        },
        {
          "output_type": "stream",
          "name": "stdout",
          "text": [
            "\n",
            "Notamos que a distribuição das vendas é normal por apresentar os pontos se alinhando aproximadamente em uma linha reta, característico de uma distribuição normal.\n",
            "Notamos que a distribuição do leadtime não é normal por não apresentar os pontos se alinhando aproximadamente em uma linha reta, característico de uma distribuição normal.\n"
          ]
        }
      ]
    },
    {
      "cell_type": "code",
      "source": [
        "# Testes de normalidade\n",
        "'''\n",
        "O teste de Shapiro-Wilk é um teste de normalidade que avalia a hipótese nula de que os dados vêm de uma distribuição normal.\n",
        "Se o valor p for maior que o nível de significância (geralmente 0,05), não há evidências suficientes para rejeitar a hipótese de normalidade.\n",
        "'''\n",
        "\n",
        "stat_vendas, p_vendas = stats.shapiro(df_estoque['vendas-iogurte'].dropna())\n",
        "stat_lead_time, p_lead_time = stats.shapiro(df_estoque['lead-time'].dropna())\n",
        "print(f\"Teste de Shapiro-Wilk para Vendas: p-value = {p_vendas}\")\n",
        "print(f\"Teste de Shapiro-Wilk para Lead Time: p-value = {p_lead_time}\")\n",
        "\n",
        "print(\"\\nA distribuição das vendas é normal.\" if p_vendas > 0.05 else \"A distribuição das vendas não é normal.\")\n",
        "print(\"A distribuição do lead time é normal.\" if p_lead_time > 0.05 else \"A distribuição do lead time não é normal.\")"
      ],
      "metadata": {
        "colab": {
          "base_uri": "https://localhost:8080/"
        },
        "id": "XRmryS1AJ_Aa",
        "outputId": "409f84ed-aca1-4fb1-f534-4a0d7466d383"
      },
      "execution_count": null,
      "outputs": [
        {
          "output_type": "stream",
          "name": "stdout",
          "text": [
            "Teste de Shapiro-Wilk para Vendas: p-value = 0.34418094488575024\n",
            "Teste de Shapiro-Wilk para Lead Time: p-value = 7.123578589864982e-08\n",
            "\n",
            "A distribuição das vendas é normal.\n",
            "A distribuição do lead time não é normal.\n"
          ]
        }
      ]
    },
    {
      "cell_type": "markdown",
      "source": [
        "###**Exercício 2**\n",
        "\n",
        "2. Assuma que:\n",
        "\n",
        "a. Os dados seguem uma distribuição normal.\n",
        "\n",
        "b. O time de vendas utilize para o produto em questão o nível de serviço\n",
        "de 99,87%\n",
        "\n",
        "c. O produto não tem sazonalidade (todos os meses vende valores\n",
        "próximos) e a demanda média passada é uma boa estimativa para a\n",
        "projetada, de acordo com o time de planejamento de demanda.\n",
        "\n",
        "Calcule, com os dados fornecidos, o estoque de segurança desejado."
      ],
      "metadata": {
        "id": "JrVlFBbGneOn"
      }
    },
    {
      "cell_type": "code",
      "source": [
        "# Estatísticas para vendas\n",
        "media_vendas = round((df_estoque['vendas-iogurte'].mean()), 2)\n",
        "desvio_padrao_vendas = round((df_estoque['vendas-iogurte'].std()), 2)\n",
        "\n",
        "# Estatísticas para lead time\n",
        "media_lead_time = round((df_estoque['lead-time'].mean()), 2)\n",
        "desvio_padrao_lead_time = round((df_estoque['lead-time'].std()), 2)\n",
        "\n",
        "print(f'Média de vendas: {media_vendas}.')\n",
        "print(f'Desvio padrão das vendas: {desvio_padrao_vendas}.\\n')\n",
        "\n",
        "print(f'Média do lead time: {media_lead_time}.')\n",
        "print(f'Desvio padrão do lead time: {desvio_padrao_lead_time}.')"
      ],
      "metadata": {
        "id": "sB6zWrRanZIm",
        "colab": {
          "base_uri": "https://localhost:8080/"
        },
        "outputId": "a88aeaae-830c-4dd7-a04d-c5edea06e6f4"
      },
      "execution_count": null,
      "outputs": [
        {
          "output_type": "stream",
          "name": "stdout",
          "text": [
            "Média de vendas: 4999.17.\n",
            "Desvio padrão das vendas: 77.29.\n",
            "\n",
            "Média do lead time: 5.09.\n",
            "Desvio padrão do lead time: 1.58.\n"
          ]
        }
      ]
    },
    {
      "cell_type": "code",
      "source": [
        "# Valor Z para 99,87% de nível de serviço\n",
        "z = stats.norm.ppf(0.9987)\n",
        "print(f'Valor Z para 99,87% de nível de serviço: {z}')"
      ],
      "metadata": {
        "colab": {
          "base_uri": "https://localhost:8080/"
        },
        "id": "A4XjdN9-ksrd",
        "outputId": "1874148a-80d4-4de1-e1ae-91c9365304bb"
      },
      "execution_count": null,
      "outputs": [
        {
          "output_type": "stream",
          "name": "stdout",
          "text": [
            "Valor Z para 99,87% de nível de serviço: 3.011453758499792\n"
          ]
        }
      ]
    },
    {
      "cell_type": "markdown",
      "source": [
        "\n",
        "\n",
        "---\n",
        "\n"
      ],
      "metadata": {
        "id": "BSfD6UJ0l4Wl"
      }
    },
    {
      "cell_type": "markdown",
      "source": [
        "######Fórmula de cálculo do estoque de segurança\n",
        "Como o desvio padrão do lead time é baixo, ou seja, os dados estão próximos da média e possuem pouca variabilidade. O cálculo do estoque de segurança será\n",
        "\n",
        "![image.png](data:image/png;base64,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)\n",
        "\n",
        "Onde:\n",
        "* Z = o valor da tabela da distribuição normal, que indica a quantos desvios\n",
        "padrões ao redor da média temos que tomar para cobrir a proporção da\n",
        "área sob a curva normal /nível de serviço desejado.\n",
        "* σd = desvio padrão / variação da demanda\n",
        "* t = lead time médio"
      ],
      "metadata": {
        "id": "b9GcxI8JlZko"
      }
    },
    {
      "cell_type": "markdown",
      "source": [
        "\n",
        "\n",
        "---\n",
        "\n"
      ],
      "metadata": {
        "id": "qIhDXNTUl5Wd"
      }
    },
    {
      "cell_type": "code",
      "source": [
        "# Calcular o estoque de segurança\n",
        "estoque_seguranca = z * desvio_padrao_vendas * np.sqrt(media_lead_time)\n",
        "\n",
        "# Arredondando para cima\n",
        "estoque_seguranca = np.ceil(estoque_seguranca)\n",
        "print(f'Estoque de Segurança Ideal: {estoque_seguranca}')"
      ],
      "metadata": {
        "colab": {
          "base_uri": "https://localhost:8080/"
        },
        "id": "eo4_sjnLl2vm",
        "outputId": "8766908a-f14e-4950-e366-cee8e82f24a5"
      },
      "execution_count": null,
      "outputs": [
        {
          "output_type": "stream",
          "name": "stdout",
          "text": [
            "Estoque de Segurança Ideal: 526.0\n"
          ]
        }
      ]
    }
  ]
}