{
  "nbformat": 4,
  "nbformat_minor": 0,
  "metadata": {
    "colab": {
      "provenance": []
    },
    "kernelspec": {
      "name": "python3",
      "display_name": "Python 3"
    },
    "language_info": {
      "name": "python"
    }
  },
  "cells": [
    {
      "cell_type": "markdown",
      "source": [
        "# **Desafio: Testes de Hipóteses**\n",
        "\n",
        "####Squad Jill Tarter"
      ],
      "metadata": {
        "id": "wg-toxC5RkcU"
      }
    },
    {
      "cell_type": "markdown",
      "source": [
        "\n",
        "\n",
        "---\n",
        "\n"
      ],
      "metadata": {
        "id": "UDFrKpq7RqGa"
      }
    },
    {
      "cell_type": "markdown",
      "source": [
        "### Importação das bibliotecas"
      ],
      "metadata": {
        "id": "kfWSH1InRqJA"
      }
    },
    {
      "cell_type": "code",
      "execution_count": null,
      "metadata": {
        "id": "_CTtfx4gRLBB"
      },
      "outputs": [],
      "source": [
        "import pandas as pd\n",
        "import numpy as np\n",
        "import seaborn as sns\n",
        "import matplotlib.pyplot as plt\n",
        "import scipy.stats as stats\n",
        "import statsmodels.api as sm\n",
        "import statsmodels.formula.api as smf"
      ]
    },
    {
      "cell_type": "markdown",
      "source": [
        "\n",
        "\n",
        "---\n",
        "\n"
      ],
      "metadata": {
        "id": "dUICBoL9Rz_I"
      }
    },
    {
      "cell_type": "markdown",
      "source": [
        "## **Desafio 1: Cosméticos**"
      ],
      "metadata": {
        "id": "ap7h5y3QR11B"
      }
    },
    {
      "cell_type": "markdown",
      "source": [
        "### Abrindo, lendo o arquivo e analisando o dataset"
      ],
      "metadata": {
        "id": "M0X4ptQjSOFB"
      }
    },
    {
      "cell_type": "markdown",
      "source": [
        "Clicar no link e baixar o arquivo na sua máquina:\n",
        "\n",
        "https://drive.google.com/file/d/15Pd-ykZR_ChHHDKPghAUFAde-HS-GfQ2/view?usp=drive_link"
      ],
      "metadata": {
        "id": "ByTwXhjlSVOO"
      }
    },
    {
      "cell_type": "code",
      "source": [
        "#Após rodar o código, clique em \"Escolher arquivos\" para importar o arquivo que você baixou\n",
        "from google.colab import files\n",
        "uploaded = files.upload()"
      ],
      "metadata": {
        "colab": {
          "base_uri": "https://localhost:8080/",
          "height": 73
        },
        "id": "4PwdRAdYR0y0",
        "outputId": "0b7a4e15-fcd0-42d5-b2c6-e5cb9909ccc0"
      },
      "execution_count": null,
      "outputs": [
        {
          "output_type": "display_data",
          "data": {
            "text/plain": [
              "<IPython.core.display.HTML object>"
            ],
            "text/html": [
              "\n",
              "     <input type=\"file\" id=\"files-b00fd926-6365-46a7-b7c4-537703ef4663\" name=\"files[]\" multiple disabled\n",
              "        style=\"border:none\" />\n",
              "     <output id=\"result-b00fd926-6365-46a7-b7c4-537703ef4663\">\n",
              "      Upload widget is only available when the cell has been executed in the\n",
              "      current browser session. Please rerun this cell to enable.\n",
              "      </output>\n",
              "      <script>// Copyright 2017 Google LLC\n",
              "//\n",
              "// Licensed under the Apache License, Version 2.0 (the \"License\");\n",
              "// you may not use this file except in compliance with the License.\n",
              "// You may obtain a copy of the License at\n",
              "//\n",
              "//      http://www.apache.org/licenses/LICENSE-2.0\n",
              "//\n",
              "// Unless required by applicable law or agreed to in writing, software\n",
              "// distributed under the License is distributed on an \"AS IS\" BASIS,\n",
              "// WITHOUT WARRANTIES OR CONDITIONS OF ANY KIND, either express or implied.\n",
              "// See the License for the specific language governing permissions and\n",
              "// limitations under the License.\n",
              "\n",
              "/**\n",
              " * @fileoverview Helpers for google.colab Python module.\n",
              " */\n",
              "(function(scope) {\n",
              "function span(text, styleAttributes = {}) {\n",
              "  const element = document.createElement('span');\n",
              "  element.textContent = text;\n",
              "  for (const key of Object.keys(styleAttributes)) {\n",
              "    element.style[key] = styleAttributes[key];\n",
              "  }\n",
              "  return element;\n",
              "}\n",
              "\n",
              "// Max number of bytes which will be uploaded at a time.\n",
              "const MAX_PAYLOAD_SIZE = 100 * 1024;\n",
              "\n",
              "function _uploadFiles(inputId, outputId) {\n",
              "  const steps = uploadFilesStep(inputId, outputId);\n",
              "  const outputElement = document.getElementById(outputId);\n",
              "  // Cache steps on the outputElement to make it available for the next call\n",
              "  // to uploadFilesContinue from Python.\n",
              "  outputElement.steps = steps;\n",
              "\n",
              "  return _uploadFilesContinue(outputId);\n",
              "}\n",
              "\n",
              "// This is roughly an async generator (not supported in the browser yet),\n",
              "// where there are multiple asynchronous steps and the Python side is going\n",
              "// to poll for completion of each step.\n",
              "// This uses a Promise to block the python side on completion of each step,\n",
              "// then passes the result of the previous step as the input to the next step.\n",
              "function _uploadFilesContinue(outputId) {\n",
              "  const outputElement = document.getElementById(outputId);\n",
              "  const steps = outputElement.steps;\n",
              "\n",
              "  const next = steps.next(outputElement.lastPromiseValue);\n",
              "  return Promise.resolve(next.value.promise).then((value) => {\n",
              "    // Cache the last promise value to make it available to the next\n",
              "    // step of the generator.\n",
              "    outputElement.lastPromiseValue = value;\n",
              "    return next.value.response;\n",
              "  });\n",
              "}\n",
              "\n",
              "/**\n",
              " * Generator function which is called between each async step of the upload\n",
              " * process.\n",
              " * @param {string} inputId Element ID of the input file picker element.\n",
              " * @param {string} outputId Element ID of the output display.\n",
              " * @return {!Iterable<!Object>} Iterable of next steps.\n",
              " */\n",
              "function* uploadFilesStep(inputId, outputId) {\n",
              "  const inputElement = document.getElementById(inputId);\n",
              "  inputElement.disabled = false;\n",
              "\n",
              "  const outputElement = document.getElementById(outputId);\n",
              "  outputElement.innerHTML = '';\n",
              "\n",
              "  const pickedPromise = new Promise((resolve) => {\n",
              "    inputElement.addEventListener('change', (e) => {\n",
              "      resolve(e.target.files);\n",
              "    });\n",
              "  });\n",
              "\n",
              "  const cancel = document.createElement('button');\n",
              "  inputElement.parentElement.appendChild(cancel);\n",
              "  cancel.textContent = 'Cancel upload';\n",
              "  const cancelPromise = new Promise((resolve) => {\n",
              "    cancel.onclick = () => {\n",
              "      resolve(null);\n",
              "    };\n",
              "  });\n",
              "\n",
              "  // Wait for the user to pick the files.\n",
              "  const files = yield {\n",
              "    promise: Promise.race([pickedPromise, cancelPromise]),\n",
              "    response: {\n",
              "      action: 'starting',\n",
              "    }\n",
              "  };\n",
              "\n",
              "  cancel.remove();\n",
              "\n",
              "  // Disable the input element since further picks are not allowed.\n",
              "  inputElement.disabled = true;\n",
              "\n",
              "  if (!files) {\n",
              "    return {\n",
              "      response: {\n",
              "        action: 'complete',\n",
              "      }\n",
              "    };\n",
              "  }\n",
              "\n",
              "  for (const file of files) {\n",
              "    const li = document.createElement('li');\n",
              "    li.append(span(file.name, {fontWeight: 'bold'}));\n",
              "    li.append(span(\n",
              "        `(${file.type || 'n/a'}) - ${file.size} bytes, ` +\n",
              "        `last modified: ${\n",
              "            file.lastModifiedDate ? file.lastModifiedDate.toLocaleDateString() :\n",
              "                                    'n/a'} - `));\n",
              "    const percent = span('0% done');\n",
              "    li.appendChild(percent);\n",
              "\n",
              "    outputElement.appendChild(li);\n",
              "\n",
              "    const fileDataPromise = new Promise((resolve) => {\n",
              "      const reader = new FileReader();\n",
              "      reader.onload = (e) => {\n",
              "        resolve(e.target.result);\n",
              "      };\n",
              "      reader.readAsArrayBuffer(file);\n",
              "    });\n",
              "    // Wait for the data to be ready.\n",
              "    let fileData = yield {\n",
              "      promise: fileDataPromise,\n",
              "      response: {\n",
              "        action: 'continue',\n",
              "      }\n",
              "    };\n",
              "\n",
              "    // Use a chunked sending to avoid message size limits. See b/62115660.\n",
              "    let position = 0;\n",
              "    do {\n",
              "      const length = Math.min(fileData.byteLength - position, MAX_PAYLOAD_SIZE);\n",
              "      const chunk = new Uint8Array(fileData, position, length);\n",
              "      position += length;\n",
              "\n",
              "      const base64 = btoa(String.fromCharCode.apply(null, chunk));\n",
              "      yield {\n",
              "        response: {\n",
              "          action: 'append',\n",
              "          file: file.name,\n",
              "          data: base64,\n",
              "        },\n",
              "      };\n",
              "\n",
              "      let percentDone = fileData.byteLength === 0 ?\n",
              "          100 :\n",
              "          Math.round((position / fileData.byteLength) * 100);\n",
              "      percent.textContent = `${percentDone}% done`;\n",
              "\n",
              "    } while (position < fileData.byteLength);\n",
              "  }\n",
              "\n",
              "  // All done.\n",
              "  yield {\n",
              "    response: {\n",
              "      action: 'complete',\n",
              "    }\n",
              "  };\n",
              "}\n",
              "\n",
              "scope.google = scope.google || {};\n",
              "scope.google.colab = scope.google.colab || {};\n",
              "scope.google.colab._files = {\n",
              "  _uploadFiles,\n",
              "  _uploadFilesContinue,\n",
              "};\n",
              "})(self);\n",
              "</script> "
            ]
          },
          "metadata": {}
        },
        {
          "output_type": "stream",
          "name": "stdout",
          "text": [
            "Saving desafio_01_cosmeticos.csv to desafio_01_cosmeticos.csv\n"
          ]
        }
      ]
    },
    {
      "cell_type": "code",
      "source": [
        "df_cosmeticos = pd.read_csv('desafio_01_cosmeticos.csv', sep = ',')\n",
        "df_cosmeticos.head()"
      ],
      "metadata": {
        "colab": {
          "base_uri": "https://localhost:8080/",
          "height": 206
        },
        "id": "I3T0lIcbSdXa",
        "outputId": "10e81ad5-fc19-42bf-91f4-06259749216e"
      },
      "execution_count": null,
      "outputs": [
        {
          "output_type": "execute_result",
          "data": {
            "text/plain": [
              "   id_produto  id_voluntária  durabilidade  idade  exposicao_sol\n",
              "0           1              1            12     40              1\n",
              "1           2              2             5     36              0\n",
              "2           1              3            19     47              0\n",
              "3           1              4            14     36              1\n",
              "4           1              5            17     46              1"
            ],
            "text/html": [
              "\n",
              "  <div id=\"df-fc94a20c-423e-471a-8868-8378b6b7c894\" class=\"colab-df-container\">\n",
              "    <div>\n",
              "<style scoped>\n",
              "    .dataframe tbody tr th:only-of-type {\n",
              "        vertical-align: middle;\n",
              "    }\n",
              "\n",
              "    .dataframe tbody tr th {\n",
              "        vertical-align: top;\n",
              "    }\n",
              "\n",
              "    .dataframe thead th {\n",
              "        text-align: right;\n",
              "    }\n",
              "</style>\n",
              "<table border=\"1\" class=\"dataframe\">\n",
              "  <thead>\n",
              "    <tr style=\"text-align: right;\">\n",
              "      <th></th>\n",
              "      <th>id_produto</th>\n",
              "      <th>id_voluntária</th>\n",
              "      <th>durabilidade</th>\n",
              "      <th>idade</th>\n",
              "      <th>exposicao_sol</th>\n",
              "    </tr>\n",
              "  </thead>\n",
              "  <tbody>\n",
              "    <tr>\n",
              "      <th>0</th>\n",
              "      <td>1</td>\n",
              "      <td>1</td>\n",
              "      <td>12</td>\n",
              "      <td>40</td>\n",
              "      <td>1</td>\n",
              "    </tr>\n",
              "    <tr>\n",
              "      <th>1</th>\n",
              "      <td>2</td>\n",
              "      <td>2</td>\n",
              "      <td>5</td>\n",
              "      <td>36</td>\n",
              "      <td>0</td>\n",
              "    </tr>\n",
              "    <tr>\n",
              "      <th>2</th>\n",
              "      <td>1</td>\n",
              "      <td>3</td>\n",
              "      <td>19</td>\n",
              "      <td>47</td>\n",
              "      <td>0</td>\n",
              "    </tr>\n",
              "    <tr>\n",
              "      <th>3</th>\n",
              "      <td>1</td>\n",
              "      <td>4</td>\n",
              "      <td>14</td>\n",
              "      <td>36</td>\n",
              "      <td>1</td>\n",
              "    </tr>\n",
              "    <tr>\n",
              "      <th>4</th>\n",
              "      <td>1</td>\n",
              "      <td>5</td>\n",
              "      <td>17</td>\n",
              "      <td>46</td>\n",
              "      <td>1</td>\n",
              "    </tr>\n",
              "  </tbody>\n",
              "</table>\n",
              "</div>\n",
              "    <div class=\"colab-df-buttons\">\n",
              "\n",
              "  <div class=\"colab-df-container\">\n",
              "    <button class=\"colab-df-convert\" onclick=\"convertToInteractive('df-fc94a20c-423e-471a-8868-8378b6b7c894')\"\n",
              "            title=\"Convert this dataframe to an interactive table.\"\n",
              "            style=\"display:none;\">\n",
              "\n",
              "  <svg xmlns=\"http://www.w3.org/2000/svg\" height=\"24px\" viewBox=\"0 -960 960 960\">\n",
              "    <path d=\"M120-120v-720h720v720H120Zm60-500h600v-160H180v160Zm220 220h160v-160H400v160Zm0 220h160v-160H400v160ZM180-400h160v-160H180v160Zm440 0h160v-160H620v160ZM180-180h160v-160H180v160Zm440 0h160v-160H620v160Z\"/>\n",
              "  </svg>\n",
              "    </button>\n",
              "\n",
              "  <style>\n",
              "    .colab-df-container {\n",
              "      display:flex;\n",
              "      gap: 12px;\n",
              "    }\n",
              "\n",
              "    .colab-df-convert {\n",
              "      background-color: #E8F0FE;\n",
              "      border: none;\n",
              "      border-radius: 50%;\n",
              "      cursor: pointer;\n",
              "      display: none;\n",
              "      fill: #1967D2;\n",
              "      height: 32px;\n",
              "      padding: 0 0 0 0;\n",
              "      width: 32px;\n",
              "    }\n",
              "\n",
              "    .colab-df-convert:hover {\n",
              "      background-color: #E2EBFA;\n",
              "      box-shadow: 0px 1px 2px rgba(60, 64, 67, 0.3), 0px 1px 3px 1px rgba(60, 64, 67, 0.15);\n",
              "      fill: #174EA6;\n",
              "    }\n",
              "\n",
              "    .colab-df-buttons div {\n",
              "      margin-bottom: 4px;\n",
              "    }\n",
              "\n",
              "    [theme=dark] .colab-df-convert {\n",
              "      background-color: #3B4455;\n",
              "      fill: #D2E3FC;\n",
              "    }\n",
              "\n",
              "    [theme=dark] .colab-df-convert:hover {\n",
              "      background-color: #434B5C;\n",
              "      box-shadow: 0px 1px 3px 1px rgba(0, 0, 0, 0.15);\n",
              "      filter: drop-shadow(0px 1px 2px rgba(0, 0, 0, 0.3));\n",
              "      fill: #FFFFFF;\n",
              "    }\n",
              "  </style>\n",
              "\n",
              "    <script>\n",
              "      const buttonEl =\n",
              "        document.querySelector('#df-fc94a20c-423e-471a-8868-8378b6b7c894 button.colab-df-convert');\n",
              "      buttonEl.style.display =\n",
              "        google.colab.kernel.accessAllowed ? 'block' : 'none';\n",
              "\n",
              "      async function convertToInteractive(key) {\n",
              "        const element = document.querySelector('#df-fc94a20c-423e-471a-8868-8378b6b7c894');\n",
              "        const dataTable =\n",
              "          await google.colab.kernel.invokeFunction('convertToInteractive',\n",
              "                                                    [key], {});\n",
              "        if (!dataTable) return;\n",
              "\n",
              "        const docLinkHtml = 'Like what you see? Visit the ' +\n",
              "          '<a target=\"_blank\" href=https://colab.research.google.com/notebooks/data_table.ipynb>data table notebook</a>'\n",
              "          + ' to learn more about interactive tables.';\n",
              "        element.innerHTML = '';\n",
              "        dataTable['output_type'] = 'display_data';\n",
              "        await google.colab.output.renderOutput(dataTable, element);\n",
              "        const docLink = document.createElement('div');\n",
              "        docLink.innerHTML = docLinkHtml;\n",
              "        element.appendChild(docLink);\n",
              "      }\n",
              "    </script>\n",
              "  </div>\n",
              "\n",
              "\n",
              "<div id=\"df-9f100601-f979-4da8-b0f5-6531e3da349c\">\n",
              "  <button class=\"colab-df-quickchart\" onclick=\"quickchart('df-9f100601-f979-4da8-b0f5-6531e3da349c')\"\n",
              "            title=\"Suggest charts\"\n",
              "            style=\"display:none;\">\n",
              "\n",
              "<svg xmlns=\"http://www.w3.org/2000/svg\" height=\"24px\"viewBox=\"0 0 24 24\"\n",
              "     width=\"24px\">\n",
              "    <g>\n",
              "        <path d=\"M19 3H5c-1.1 0-2 .9-2 2v14c0 1.1.9 2 2 2h14c1.1 0 2-.9 2-2V5c0-1.1-.9-2-2-2zM9 17H7v-7h2v7zm4 0h-2V7h2v10zm4 0h-2v-4h2v4z\"/>\n",
              "    </g>\n",
              "</svg>\n",
              "  </button>\n",
              "\n",
              "<style>\n",
              "  .colab-df-quickchart {\n",
              "      --bg-color: #E8F0FE;\n",
              "      --fill-color: #1967D2;\n",
              "      --hover-bg-color: #E2EBFA;\n",
              "      --hover-fill-color: #174EA6;\n",
              "      --disabled-fill-color: #AAA;\n",
              "      --disabled-bg-color: #DDD;\n",
              "  }\n",
              "\n",
              "  [theme=dark] .colab-df-quickchart {\n",
              "      --bg-color: #3B4455;\n",
              "      --fill-color: #D2E3FC;\n",
              "      --hover-bg-color: #434B5C;\n",
              "      --hover-fill-color: #FFFFFF;\n",
              "      --disabled-bg-color: #3B4455;\n",
              "      --disabled-fill-color: #666;\n",
              "  }\n",
              "\n",
              "  .colab-df-quickchart {\n",
              "    background-color: var(--bg-color);\n",
              "    border: none;\n",
              "    border-radius: 50%;\n",
              "    cursor: pointer;\n",
              "    display: none;\n",
              "    fill: var(--fill-color);\n",
              "    height: 32px;\n",
              "    padding: 0;\n",
              "    width: 32px;\n",
              "  }\n",
              "\n",
              "  .colab-df-quickchart:hover {\n",
              "    background-color: var(--hover-bg-color);\n",
              "    box-shadow: 0 1px 2px rgba(60, 64, 67, 0.3), 0 1px 3px 1px rgba(60, 64, 67, 0.15);\n",
              "    fill: var(--button-hover-fill-color);\n",
              "  }\n",
              "\n",
              "  .colab-df-quickchart-complete:disabled,\n",
              "  .colab-df-quickchart-complete:disabled:hover {\n",
              "    background-color: var(--disabled-bg-color);\n",
              "    fill: var(--disabled-fill-color);\n",
              "    box-shadow: none;\n",
              "  }\n",
              "\n",
              "  .colab-df-spinner {\n",
              "    border: 2px solid var(--fill-color);\n",
              "    border-color: transparent;\n",
              "    border-bottom-color: var(--fill-color);\n",
              "    animation:\n",
              "      spin 1s steps(1) infinite;\n",
              "  }\n",
              "\n",
              "  @keyframes spin {\n",
              "    0% {\n",
              "      border-color: transparent;\n",
              "      border-bottom-color: var(--fill-color);\n",
              "      border-left-color: var(--fill-color);\n",
              "    }\n",
              "    20% {\n",
              "      border-color: transparent;\n",
              "      border-left-color: var(--fill-color);\n",
              "      border-top-color: var(--fill-color);\n",
              "    }\n",
              "    30% {\n",
              "      border-color: transparent;\n",
              "      border-left-color: var(--fill-color);\n",
              "      border-top-color: var(--fill-color);\n",
              "      border-right-color: var(--fill-color);\n",
              "    }\n",
              "    40% {\n",
              "      border-color: transparent;\n",
              "      border-right-color: var(--fill-color);\n",
              "      border-top-color: var(--fill-color);\n",
              "    }\n",
              "    60% {\n",
              "      border-color: transparent;\n",
              "      border-right-color: var(--fill-color);\n",
              "    }\n",
              "    80% {\n",
              "      border-color: transparent;\n",
              "      border-right-color: var(--fill-color);\n",
              "      border-bottom-color: var(--fill-color);\n",
              "    }\n",
              "    90% {\n",
              "      border-color: transparent;\n",
              "      border-bottom-color: var(--fill-color);\n",
              "    }\n",
              "  }\n",
              "</style>\n",
              "\n",
              "  <script>\n",
              "    async function quickchart(key) {\n",
              "      const quickchartButtonEl =\n",
              "        document.querySelector('#' + key + ' button');\n",
              "      quickchartButtonEl.disabled = true;  // To prevent multiple clicks.\n",
              "      quickchartButtonEl.classList.add('colab-df-spinner');\n",
              "      try {\n",
              "        const charts = await google.colab.kernel.invokeFunction(\n",
              "            'suggestCharts', [key], {});\n",
              "      } catch (error) {\n",
              "        console.error('Error during call to suggestCharts:', error);\n",
              "      }\n",
              "      quickchartButtonEl.classList.remove('colab-df-spinner');\n",
              "      quickchartButtonEl.classList.add('colab-df-quickchart-complete');\n",
              "    }\n",
              "    (() => {\n",
              "      let quickchartButtonEl =\n",
              "        document.querySelector('#df-9f100601-f979-4da8-b0f5-6531e3da349c button');\n",
              "      quickchartButtonEl.style.display =\n",
              "        google.colab.kernel.accessAllowed ? 'block' : 'none';\n",
              "    })();\n",
              "  </script>\n",
              "</div>\n",
              "\n",
              "    </div>\n",
              "  </div>\n"
            ],
            "application/vnd.google.colaboratory.intrinsic+json": {
              "type": "dataframe",
              "variable_name": "df_cosmeticos",
              "summary": "{\n  \"name\": \"df_cosmeticos\",\n  \"rows\": 300,\n  \"fields\": [\n    {\n      \"column\": \"id_produto\",\n      \"properties\": {\n        \"dtype\": \"number\",\n        \"std\": 0,\n        \"min\": 1,\n        \"max\": 3,\n        \"num_unique_values\": 3,\n        \"samples\": [\n          1,\n          2,\n          3\n        ],\n        \"semantic_type\": \"\",\n        \"description\": \"\"\n      }\n    },\n    {\n      \"column\": \"id_volunt\\u00e1ria\",\n      \"properties\": {\n        \"dtype\": \"number\",\n        \"std\": 86,\n        \"min\": 1,\n        \"max\": 300,\n        \"num_unique_values\": 300,\n        \"samples\": [\n          204,\n          267,\n          153\n        ],\n        \"semantic_type\": \"\",\n        \"description\": \"\"\n      }\n    },\n    {\n      \"column\": \"durabilidade\",\n      \"properties\": {\n        \"dtype\": \"number\",\n        \"std\": 10,\n        \"min\": 5,\n        \"max\": 48,\n        \"num_unique_values\": 39,\n        \"samples\": [\n          44,\n          27,\n          17\n        ],\n        \"semantic_type\": \"\",\n        \"description\": \"\"\n      }\n    },\n    {\n      \"column\": \"idade\",\n      \"properties\": {\n        \"dtype\": \"number\",\n        \"std\": 12,\n        \"min\": 18,\n        \"max\": 60,\n        \"num_unique_values\": 43,\n        \"samples\": [\n          59,\n          48,\n          41\n        ],\n        \"semantic_type\": \"\",\n        \"description\": \"\"\n      }\n    },\n    {\n      \"column\": \"exposicao_sol\",\n      \"properties\": {\n        \"dtype\": \"number\",\n        \"std\": 0,\n        \"min\": 0,\n        \"max\": 1,\n        \"num_unique_values\": 2,\n        \"samples\": [\n          0,\n          1\n        ],\n        \"semantic_type\": \"\",\n        \"description\": \"\"\n      }\n    }\n  ]\n}"
            }
          },
          "metadata": {},
          "execution_count": 3
        }
      ]
    },
    {
      "cell_type": "code",
      "source": [
        "df_cosmeticos.shape"
      ],
      "metadata": {
        "colab": {
          "base_uri": "https://localhost:8080/"
        },
        "id": "XuobdxGsVRar",
        "outputId": "eca4100f-adb3-48b6-85e5-4b21e667d4ec"
      },
      "execution_count": null,
      "outputs": [
        {
          "output_type": "execute_result",
          "data": {
            "text/plain": [
              "(300, 5)"
            ]
          },
          "metadata": {},
          "execution_count": 4
        }
      ]
    },
    {
      "cell_type": "code",
      "source": [
        "df_cosmeticos.dtypes"
      ],
      "metadata": {
        "colab": {
          "base_uri": "https://localhost:8080/",
          "height": 241
        },
        "id": "FRJt2GJlVUj0",
        "outputId": "1db8ac53-9339-4bd3-dc11-bab015ffe3ca"
      },
      "execution_count": null,
      "outputs": [
        {
          "output_type": "execute_result",
          "data": {
            "text/plain": [
              "id_produto       int64\n",
              "id_voluntária    int64\n",
              "durabilidade     int64\n",
              "idade            int64\n",
              "exposicao_sol    int64\n",
              "dtype: object"
            ],
            "text/html": [
              "<div>\n",
              "<style scoped>\n",
              "    .dataframe tbody tr th:only-of-type {\n",
              "        vertical-align: middle;\n",
              "    }\n",
              "\n",
              "    .dataframe tbody tr th {\n",
              "        vertical-align: top;\n",
              "    }\n",
              "\n",
              "    .dataframe thead th {\n",
              "        text-align: right;\n",
              "    }\n",
              "</style>\n",
              "<table border=\"1\" class=\"dataframe\">\n",
              "  <thead>\n",
              "    <tr style=\"text-align: right;\">\n",
              "      <th></th>\n",
              "      <th>0</th>\n",
              "    </tr>\n",
              "  </thead>\n",
              "  <tbody>\n",
              "    <tr>\n",
              "      <th>id_produto</th>\n",
              "      <td>int64</td>\n",
              "    </tr>\n",
              "    <tr>\n",
              "      <th>id_voluntária</th>\n",
              "      <td>int64</td>\n",
              "    </tr>\n",
              "    <tr>\n",
              "      <th>durabilidade</th>\n",
              "      <td>int64</td>\n",
              "    </tr>\n",
              "    <tr>\n",
              "      <th>idade</th>\n",
              "      <td>int64</td>\n",
              "    </tr>\n",
              "    <tr>\n",
              "      <th>exposicao_sol</th>\n",
              "      <td>int64</td>\n",
              "    </tr>\n",
              "  </tbody>\n",
              "</table>\n",
              "</div><br><label><b>dtype:</b> object</label>"
            ]
          },
          "metadata": {},
          "execution_count": 5
        }
      ]
    },
    {
      "cell_type": "code",
      "source": [
        "df_cosmeticos.describe()"
      ],
      "metadata": {
        "colab": {
          "base_uri": "https://localhost:8080/",
          "height": 300
        },
        "id": "5wJjPeiaVXeB",
        "outputId": "f6ef89a1-4ce4-4cc0-d1f5-e29560b7cb79"
      },
      "execution_count": null,
      "outputs": [
        {
          "output_type": "execute_result",
          "data": {
            "text/plain": [
              "       id_produto  id_voluntária  durabilidade       idade  exposicao_sol\n",
              "count  300.000000     300.000000    300.000000  300.000000     300.000000\n",
              "mean     2.000000     150.500000     17.133333   36.886667       0.440000\n",
              "std      0.817861      86.746758     10.942945   12.625841       0.497216\n",
              "min      1.000000       1.000000      5.000000   18.000000       0.000000\n",
              "25%      1.000000      75.750000      9.000000   26.000000       0.000000\n",
              "50%      2.000000     150.500000     14.000000   36.000000       0.000000\n",
              "75%      3.000000     225.250000     20.000000   48.000000       1.000000\n",
              "max      3.000000     300.000000     48.000000   60.000000       1.000000"
            ],
            "text/html": [
              "\n",
              "  <div id=\"df-1db456af-868f-47af-9c2f-575dcfc8e492\" class=\"colab-df-container\">\n",
              "    <div>\n",
              "<style scoped>\n",
              "    .dataframe tbody tr th:only-of-type {\n",
              "        vertical-align: middle;\n",
              "    }\n",
              "\n",
              "    .dataframe tbody tr th {\n",
              "        vertical-align: top;\n",
              "    }\n",
              "\n",
              "    .dataframe thead th {\n",
              "        text-align: right;\n",
              "    }\n",
              "</style>\n",
              "<table border=\"1\" class=\"dataframe\">\n",
              "  <thead>\n",
              "    <tr style=\"text-align: right;\">\n",
              "      <th></th>\n",
              "      <th>id_produto</th>\n",
              "      <th>id_voluntária</th>\n",
              "      <th>durabilidade</th>\n",
              "      <th>idade</th>\n",
              "      <th>exposicao_sol</th>\n",
              "    </tr>\n",
              "  </thead>\n",
              "  <tbody>\n",
              "    <tr>\n",
              "      <th>count</th>\n",
              "      <td>300.000000</td>\n",
              "      <td>300.000000</td>\n",
              "      <td>300.000000</td>\n",
              "      <td>300.000000</td>\n",
              "      <td>300.000000</td>\n",
              "    </tr>\n",
              "    <tr>\n",
              "      <th>mean</th>\n",
              "      <td>2.000000</td>\n",
              "      <td>150.500000</td>\n",
              "      <td>17.133333</td>\n",
              "      <td>36.886667</td>\n",
              "      <td>0.440000</td>\n",
              "    </tr>\n",
              "    <tr>\n",
              "      <th>std</th>\n",
              "      <td>0.817861</td>\n",
              "      <td>86.746758</td>\n",
              "      <td>10.942945</td>\n",
              "      <td>12.625841</td>\n",
              "      <td>0.497216</td>\n",
              "    </tr>\n",
              "    <tr>\n",
              "      <th>min</th>\n",
              "      <td>1.000000</td>\n",
              "      <td>1.000000</td>\n",
              "      <td>5.000000</td>\n",
              "      <td>18.000000</td>\n",
              "      <td>0.000000</td>\n",
              "    </tr>\n",
              "    <tr>\n",
              "      <th>25%</th>\n",
              "      <td>1.000000</td>\n",
              "      <td>75.750000</td>\n",
              "      <td>9.000000</td>\n",
              "      <td>26.000000</td>\n",
              "      <td>0.000000</td>\n",
              "    </tr>\n",
              "    <tr>\n",
              "      <th>50%</th>\n",
              "      <td>2.000000</td>\n",
              "      <td>150.500000</td>\n",
              "      <td>14.000000</td>\n",
              "      <td>36.000000</td>\n",
              "      <td>0.000000</td>\n",
              "    </tr>\n",
              "    <tr>\n",
              "      <th>75%</th>\n",
              "      <td>3.000000</td>\n",
              "      <td>225.250000</td>\n",
              "      <td>20.000000</td>\n",
              "      <td>48.000000</td>\n",
              "      <td>1.000000</td>\n",
              "    </tr>\n",
              "    <tr>\n",
              "      <th>max</th>\n",
              "      <td>3.000000</td>\n",
              "      <td>300.000000</td>\n",
              "      <td>48.000000</td>\n",
              "      <td>60.000000</td>\n",
              "      <td>1.000000</td>\n",
              "    </tr>\n",
              "  </tbody>\n",
              "</table>\n",
              "</div>\n",
              "    <div class=\"colab-df-buttons\">\n",
              "\n",
              "  <div class=\"colab-df-container\">\n",
              "    <button class=\"colab-df-convert\" onclick=\"convertToInteractive('df-1db456af-868f-47af-9c2f-575dcfc8e492')\"\n",
              "            title=\"Convert this dataframe to an interactive table.\"\n",
              "            style=\"display:none;\">\n",
              "\n",
              "  <svg xmlns=\"http://www.w3.org/2000/svg\" height=\"24px\" viewBox=\"0 -960 960 960\">\n",
              "    <path d=\"M120-120v-720h720v720H120Zm60-500h600v-160H180v160Zm220 220h160v-160H400v160Zm0 220h160v-160H400v160ZM180-400h160v-160H180v160Zm440 0h160v-160H620v160ZM180-180h160v-160H180v160Zm440 0h160v-160H620v160Z\"/>\n",
              "  </svg>\n",
              "    </button>\n",
              "\n",
              "  <style>\n",
              "    .colab-df-container {\n",
              "      display:flex;\n",
              "      gap: 12px;\n",
              "    }\n",
              "\n",
              "    .colab-df-convert {\n",
              "      background-color: #E8F0FE;\n",
              "      border: none;\n",
              "      border-radius: 50%;\n",
              "      cursor: pointer;\n",
              "      display: none;\n",
              "      fill: #1967D2;\n",
              "      height: 32px;\n",
              "      padding: 0 0 0 0;\n",
              "      width: 32px;\n",
              "    }\n",
              "\n",
              "    .colab-df-convert:hover {\n",
              "      background-color: #E2EBFA;\n",
              "      box-shadow: 0px 1px 2px rgba(60, 64, 67, 0.3), 0px 1px 3px 1px rgba(60, 64, 67, 0.15);\n",
              "      fill: #174EA6;\n",
              "    }\n",
              "\n",
              "    .colab-df-buttons div {\n",
              "      margin-bottom: 4px;\n",
              "    }\n",
              "\n",
              "    [theme=dark] .colab-df-convert {\n",
              "      background-color: #3B4455;\n",
              "      fill: #D2E3FC;\n",
              "    }\n",
              "\n",
              "    [theme=dark] .colab-df-convert:hover {\n",
              "      background-color: #434B5C;\n",
              "      box-shadow: 0px 1px 3px 1px rgba(0, 0, 0, 0.15);\n",
              "      filter: drop-shadow(0px 1px 2px rgba(0, 0, 0, 0.3));\n",
              "      fill: #FFFFFF;\n",
              "    }\n",
              "  </style>\n",
              "\n",
              "    <script>\n",
              "      const buttonEl =\n",
              "        document.querySelector('#df-1db456af-868f-47af-9c2f-575dcfc8e492 button.colab-df-convert');\n",
              "      buttonEl.style.display =\n",
              "        google.colab.kernel.accessAllowed ? 'block' : 'none';\n",
              "\n",
              "      async function convertToInteractive(key) {\n",
              "        const element = document.querySelector('#df-1db456af-868f-47af-9c2f-575dcfc8e492');\n",
              "        const dataTable =\n",
              "          await google.colab.kernel.invokeFunction('convertToInteractive',\n",
              "                                                    [key], {});\n",
              "        if (!dataTable) return;\n",
              "\n",
              "        const docLinkHtml = 'Like what you see? Visit the ' +\n",
              "          '<a target=\"_blank\" href=https://colab.research.google.com/notebooks/data_table.ipynb>data table notebook</a>'\n",
              "          + ' to learn more about interactive tables.';\n",
              "        element.innerHTML = '';\n",
              "        dataTable['output_type'] = 'display_data';\n",
              "        await google.colab.output.renderOutput(dataTable, element);\n",
              "        const docLink = document.createElement('div');\n",
              "        docLink.innerHTML = docLinkHtml;\n",
              "        element.appendChild(docLink);\n",
              "      }\n",
              "    </script>\n",
              "  </div>\n",
              "\n",
              "\n",
              "<div id=\"df-9cb659bb-5b96-494b-b301-584ccf2fd9b0\">\n",
              "  <button class=\"colab-df-quickchart\" onclick=\"quickchart('df-9cb659bb-5b96-494b-b301-584ccf2fd9b0')\"\n",
              "            title=\"Suggest charts\"\n",
              "            style=\"display:none;\">\n",
              "\n",
              "<svg xmlns=\"http://www.w3.org/2000/svg\" height=\"24px\"viewBox=\"0 0 24 24\"\n",
              "     width=\"24px\">\n",
              "    <g>\n",
              "        <path d=\"M19 3H5c-1.1 0-2 .9-2 2v14c0 1.1.9 2 2 2h14c1.1 0 2-.9 2-2V5c0-1.1-.9-2-2-2zM9 17H7v-7h2v7zm4 0h-2V7h2v10zm4 0h-2v-4h2v4z\"/>\n",
              "    </g>\n",
              "</svg>\n",
              "  </button>\n",
              "\n",
              "<style>\n",
              "  .colab-df-quickchart {\n",
              "      --bg-color: #E8F0FE;\n",
              "      --fill-color: #1967D2;\n",
              "      --hover-bg-color: #E2EBFA;\n",
              "      --hover-fill-color: #174EA6;\n",
              "      --disabled-fill-color: #AAA;\n",
              "      --disabled-bg-color: #DDD;\n",
              "  }\n",
              "\n",
              "  [theme=dark] .colab-df-quickchart {\n",
              "      --bg-color: #3B4455;\n",
              "      --fill-color: #D2E3FC;\n",
              "      --hover-bg-color: #434B5C;\n",
              "      --hover-fill-color: #FFFFFF;\n",
              "      --disabled-bg-color: #3B4455;\n",
              "      --disabled-fill-color: #666;\n",
              "  }\n",
              "\n",
              "  .colab-df-quickchart {\n",
              "    background-color: var(--bg-color);\n",
              "    border: none;\n",
              "    border-radius: 50%;\n",
              "    cursor: pointer;\n",
              "    display: none;\n",
              "    fill: var(--fill-color);\n",
              "    height: 32px;\n",
              "    padding: 0;\n",
              "    width: 32px;\n",
              "  }\n",
              "\n",
              "  .colab-df-quickchart:hover {\n",
              "    background-color: var(--hover-bg-color);\n",
              "    box-shadow: 0 1px 2px rgba(60, 64, 67, 0.3), 0 1px 3px 1px rgba(60, 64, 67, 0.15);\n",
              "    fill: var(--button-hover-fill-color);\n",
              "  }\n",
              "\n",
              "  .colab-df-quickchart-complete:disabled,\n",
              "  .colab-df-quickchart-complete:disabled:hover {\n",
              "    background-color: var(--disabled-bg-color);\n",
              "    fill: var(--disabled-fill-color);\n",
              "    box-shadow: none;\n",
              "  }\n",
              "\n",
              "  .colab-df-spinner {\n",
              "    border: 2px solid var(--fill-color);\n",
              "    border-color: transparent;\n",
              "    border-bottom-color: var(--fill-color);\n",
              "    animation:\n",
              "      spin 1s steps(1) infinite;\n",
              "  }\n",
              "\n",
              "  @keyframes spin {\n",
              "    0% {\n",
              "      border-color: transparent;\n",
              "      border-bottom-color: var(--fill-color);\n",
              "      border-left-color: var(--fill-color);\n",
              "    }\n",
              "    20% {\n",
              "      border-color: transparent;\n",
              "      border-left-color: var(--fill-color);\n",
              "      border-top-color: var(--fill-color);\n",
              "    }\n",
              "    30% {\n",
              "      border-color: transparent;\n",
              "      border-left-color: var(--fill-color);\n",
              "      border-top-color: var(--fill-color);\n",
              "      border-right-color: var(--fill-color);\n",
              "    }\n",
              "    40% {\n",
              "      border-color: transparent;\n",
              "      border-right-color: var(--fill-color);\n",
              "      border-top-color: var(--fill-color);\n",
              "    }\n",
              "    60% {\n",
              "      border-color: transparent;\n",
              "      border-right-color: var(--fill-color);\n",
              "    }\n",
              "    80% {\n",
              "      border-color: transparent;\n",
              "      border-right-color: var(--fill-color);\n",
              "      border-bottom-color: var(--fill-color);\n",
              "    }\n",
              "    90% {\n",
              "      border-color: transparent;\n",
              "      border-bottom-color: var(--fill-color);\n",
              "    }\n",
              "  }\n",
              "</style>\n",
              "\n",
              "  <script>\n",
              "    async function quickchart(key) {\n",
              "      const quickchartButtonEl =\n",
              "        document.querySelector('#' + key + ' button');\n",
              "      quickchartButtonEl.disabled = true;  // To prevent multiple clicks.\n",
              "      quickchartButtonEl.classList.add('colab-df-spinner');\n",
              "      try {\n",
              "        const charts = await google.colab.kernel.invokeFunction(\n",
              "            'suggestCharts', [key], {});\n",
              "      } catch (error) {\n",
              "        console.error('Error during call to suggestCharts:', error);\n",
              "      }\n",
              "      quickchartButtonEl.classList.remove('colab-df-spinner');\n",
              "      quickchartButtonEl.classList.add('colab-df-quickchart-complete');\n",
              "    }\n",
              "    (() => {\n",
              "      let quickchartButtonEl =\n",
              "        document.querySelector('#df-9cb659bb-5b96-494b-b301-584ccf2fd9b0 button');\n",
              "      quickchartButtonEl.style.display =\n",
              "        google.colab.kernel.accessAllowed ? 'block' : 'none';\n",
              "    })();\n",
              "  </script>\n",
              "</div>\n",
              "\n",
              "    </div>\n",
              "  </div>\n"
            ],
            "application/vnd.google.colaboratory.intrinsic+json": {
              "type": "dataframe",
              "summary": "{\n  \"name\": \"df_cosmeticos\",\n  \"rows\": 8,\n  \"fields\": [\n    {\n      \"column\": \"id_produto\",\n      \"properties\": {\n        \"dtype\": \"number\",\n        \"std\": 105.42213927167317,\n        \"min\": 0.8178608201095307,\n        \"max\": 300.0,\n        \"num_unique_values\": 5,\n        \"samples\": [\n          2.0,\n          3.0,\n          0.8178608201095307\n        ],\n        \"semantic_type\": \"\",\n        \"description\": \"\"\n      }\n    },\n    {\n      \"column\": \"id_volunt\\u00e1ria\",\n      \"properties\": {\n        \"dtype\": \"number\",\n        \"std\": 107.81683381169819,\n        \"min\": 1.0,\n        \"max\": 300.0,\n        \"num_unique_values\": 6,\n        \"samples\": [\n          300.0,\n          150.5,\n          225.25\n        ],\n        \"semantic_type\": \"\",\n        \"description\": \"\"\n      }\n    },\n    {\n      \"column\": \"durabilidade\",\n      \"properties\": {\n        \"dtype\": \"number\",\n        \"std\": 100.66863102790279,\n        \"min\": 5.0,\n        \"max\": 300.0,\n        \"num_unique_values\": 8,\n        \"samples\": [\n          17.133333333333333,\n          14.0,\n          300.0\n        ],\n        \"semantic_type\": \"\",\n        \"description\": \"\"\n      }\n    },\n    {\n      \"column\": \"idade\",\n      \"properties\": {\n        \"dtype\": \"number\",\n        \"std\": 95.32281697174109,\n        \"min\": 12.625841031845244,\n        \"max\": 300.0,\n        \"num_unique_values\": 8,\n        \"samples\": [\n          36.88666666666666,\n          36.0,\n          300.0\n        ],\n        \"semantic_type\": \"\",\n        \"description\": \"\"\n      }\n    },\n    {\n      \"column\": \"exposicao_sol\",\n      \"properties\": {\n        \"dtype\": \"number\",\n        \"std\": 105.9184802398583,\n        \"min\": 0.0,\n        \"max\": 300.0,\n        \"num_unique_values\": 5,\n        \"samples\": [\n          0.44,\n          1.0,\n          0.4972163314570013\n        ],\n        \"semantic_type\": \"\",\n        \"description\": \"\"\n      }\n    }\n  ]\n}"
            }
          },
          "metadata": {},
          "execution_count": 6
        }
      ]
    },
    {
      "cell_type": "markdown",
      "source": [
        "\n",
        "\n",
        "---\n",
        "\n"
      ],
      "metadata": {
        "id": "BDChKOoXT1U_"
      }
    },
    {
      "cell_type": "markdown",
      "source": [
        "### **Instruções do desafio**\n",
        "\n",
        "**Mateiral de Apoio:**\n",
        "https://medium.com/rodrigo-lampier/usando-teste-de-hip%C3%B3teses-para-responder-quest%C3%B5es-de-neg%C3%B3cio-8a3d5ae9ebc0\n",
        "\n",
        "Suponha que você trabalha em uma empresa do ramo de cosméticos ou beleza. O time de produtos dessa empresa está interessado criar novos batons com maior durabilidade. Para isso estão testando 3 diferentes fórmulas para irem a mercado.\n",
        "\n",
        "Com isso, a empresa fez uma pesquisa com várias voluntárias e populou a base de dados (desafio_01_cosmeticos.csv) contendo as seguintes informações:\n",
        "* id_produto: código identificador do produto, com a fórmula utilizada. Para\n",
        "diferenciarmos se se trata do batom com a fórmula 1, 2 ou 3;\n",
        "* id_voluntária: código identificador da voluntária que utilizou o produto;\n",
        "* durabilidade: quanto tempo o produto durou em horas;\n",
        "* idade: idade da voluntária;\n",
        "* exposicao_sol: variável que indica se a voluntária se expôs ao sol(1) e o caso contrário (0).\n",
        "\n",
        "De posse dessas informações, o time de produtos solicitou aos analistas de dados da empresa as seguintes perguntas a serem respondidas:"
      ],
      "metadata": {
        "id": "-3SzGR7dUCzZ"
      }
    },
    {
      "cell_type": "markdown",
      "source": [
        "### **Exercício 1**\n",
        "1 - Existe diferença estatisticamente significativa na durabilidade dos batons com fórmulas diferentes?\n",
        "\n"
      ],
      "metadata": {
        "id": "cx0wFhGRTeja"
      }
    },
    {
      "cell_type": "code",
      "source": [
        "# ANOVA para comparar as durabilidades\n",
        "\n",
        "#Aqui, usamos o modelo de regressão linear OLS (Ordinary Least Squares) da biblioteca statsmodels.\n",
        "#Estamos tentando prever a durabilidade dos batons com base na variável categórica id_produto, que representa as diferentes fórmulas dos batons. O C(id_produto) indica que essa variável é categórica.\n",
        "\n",
        "anova_results = smf.ols('durabilidade ~ C(id_produto)', data = df_cosmeticos).fit()\n",
        "anova_table = sm.stats.anova_lm(anova_results, typ=2)\n",
        "print(anova_table)\n",
        "\n",
        "# Verificando o p-value\n",
        "p_value = anova_table['PR(>F)'].iloc[0]  # Usando .iloc para acessar pelo índice\n",
        "if p_value < 0.05:\n",
        "    print('\\n Há uma diferença estatisticamente significativa na durabilidade dos batons com fórmulas diferentes.')\n",
        "else:\n",
        "    print('\\n Não há uma diferença estatisticamente significativa na durabilidade dos batons com fórmulas diferentes.')"
      ],
      "metadata": {
        "id": "rrl3ESq_1j8X",
        "colab": {
          "base_uri": "https://localhost:8080/"
        },
        "outputId": "8b966aa1-206a-4561-85f1-9e90e72341aa"
      },
      "execution_count": null,
      "outputs": [
        {
          "output_type": "stream",
          "name": "stdout",
          "text": [
            "                     sum_sq     df           F        PR(>F)\n",
            "C(id_produto)  22142.206667    2.0  240.668056  7.345247e-63\n",
            "Residual       13662.460000  297.0         NaN           NaN\n",
            "\n",
            " Há uma diferença estatisticamente significativa na durabilidade dos batons com fórmulas diferentes.\n"
          ]
        }
      ]
    },
    {
      "cell_type": "code",
      "source": [
        "\"\"\"\n",
        "sum_sq: A soma dos quadrados para cada grupo e para o resíduo. A soma dos quadrados para C(id_produto) é 22142, indicando a variabilidade entre as diferentes fórmulas.\n",
        "df: Os graus de liberdade associados. Para C(id_produto), temos 2, indicando que existem três grupos (fórmulas) comparados.\n",
        "F: O valor de F é 240,67, que é uma medida da razão entre a variabilidade explicada pelo modelo e a variabilidade residual. Um valor alto sugere que as médias dos grupos são diferentes.\n",
        "PR(>F): O p-valor associado ao teste F. No nosso caso, ele é 7,35e-63, que é extremamente pequeno.\n",
        "\"\"\""
      ],
      "metadata": {
        "id": "0Hbh68pjWKwI"
      },
      "execution_count": null,
      "outputs": []
    },
    {
      "cell_type": "code",
      "source": [
        "# quartis da durabilidade\n",
        "\n",
        "\"\"\"\n",
        "Os quartis complementam a análise, mostrando a dispersão dos dados (quanto tempo o batom dura em horas) e as diferenças no comportamento das durabilidades.\n",
        "Eles evidenciam a assimetria nos dados e/ou a presença de outliers.\n",
        "\"\"\"\n",
        "quartis_durabilidade = df_cosmeticos['durabilidade'].describe()[['min', '25%', '50%', '75%', 'max']]\n",
        "quartis_durabilidade"
      ],
      "metadata": {
        "colab": {
          "base_uri": "https://localhost:8080/",
          "height": 241
        },
        "id": "JuL21qcRzg5W",
        "outputId": "b278c94a-2c2f-4bc8-fa3a-f1bb15ff5d60"
      },
      "execution_count": null,
      "outputs": [
        {
          "output_type": "execute_result",
          "data": {
            "text/plain": [
              "min     5.0\n",
              "25%     9.0\n",
              "50%    14.0\n",
              "75%    20.0\n",
              "max    48.0\n",
              "Name: durabilidade, dtype: float64"
            ],
            "text/html": [
              "<div>\n",
              "<style scoped>\n",
              "    .dataframe tbody tr th:only-of-type {\n",
              "        vertical-align: middle;\n",
              "    }\n",
              "\n",
              "    .dataframe tbody tr th {\n",
              "        vertical-align: top;\n",
              "    }\n",
              "\n",
              "    .dataframe thead th {\n",
              "        text-align: right;\n",
              "    }\n",
              "</style>\n",
              "<table border=\"1\" class=\"dataframe\">\n",
              "  <thead>\n",
              "    <tr style=\"text-align: right;\">\n",
              "      <th></th>\n",
              "      <th>durabilidade</th>\n",
              "    </tr>\n",
              "  </thead>\n",
              "  <tbody>\n",
              "    <tr>\n",
              "      <th>min</th>\n",
              "      <td>5.0</td>\n",
              "    </tr>\n",
              "    <tr>\n",
              "      <th>25%</th>\n",
              "      <td>9.0</td>\n",
              "    </tr>\n",
              "    <tr>\n",
              "      <th>50%</th>\n",
              "      <td>14.0</td>\n",
              "    </tr>\n",
              "    <tr>\n",
              "      <th>75%</th>\n",
              "      <td>20.0</td>\n",
              "    </tr>\n",
              "    <tr>\n",
              "      <th>max</th>\n",
              "      <td>48.0</td>\n",
              "    </tr>\n",
              "  </tbody>\n",
              "</table>\n",
              "</div><br><label><b>dtype:</b> float64</label>"
            ]
          },
          "metadata": {},
          "execution_count": 27
        }
      ]
    },
    {
      "cell_type": "code",
      "source": [
        "#boxplot para visualizar a distribuição dos quartis\n",
        "plt.figure(figsize=(6, 4))\n",
        "plt.boxplot(df_cosmeticos['durabilidade'], vert=False)\n",
        "plt.title('Distribuição dos Quartis de Durabilidade')\n",
        "plt.xlabel('Durabilidade (horas)')\n",
        "plt.show()"
      ],
      "metadata": {
        "colab": {
          "base_uri": "https://localhost:8080/",
          "height": 410
        },
        "id": "g0THt7iy2PJ6",
        "outputId": "c1b3f207-b5a5-4fe7-c290-30bf77abdf7a"
      },
      "execution_count": null,
      "outputs": [
        {
          "output_type": "display_data",
          "data": {
            "text/plain": [
              "<Figure size 600x400 with 1 Axes>"
            ],
            "image/png": "[encoded data removed]"
          },
          "metadata": {}
        }
      ]
    },
    {
      "cell_type": "code",
      "source": [
        "print(\"Esses valores mostram uma maior variação na durabilidade, com o máximo chegando a 48 horas. \\nO intervalo entre o 1º quartil (Q1) e o 3º quartil (Q3) indica que a maioria dos batons duram entre 9 e 20 horas.\")"
      ],
      "metadata": {
        "colab": {
          "base_uri": "https://localhost:8080/"
        },
        "id": "zMtw4sFb2rZO",
        "outputId": "44239e25-4920-47b0-912f-f228cea9c504"
      },
      "execution_count": null,
      "outputs": [
        {
          "output_type": "stream",
          "name": "stdout",
          "text": [
            "Esses valores mostram uma maior variação na durabilidade, com o máximo chegando a 48 horas. \n",
            "O intervalo entre o 1º quartil (Q1) e o 3º quartil (Q3) indica que a maioria dos batons duram entre 9 e 20 horas.\n"
          ]
        }
      ]
    },
    {
      "cell_type": "markdown",
      "source": [
        "\n",
        "\n",
        "---\n",
        "\n"
      ],
      "metadata": {
        "id": "4K2X-r4NT2fx"
      }
    },
    {
      "cell_type": "markdown",
      "source": [
        "### **Exercício 2**\n",
        "2 - Essa diferença persiste ou não quando a voluntária se expõe ao sol? E com\n",
        "relação à idade?"
      ],
      "metadata": {
        "id": "7npG1-O1Toe_"
      }
    },
    {
      "cell_type": "code",
      "source": [
        "# ANOVA de dois fatores\n",
        "anova_interaction = smf.ols('durabilidade ~ C(id_produto) * C(exposicao_sol) + idade', data=df_cosmeticos).fit()\n",
        "anova_interaction_table = sm.stats.anova_lm(anova_interaction, typ=2)\n",
        "print(anova_interaction_table)\n",
        "#A interação entre C(id_produto):C(exposicao_sol) analisa se a diferença na durabilidade dos batons varia com a exposição ao sol.\n",
        "\n",
        "# Verificando o p-value para a interação\n",
        "p_value_interaction = anova_interaction_table['PR(>F)']\n",
        "print(p_value_interaction)\n",
        "\n",
        "if p_value_interaction['C(id_produto):C(exposicao_sol)'] < 0.05:\n",
        "    print('\\n A diferença na durabilidade persiste quando a voluntária se expõe ao sol.')\n",
        "else:\n",
        "    print('\\n A diferença na durabilidade não persiste quando a voluntária se expõe ao sol.')"
      ],
      "metadata": {
        "id": "TrCBN2rZTtb8",
        "colab": {
          "base_uri": "https://localhost:8080/"
        },
        "outputId": "3855026d-285f-49a6-e193-a0a4dcc6de1f"
      },
      "execution_count": null,
      "outputs": [
        {
          "output_type": "stream",
          "name": "stdout",
          "text": [
            "                                      sum_sq     df           F        PR(>F)\n",
            "C(id_produto)                   18498.728870    2.0  335.684121  1.601480e-76\n",
            "C(exposicao_sol)                 2579.116473    1.0   93.603020  2.154661e-19\n",
            "C(id_produto):C(exposicao_sol)   1459.616036    2.0   26.486681  2.669049e-11\n",
            "idade                             218.032883    1.0    7.912995  5.239840e-03\n",
            "Residual                         8073.255808  293.0         NaN           NaN\n",
            "C(id_produto)                     1.601480e-76\n",
            "C(exposicao_sol)                  2.154661e-19\n",
            "C(id_produto):C(exposicao_sol)    2.669049e-11\n",
            "idade                             5.239840e-03\n",
            "Residual                                   NaN\n",
            "Name: PR(>F), dtype: float64\n",
            "\n",
            " A diferença na durabilidade persiste quando a voluntária se expõe ao sol.\n"
          ]
        }
      ]
    },
    {
      "cell_type": "code",
      "source": [
        "print('A idade da voluntária também afeta significativamente a durabilidade do batom, embora de forma menos impactante do que as outras variáveis.')"
      ],
      "metadata": {
        "colab": {
          "base_uri": "https://localhost:8080/"
        },
        "id": "rgpRU2ApXc47",
        "outputId": "6d6ce3f9-b3b7-4b4d-b837-afae5eb4a478"
      },
      "execution_count": null,
      "outputs": [
        {
          "output_type": "stream",
          "name": "stdout",
          "text": [
            "A idade da voluntária também afeta significativamente a durabilidade do batom, embora de forma menos impactante do que as outras variáveis.\n"
          ]
        }
      ]
    },
    {
      "cell_type": "code",
      "source": [
        "\"\"\"\n",
        "C(id_produto): O p-valor é muito pequeno (1.60e-76), indicando que a fórmula do batom tem uma diferença significativa na durabilidade.\n",
        "C(exposicao_sol): O p-valor (2.15e-19) também é muito pequeno, mostrando que a exposição ao sol afeta significativamente a durabilidade dos batons.\n",
        "C(id_produto):C(exposicao_sol): A interação tem um p-valor de 2.67e-11, o que significa que a diferença na durabilidade dos batons persiste quando a voluntária se expõe ao sol. Ou seja, a exposição ao sol influencia a durabilidade de maneira diferente dependendo da fórmula do batom.\n",
        "idade: O p-valor para idade é 5.24e-03, indicando que a idade também tem um efeito significativo na durabilidade dos batons, mas em um nível menor em comparação com os outros fatores.\n",
        "\"\"\""
      ],
      "metadata": {
        "id": "JQ_KIV7rW3Cb"
      },
      "execution_count": null,
      "outputs": []
    },
    {
      "cell_type": "markdown",
      "source": [
        "\n",
        "\n",
        "---\n",
        "\n"
      ],
      "metadata": {
        "id": "j_i-PWP1T4S-"
      }
    },
    {
      "cell_type": "markdown",
      "source": [
        "### **Exercício 3**\n",
        "3- Qual fórmula de batom você indicaria para consumidores que buscam maior\n",
        "durabilidade e exposição ao sol?"
      ],
      "metadata": {
        "id": "ntO0GrilTuRU"
      }
    },
    {
      "cell_type": "code",
      "source": [
        "# Médias de durabilidade por fórmula e exposição ao sol\n",
        "mean_durability = df_cosmeticos.groupby(['id_produto', 'exposicao_sol'])['durabilidade'].mean().reset_index()\n",
        "print(mean_durability)\n",
        "\n",
        "# Visualizando as médias\n",
        "sns.barplot(x='id_produto', y='durabilidade', hue='exposicao_sol', data=mean_durability)\n",
        "plt.title('Média de Durabilidade dos Batons por Fórmula e Exposição ao Sol')\n",
        "plt.ylabel('Durabilidade (horas)')\n",
        "plt.xlabel('Fórmula do Batom')\n",
        "plt.legend(title='Exposição ao Sol', loc='upper left')\n",
        "plt.show()\n",
        "\n",
        "# Indicando a melhor fórmula com base nas médias\n",
        "best_formula = mean_durability.loc[mean_durability['durabilidade'].idxmax()]\n",
        "print(f\"\\n A fórmula recomendada para maior durabilidade, considerando exposição ao sol, é a {best_formula['id_produto']} com uma média de {best_formula['durabilidade']:.2f} horas.\")\n"
      ],
      "metadata": {
        "id": "MuLMHttgT0RE",
        "colab": {
          "base_uri": "https://localhost:8080/",
          "height": 628
        },
        "outputId": "65b3e147-d7d4-4916-bbdf-34d7939f8146"
      },
      "execution_count": null,
      "outputs": [
        {
          "output_type": "stream",
          "name": "stdout",
          "text": [
            "   id_produto  exposicao_sol  durabilidade\n",
            "0           1              0     17.727273\n",
            "1           1              1     11.911111\n",
            "2           2              0      7.961538\n",
            "3           2              1      7.562500\n",
            "4           3              0     33.901639\n",
            "5           3              1     20.102564\n"
          ]
        },
        {
          "output_type": "display_data",
          "data": {
            "text/plain": [
              "<Figure size 640x480 with 1 Axes>"
            ],
            "image/png": "[encoded data removed]"
          },
          "metadata": {}
        },
        {
          "output_type": "stream",
          "name": "stdout",
          "text": [
            "\n",
            " A fórmula recomendada para maior durabilidade, considerando exposição ao sol, é a 3.0 com uma média de 33.90 horas.\n"
          ]
        }
      ]
    },
    {
      "cell_type": "code",
      "source": [
        "\"\"\"\n",
        "A fórmula recomendada para consumidores que buscam maior durabilidade, mesmo quando expostos ao sol, é a Fórmula 3. Ela se destaca com uma média de 33,90 horas sem exposição ao sol e 20,10 horas com exposição ao sol,\n",
        "sendo a mais resistente entre as opções avaliadas.\n",
        "\"\"\""
      ],
      "metadata": {
        "id": "p8GPgeWNX3y8"
      },
      "execution_count": null,
      "outputs": []
    },
    {
      "cell_type": "markdown",
      "source": [
        "\n",
        "\n",
        "\n",
        "---\n",
        "---\n",
        "---\n",
        "\n",
        "\n",
        "\n",
        "\n",
        "\n"
      ],
      "metadata": {
        "id": "y7rtU76kT5L0"
      }
    },
    {
      "cell_type": "markdown",
      "source": [
        "## **Desafio 2: Setor Alimentício**"
      ],
      "metadata": {
        "id": "yxbqNPhJVubQ"
      }
    },
    {
      "cell_type": "markdown",
      "source": [
        "### **Instruções do desafio**\n",
        "\n",
        "Imagine que voce trabalha em uma empresa do setor alimentício, e o preço de determinado produto, um novo picolé, tem uma distribuição normal com média igual a 7,85 reais e desvio padrão igual a 3,32 reais. Suspeita-se que devido ao verão, em determinadas localidades de praia o preco do picolé esteja mais caro.\n",
        "Para verificar se esse efeito é estatisticamente significativo, contactaram você, analista de dados.\n",
        "\n",
        "Suponha que para realizar essa análise você tenha dados de 45 lojas em cidades do litoral, escolhidas aleatoriamente. E constatou que o preço médio do picolé nessas cidades é de R$11,52.\n"
      ],
      "metadata": {
        "id": "PuQ5IYeVWOCp"
      }
    },
    {
      "cell_type": "markdown",
      "source": [
        "\n",
        "\n",
        "---\n",
        "\n"
      ],
      "metadata": {
        "id": "6CjmT_tyWba4"
      }
    },
    {
      "cell_type": "markdown",
      "source": [
        "## **Exercício 1**\n",
        "1. Você pode concluir que existe diferença de preços estatisticamente\n",
        "relevante com 5% de significância?"
      ],
      "metadata": {
        "id": "MNCBDbpMWcaW"
      }
    },
    {
      "cell_type": "code",
      "source": [
        "# Dados\n",
        "media_amostra = 11.52\n",
        "media_populacional = 7.85\n",
        "desvio_padrao = 3.32\n",
        "tamanho_amostra = 45\n",
        "\n",
        "# Calcular a estatística t\n",
        "t = (media_amostra - media_populacional) / (desvio_padrao / np.sqrt(tamanho_amostra))\n",
        "\n",
        "# Graus de liberdade\n",
        "graus_liberdade = tamanho_amostra - 1\n",
        "\n",
        "# Valor crítico para um teste bilateral\n",
        "alpha = 0.05\n",
        "valor_critico = stats.t.ppf(1 - alpha/2, graus_liberdade)\n",
        "\n",
        "# Imprimir resultados\n",
        "print(f'Estatística t: {t:.4f}')\n",
        "print(f'Valor crítico: ±{valor_critico:.4f}\\n')\n",
        "\n",
        "# Verificação da hipótese\n",
        "if abs(t) > valor_critico:\n",
        "    print('Rejeitamos a hipótese nula. Existe uma diferença significativa nos preços.')\n",
        "else:\n",
        "    print('Não rejeitamos a hipótese nula. Não há diferença significativa nos preços.')\n"
      ],
      "metadata": {
        "id": "eSq_5y9bWYwk",
        "colab": {
          "base_uri": "https://localhost:8080/"
        },
        "outputId": "ea42a889-475b-4d5f-f79e-9d3e7a3c30c8"
      },
      "execution_count": null,
      "outputs": [
        {
          "output_type": "stream",
          "name": "stdout",
          "text": [
            "Estatística t: 7.4154\n",
            "Valor crítico: ±2.0154\n",
            "\n",
            "Rejeitamos a hipótese nula. Existe uma diferença significativa nos preços.\n"
          ]
        }
      ]
    },
    {
      "cell_type": "markdown",
      "source": [
        "\n",
        "\n",
        "---\n",
        "\n"
      ],
      "metadata": {
        "id": "h9m6j7l4WgiZ"
      }
    },
    {
      "cell_type": "markdown",
      "source": [],
      "metadata": {
        "id": "n8MbbWJh1gTJ"
      }
    },
    {
      "cell_type": "markdown",
      "source": [
        "## **Exercício 2**\n",
        "2. Qual é o valor da variável teste, o intervalo de confiança e o p-valor?"
      ],
      "metadata": {
        "id": "OvLgSWneWhwn"
      }
    },
    {
      "cell_type": "code",
      "source": [
        "# Dados\n",
        "media_amostra = 11.52\n",
        "media_populacional = 7.85\n",
        "desvio_padrao = 3.32\n",
        "tamanho_amostra = 45\n",
        "\n",
        "# Calcular a estatística t\n",
        "t = (media_amostra - media_populacional) / (desvio_padrao / np.sqrt(tamanho_amostra))\n",
        "\n",
        "# Graus de liberdade\n",
        "graus_liberdade = tamanho_amostra - 1\n",
        "\n",
        "# Valor crítico para um teste bilateral\n",
        "alpha = 0.05\n",
        "valor_critico = stats.t.ppf(1 - alpha/2, graus_liberdade)\n",
        "\n",
        "# Calcular o intervalo de confiança\n",
        "margem_erro = valor_critico * (desvio_padrao / np.sqrt(tamanho_amostra))\n",
        "ic_inferior = media_amostra - margem_erro\n",
        "ic_superior = media_amostra + margem_erro\n",
        "\n",
        "# Calcular o p-valor\n",
        "p_valor = 2 * (1 - stats.t.cdf(abs(t), graus_liberdade))\n",
        "\n",
        "# Imprimir resultados\n",
        "print(f'Estatística t: {t:.4f}')\n",
        "print(f'Valor crítico: ±{valor_critico:.4f}')\n",
        "print(f'Intervalo de Confiança (95%): ({ic_inferior:.2f}, {ic_superior:.2f})')\n",
        "print(f'P-valor: {p_valor:.4f}\\n')\n",
        "\n",
        "# Verificação da hipótese\n",
        "if abs(t) > valor_critico:\n",
        "    print('Rejeitamos a hipótese nula. Existe uma diferença significativa nos preços.')\n",
        "else:\n",
        "    print('Não rejeitamos a hipótese nula. Não há diferença significativa nos preços.')\n"
      ],
      "metadata": {
        "id": "IWA4caXZWhJs",
        "colab": {
          "base_uri": "https://localhost:8080/"
        },
        "outputId": "cae00b9d-0e8f-4df9-94cd-71a1ef2ab8af"
      },
      "execution_count": null,
      "outputs": [
        {
          "output_type": "stream",
          "name": "stdout",
          "text": [
            "Estatística t: 7.4154\n",
            "Valor crítico: ±2.0154\n",
            "Intervalo de Confiança (95%): (10.52, 12.52)\n",
            "P-valor: 0.0000\n",
            "\n",
            "Rejeitamos a hipótese nula. Existe uma diferença significativa nos preços.\n"
          ]
        }
      ]
    }
  ]
}