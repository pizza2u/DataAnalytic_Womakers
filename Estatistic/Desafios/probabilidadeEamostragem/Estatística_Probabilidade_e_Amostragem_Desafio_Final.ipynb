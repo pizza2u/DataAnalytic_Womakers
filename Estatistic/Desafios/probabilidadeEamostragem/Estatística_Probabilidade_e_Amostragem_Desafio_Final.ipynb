{
  "nbformat": 4,
  "nbformat_minor": 0,
  "metadata": {
    "colab": {
      "provenance": []
    },
    "kernelspec": {
      "name": "python3",
      "display_name": "Python 3"
    },
    "language_info": {
      "name": "python"
    }
  },
  "cells": [
    {
      "cell_type": "code",
      "source": [
        "from google.colab import drive\n",
        "drive.mount('/content/drive')"
      ],
      "metadata": {
        "colab": {
          "base_uri": "https://localhost:8080/"
        },
        "id": "Gn8UW9YztooS",
        "outputId": "32536281-3bad-4a79-e6d4-14dae377783a"
      },
      "execution_count": 2,
      "outputs": [
        {
          "output_type": "stream",
          "name": "stdout",
          "text": [
            "Mounted at /content/drive\n"
          ]
        }
      ]
    },
    {
      "cell_type": "code",
      "source": [
        "import pandas as pd\n",
        "import numpy as np\n",
        "import seaborn as sns\n",
        "import matplotlib.pyplot as plt\n",
        "from scipy.stats import binom, norm\n",
        "\n",
        "\n",
        "df = pd.read_csv('/content/drive/MyDrive/Womakers/populacao_brasileira.csv.csv')"
      ],
      "metadata": {
        "id": "bYEzGKXHuN_3"
      },
      "execution_count": 3,
      "outputs": []
    },
    {
      "cell_type": "markdown",
      "source": [
        "1. Considere pessoas fluentes em inglês, qual a probabilidade\n",
        "complementar? Ou seja, qual a probabilidade de escolhermos uma\n",
        "pessoa aleatória e ela não ser fluente em inglês. Considere fluente\n",
        "quem tem o nível avançado.\n"
      ],
      "metadata": {
        "id": "1vkv-RYUtldN"
      }
    },
    {
      "cell_type": "code",
      "source": [
        "prob_fluente = df[df['nível de proficiência em inglês'] == 'Avançado'].shape[0] / df.shape[0]\n",
        "prob_nao_fluente = 1 - prob_fluente\n",
        "print(f'Probabilidade de não ser fluente em inglês: {prob_nao_fluente:.4f}')"
      ],
      "metadata": {
        "colab": {
          "base_uri": "https://localhost:8080/"
        },
        "id": "He_KAjF5uxTB",
        "outputId": "13663ce9-41be-4eeb-9f02-58e25a7d7c1d"
      },
      "execution_count": 4,
      "outputs": [
        {
          "output_type": "stream",
          "name": "stdout",
          "text": [
            "Probabilidade de não ser fluente em inglês: 0.6560\n"
          ]
        }
      ]
    },
    {
      "cell_type": "markdown",
      "source": [
        "2. Se uma pessoa escolhida aleatoriamente for de Alagoas ou do Pará,\n",
        "qual é a probabilidade de ela ter uma renda superior a 5 mil reais?"
      ],
      "metadata": {
        "id": "aWsqV3O9vitS"
      }
    },
    {
      "cell_type": "code",
      "source": [
        "estados = ['AL', 'PA']\n",
        "pessoas_filtro = df[(df['estado'].isin(estados)) & (df['renda'] > 5000)]\n",
        "prob_renda_maior_5000 = pessoas_filtro.shape[0] / df[df['estado'].isin(estados)].shape[0]\n",
        "print(f'Probabilidade de ter renda maior que 5 mil em Alagoas ou Pará: {prob_renda_maior_5000:.4f}')"
      ],
      "metadata": {
        "colab": {
          "base_uri": "https://localhost:8080/"
        },
        "id": "hxSUiHfevk-M",
        "outputId": "4a39b100-0171-4453-af0f-2439b8be1a69"
      },
      "execution_count": 5,
      "outputs": [
        {
          "output_type": "stream",
          "name": "stdout",
          "text": [
            "Probabilidade de ter renda maior que 5 mil em Alagoas ou Pará: 0.0506\n"
          ]
        }
      ]
    },
    {
      "cell_type": "markdown",
      "source": [
        "3. Descubra a probabilidade de uma pessoa ter ensino superior completo\n",
        "no estado do Amazonas. Qual a probabilidade da quinta pessoa que\n",
        "você conversar, que é amazonense, ter ensino superior completo?"
      ],
      "metadata": {
        "id": "jcF0mq7Rvv0s"
      }
    },
    {
      "cell_type": "code",
      "source": [
        "prob_superior_amazonas = df[(df['estado'] == 'AM') & (df['escolaridade'] == 'Superior')].shape[0] / df[df['estado'] == 'AM'].shape[0]\n",
        "prob_quinta_pessoa = prob_superior_amazonas ** 5\n",
        "print(f'Probabilidade de ter ensino superior completo no Amazonas: {prob_superior_amazonas:.4f}')\n",
        "print(f'Probabilidade da quinta pessoa ser formada no Amazonas: {prob_quinta_pessoa:.4f}')"
      ],
      "metadata": {
        "colab": {
          "base_uri": "https://localhost:8080/"
        },
        "id": "qzC4w6FTvx-r",
        "outputId": "4f6de3b5-e877-4488-bdec-359c5b6c4636"
      },
      "execution_count": 6,
      "outputs": [
        {
          "output_type": "stream",
          "name": "stdout",
          "text": [
            "Probabilidade de ter ensino superior completo no Amazonas: 0.2368\n",
            "Probabilidade da quinta pessoa ser formada no Amazonas: 0.0007\n"
          ]
        }
      ]
    },
    {
      "cell_type": "markdown",
      "source": [
        "4. Considerando a renda das pessoas do nosso conjunto, podemos dizer\n",
        "que a renda de uma pessoa brasileira está na sua maioria em que faixa\n",
        "(faça faixa de 1.500 reais)? Qual é a sua função densidade de\n",
        "probabilidade?"
      ],
      "metadata": {
        "id": "avWa_1q8v88v"
      }
    },
    {
      "cell_type": "code",
      "source": [
        "df['faixa_renda'] = pd.cut(df['renda'], bins=np.arange(0, df['renda'].max() + 1500, 1500))\n",
        "faixa_mais_comum = df['faixa_renda'].mode()[0]\n",
        "print(f'Faixa de renda mais comum: {faixa_mais_comum}')"
      ],
      "metadata": {
        "colab": {
          "base_uri": "https://localhost:8080/"
        },
        "id": "PD2MgXYTv_FH",
        "outputId": "79ca5dd9-7044-4428-9300-de712646aac3"
      },
      "execution_count": 7,
      "outputs": [
        {
          "output_type": "stream",
          "name": "stdout",
          "text": [
            "Faixa de renda mais comum: (3000.0, 4500.0]\n"
          ]
        }
      ]
    },
    {
      "cell_type": "markdown",
      "source": [
        "5. Calcule a média e a variância da renda da amostra. Depois faça a\n",
        "distribuição normal, inclua o gráfico.\n"
      ],
      "metadata": {
        "id": "qyfxxPSswebT"
      }
    },
    {
      "cell_type": "code",
      "source": [
        "media_renda = df['renda'].mean()\n",
        "variancia_renda = df['renda'].var()\n",
        "print(f'Média da renda: {media_renda:.2f}')\n",
        "print(f'Variância da renda: {variancia_renda:.2f}')\n",
        "print(\"\\n\")\n",
        "sns.histplot(df['renda'], kde=True)\n",
        "plt.title('Distribuição da Renda')\n",
        "plt.show()"
      ],
      "metadata": {
        "colab": {
          "base_uri": "https://localhost:8080/",
          "height": 546
        },
        "id": "J1tu2zYaweyQ",
        "outputId": "9172a76c-fe28-494b-9e01-dfe240d451be"
      },
      "execution_count": 8,
      "outputs": [
        {
          "output_type": "stream",
          "name": "stdout",
          "text": [
            "Média da renda: 3082.54\n",
            "Variância da renda: 993156.23\n",
            "\n",
            "\n"
          ]
        },
        {
          "output_type": "display_data",
          "data": {
            "text/plain": [
              "<Figure size 640x480 with 1 Axes>"
            ],
            "image/png": "[encoded data removed]"
          },
          "metadata": {}
        }
      ]
    },
    {
      "cell_type": "markdown",
      "source": [
        "6. Primeiro considere a probabilidade encontrada no nosso conjunto de\n",
        "pessoas com escolaridade de pós-graduação. Considerando a amostra\n",
        "de população brasileira com 1 milhão de habitantes, qual a\n",
        "probabilidade de encontrarmos 243 mil pessoas com pós-graduação?"
      ],
      "metadata": {
        "id": "5-lxRrJpwi9b"
      }
    },
    {
      "cell_type": "code",
      "source": [
        "prob_pos_graduacao = df[df['escolaridade'] == 'Pós-graduação'].shape[0] / df.shape[0]\n",
        "prob_243mil = binom.pmf(243000, 1000000, prob_pos_graduacao)\n",
        "print(f\"A probabilidade é de {prob_243mil}\")"
      ],
      "metadata": {
        "colab": {
          "base_uri": "https://localhost:8080/"
        },
        "id": "qiqUVZArwjId",
        "outputId": "4bdcd6df-ebfa-43b6-f99c-6c3c690de47c"
      },
      "execution_count": 22,
      "outputs": [
        {
          "output_type": "stream",
          "name": "stdout",
          "text": [
            "A probabilidade é de 1.1104854289794913e-119\n"
          ]
        }
      ]
    },
    {
      "cell_type": "markdown",
      "source": [
        "7. Somando as densidades nós temos a função de densidade acumulada.\n",
        "Considerando a coluna ‘Escolaridade’ faça a função de densidade\n",
        "acumulada discreta para cada nível de escolaridade."
      ],
      "metadata": {
        "id": "QQhSRaK4w0wu"
      }
    },
    {
      "cell_type": "code",
      "source": [
        "escolaridade_counts = df['escolaridade'].value_counts(normalize=True).sort_index().cumsum()\n",
        "print('Função de Densidade Acumulada para Escolaridade:')\n",
        "print(escolaridade_counts)"
      ],
      "metadata": {
        "colab": {
          "base_uri": "https://localhost:8080/"
        },
        "id": "X3IrFomPw0_C",
        "outputId": "8df5779b-ad8f-4cd8-cce4-39e1d4d10fca"
      },
      "execution_count": 15,
      "outputs": [
        {
          "output_type": "stream",
          "name": "stdout",
          "text": [
            "Função de Densidade Acumulada para Escolaridade:\n",
            "escolaridade\n",
            "Fundamental      0.266\n",
            "Médio            0.504\n",
            "Pós-graduação    0.757\n",
            "Superior         1.000\n",
            "Name: proportion, dtype: float64\n"
          ]
        }
      ]
    },
    {
      "cell_type": "markdown",
      "source": [
        "8. Qual a margem de erro amostral da proporção populacional\n",
        "considerando a proporção de pessoas com nível de inglês\n",
        "intermediário?"
      ],
      "metadata": {
        "id": "CvtH3MJqw6Qc"
      }
    },
    {
      "cell_type": "code",
      "source": [
        "proporcao_intermediario = df[df['nível de proficiência em inglês'] == 'Intermediário'].shape[0] / df.shape[0]\n",
        "n = df.shape[0]\n",
        "erro_amostral = 1.96 * np.sqrt((proporcao_intermediario * (1 - proporcao_intermediario)) / n)\n",
        "print(f'Margem de erro amostral: {erro_amostral:.4f}')"
      ],
      "metadata": {
        "colab": {
          "base_uri": "https://localhost:8080/"
        },
        "id": "wAlYV6hhw6lz",
        "outputId": "b24e2ef5-b98e-4fcf-afb2-daa1f24edbfb"
      },
      "execution_count": 17,
      "outputs": [
        {
          "output_type": "stream",
          "name": "stdout",
          "text": [
            "Margem de erro amostral: 0.0291\n"
          ]
        }
      ]
    },
    {
      "cell_type": "markdown",
      "source": [
        "9. Calcula a renda da população. Qual a probabilidade de encontrar 60\n",
        "pessoas com uma renda mil reais superior à média?\n"
      ],
      "metadata": {
        "id": "zq0dKXp4xFQJ"
      }
    },
    {
      "cell_type": "code",
      "source": [
        "prob_renda_maior_media = norm.sf(media_renda + 1000, loc=media_renda, scale=df['renda'].std())\n",
        "prob_60_pessoas = binom.pmf(60, df.shape[0], prob_renda_maior_media)\n",
        "print(f'Probabilidade de encontrar 60 pessoas com renda mil reais superior à média: {prob_60_pessoas}')"
      ],
      "metadata": {
        "colab": {
          "base_uri": "https://localhost:8080/"
        },
        "id": "zGKk07JKxFiy",
        "outputId": "a0999ee3-72d7-4844-8613-0a4e30bca013"
      },
      "execution_count": 18,
      "outputs": [
        {
          "output_type": "stream",
          "name": "stdout",
          "text": [
            "Probabilidade de encontrar 60 pessoas com renda mil reais superior à média: 1.1597038406784442e-21\n"
          ]
        }
      ]
    },
    {
      "cell_type": "markdown",
      "source": [
        "10. Qual a probabilidade de escolhermos alguém do Sudeste que seja\n",
        "homem, com ensino fundamental e com renda maior que 2 mil reais por\n",
        "mês?"
      ],
      "metadata": {
        "id": "PT-vetgzxMOF"
      }
    },
    {
      "cell_type": "code",
      "source": [
        "sudeste_estados = ['SP', 'RJ', 'ES', 'MG']\n",
        "filtro = df[(df['estado'].isin(sudeste_estados)) & (df['sexo'] == 'M') & (df['escolaridade'] == 'Fundamental') & (df['renda'] > 2000)]\n",
        "prob = filtro.shape[0] / df[df['estado'].isin(sudeste_estados)].shape[0]\n",
        "print(f'Probabilidade de escolher alguém do Sudeste, homem, com ensino fundamental e renda > 2 mil reais: {prob:.4f}')"
      ],
      "metadata": {
        "colab": {
          "base_uri": "https://localhost:8080/"
        },
        "id": "TSiku1SmxMjf",
        "outputId": "0c83d0bf-d8a7-48a6-cb13-5ee3948dd98a"
      },
      "execution_count": 21,
      "outputs": [
        {
          "output_type": "stream",
          "name": "stdout",
          "text": [
            "Probabilidade de escolher alguém do Sudeste, homem, com ensino fundamental e renda > 2 mil reais: 0.1210\n"
          ]
        }
      ]
    }
  ]
}