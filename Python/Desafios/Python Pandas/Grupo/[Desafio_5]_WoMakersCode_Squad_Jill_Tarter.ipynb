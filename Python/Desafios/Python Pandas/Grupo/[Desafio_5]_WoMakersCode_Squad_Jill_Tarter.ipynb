{
  "cells": [
    {
      "cell_type": "markdown",
      "metadata": {
        "id": "s4iRUXIhnoyi"
      },
      "source": [
        "#Instalação das bibliotecas pydataset e pandas"
      ]
    },
    {
      "cell_type": "code",
      "execution_count": null,
      "metadata": {
        "colab": {
          "base_uri": "https://localhost:8080/"
        },
        "id": "YArLW8_cmX2f",
        "outputId": "d1343709-dedc-4999-9300-61ba3f3e6653"
      },
      "outputs": [
        {
          "name": "stdout",
          "output_type": "stream",
          "text": [
            "Collecting pydataset\n",
            "  Downloading pydataset-0.2.0.tar.gz (15.9 MB)\n",
            "\u001b[2K     \u001b[90m━━━━━━━━━━━━━━━━━━━━━━━━━━━━━━━━━━━━━━━━\u001b[0m \u001b[32m15.9/15.9 MB\u001b[0m \u001b[31m81.8 MB/s\u001b[0m eta \u001b[36m0:00:00\u001b[0m\n",
            "\u001b[?25h  Preparing metadata (setup.py) ... \u001b[?25l\u001b[?25hdone\n",
            "Requirement already satisfied: pandas in /usr/local/lib/python3.10/dist-packages (from pydataset) (2.1.4)\n",
            "Requirement already satisfied: numpy<2,>=1.22.4 in /usr/local/lib/python3.10/dist-packages (from pandas->pydataset) (1.26.4)\n",
            "Requirement already satisfied: python-dateutil>=2.8.2 in /usr/local/lib/python3.10/dist-packages (from pandas->pydataset) (2.8.2)\n",
            "Requirement already satisfied: pytz>=2020.1 in /usr/local/lib/python3.10/dist-packages (from pandas->pydataset) (2024.1)\n",
            "Requirement already satisfied: tzdata>=2022.1 in /usr/local/lib/python3.10/dist-packages (from pandas->pydataset) (2024.1)\n",
            "Requirement already satisfied: six>=1.5 in /usr/local/lib/python3.10/dist-packages (from python-dateutil>=2.8.2->pandas->pydataset) (1.16.0)\n",
            "Building wheels for collected packages: pydataset\n",
            "  Building wheel for pydataset (setup.py) ... \u001b[?25l\u001b[?25hdone\n",
            "  Created wheel for pydataset: filename=pydataset-0.2.0-py3-none-any.whl size=15939416 sha256=4607d4b971ae9e3d359868269a37b59a81b65c47cc221a6091e44873138cb15e\n",
            "  Stored in directory: /root/.cache/pip/wheels/2b/83/5c/073c3755e8b7704e4677557b2055e61026c1a2342149214c13\n",
            "Successfully built pydataset\n",
            "Installing collected packages: pydataset\n",
            "Successfully installed pydataset-0.2.0\n",
            "Requirement already satisfied: pandas in /usr/local/lib/python3.10/dist-packages (2.1.4)\n",
            "Requirement already satisfied: numpy<2,>=1.22.4 in /usr/local/lib/python3.10/dist-packages (from pandas) (1.26.4)\n",
            "Requirement already satisfied: python-dateutil>=2.8.2 in /usr/local/lib/python3.10/dist-packages (from pandas) (2.8.2)\n",
            "Requirement already satisfied: pytz>=2020.1 in /usr/local/lib/python3.10/dist-packages (from pandas) (2024.1)\n",
            "Requirement already satisfied: tzdata>=2022.1 in /usr/local/lib/python3.10/dist-packages (from pandas) (2024.1)\n",
            "Requirement already satisfied: six>=1.5 in /usr/local/lib/python3.10/dist-packages (from python-dateutil>=2.8.2->pandas) (1.16.0)\n"
          ]
        }
      ],
      "source": [
        "!pip install pydataset\n",
        "!pip install pandas"
      ]
    },
    {
      "cell_type": "markdown",
      "metadata": {
        "id": "xrq8ODTZqwtd"
      },
      "source": [
        "#Importação das bibliotecas pydataset e pandas"
      ]
    },
    {
      "cell_type": "code",
      "execution_count": null,
      "metadata": {
        "colab": {
          "base_uri": "https://localhost:8080/"
        },
        "id": "i9Fw-B4dlGDX",
        "outputId": "45eb1458-9299-4fc5-cd40-72a9af1c6905"
      },
      "outputs": [
        {
          "name": "stdout",
          "output_type": "stream",
          "text": [
            "initiated datasets repo at: /root/.pydataset/\n"
          ]
        }
      ],
      "source": [
        "from pydataset import data\n",
        "import pandas as pd"
      ]
    },
    {
      "cell_type": "markdown",
      "metadata": {
        "id": "hxpUuDstnzWj"
      },
      "source": [
        "#Importação do dataset \"Forbes2000\" do pydataset\n",
        "\n",
        "---\n",
        "\n"
      ]
    },
    {
      "cell_type": "code",
      "execution_count": null,
      "metadata": {
        "colab": {
          "base_uri": "https://localhost:8080/",
          "height": 313
        },
        "id": "2bzKQAztmLgx",
        "outputId": "c7e959a4-c0c0-4864-d877-40bc13012cb7"
      },
      "outputs": [
        {
          "data": {
            "application/vnd.google.colaboratory.intrinsic+json": {
              "summary": "{\n  \"name\": \"df\",\n  \"rows\": 2000,\n  \"fields\": [\n    {\n      \"column\": \"rank\",\n      \"properties\": {\n        \"dtype\": \"number\",\n        \"std\": 577,\n        \"min\": 1,\n        \"max\": 2000,\n        \"num_unique_values\": 2000,\n        \"samples\": [\n          1861,\n          354,\n          1334\n        ],\n        \"semantic_type\": \"\",\n        \"description\": \"\"\n      }\n    },\n    {\n      \"column\": \"name\",\n      \"properties\": {\n        \"dtype\": \"string\",\n        \"num_unique_values\": 2000,\n        \"samples\": [\n          \"Mercantil Servicios Fin\",\n          \"Vodafone\",\n          \"Imerys\"\n        ],\n        \"semantic_type\": \"\",\n        \"description\": \"\"\n      }\n    },\n    {\n      \"column\": \"country\",\n      \"properties\": {\n        \"dtype\": \"category\",\n        \"num_unique_values\": 61,\n        \"samples\": [\n          \"United States\",\n          \"Netherlands/ United Kingdom\",\n          \"Africa\"\n        ],\n        \"semantic_type\": \"\",\n        \"description\": \"\"\n      }\n    },\n    {\n      \"column\": \"category\",\n      \"properties\": {\n        \"dtype\": \"category\",\n        \"num_unique_values\": 27,\n        \"samples\": [\n          \"Food drink & tobacco\",\n          \"Household & personal products\",\n          \"Drugs & biotechnology\"\n        ],\n        \"semantic_type\": \"\",\n        \"description\": \"\"\n      }\n    },\n    {\n      \"column\": \"sales\",\n      \"properties\": {\n        \"dtype\": \"number\",\n        \"std\": 18.002592352925532,\n        \"min\": 0.01,\n        \"max\": 256.33,\n        \"num_unique_values\": 1166,\n        \"samples\": [\n          0.56,\n          29.14,\n          4.33\n        ],\n        \"semantic_type\": \"\",\n        \"description\": \"\"\n      }\n    },\n    {\n      \"column\": \"profits\",\n      \"properties\": {\n        \"dtype\": \"number\",\n        \"std\": 1.7654539367278528,\n        \"min\": -25.83,\n        \"max\": 20.96,\n        \"num_unique_values\": 380,\n        \"samples\": [\n          -2.19,\n          0.45,\n          -0.21\n        ],\n        \"semantic_type\": \"\",\n        \"description\": \"\"\n      }\n    },\n    {\n      \"column\": \"assets\",\n      \"properties\": {\n        \"dtype\": \"number\",\n        \"std\": 99.67878580042408,\n        \"min\": 0.27,\n        \"max\": 1264.03,\n        \"num_unique_values\": 1464,\n        \"samples\": [\n          34.29,\n          21.06,\n          10.54\n        ],\n        \"semantic_type\": \"\",\n        \"description\": \"\"\n      }\n    },\n    {\n      \"column\": \"marketvalue\",\n      \"properties\": {\n        \"dtype\": \"number\",\n        \"std\": 24.4601965948703,\n        \"min\": 0.02,\n        \"max\": 328.54,\n        \"num_unique_values\": 1194,\n        \"samples\": [\n          20.64,\n          5.3,\n          5.03\n        ],\n        \"semantic_type\": \"\",\n        \"description\": \"\"\n      }\n    }\n  ]\n}",
              "type": "dataframe",
              "variable_name": "df"
            },
            "text/html": [
              "\n",
              "  <div id=\"df-9e865c9e-10ff-4adc-a3e0-21c27fc468b9\" class=\"colab-df-container\">\n",
              "    <div>\n",
              "<style scoped>\n",
              "    .dataframe tbody tr th:only-of-type {\n",
              "        vertical-align: middle;\n",
              "    }\n",
              "\n",
              "    .dataframe tbody tr th {\n",
              "        vertical-align: top;\n",
              "    }\n",
              "\n",
              "    .dataframe thead th {\n",
              "        text-align: right;\n",
              "    }\n",
              "</style>\n",
              "<table border=\"1\" class=\"dataframe\">\n",
              "  <thead>\n",
              "    <tr style=\"text-align: right;\">\n",
              "      <th></th>\n",
              "      <th>rank</th>\n",
              "      <th>name</th>\n",
              "      <th>country</th>\n",
              "      <th>category</th>\n",
              "      <th>sales</th>\n",
              "      <th>profits</th>\n",
              "      <th>assets</th>\n",
              "      <th>marketvalue</th>\n",
              "    </tr>\n",
              "  </thead>\n",
              "  <tbody>\n",
              "    <tr>\n",
              "      <th>1</th>\n",
              "      <td>1</td>\n",
              "      <td>Citigroup</td>\n",
              "      <td>United States</td>\n",
              "      <td>Banking</td>\n",
              "      <td>94.71</td>\n",
              "      <td>17.85</td>\n",
              "      <td>1264.03</td>\n",
              "      <td>255.30</td>\n",
              "    </tr>\n",
              "    <tr>\n",
              "      <th>2</th>\n",
              "      <td>2</td>\n",
              "      <td>General Electric</td>\n",
              "      <td>United States</td>\n",
              "      <td>Conglomerates</td>\n",
              "      <td>134.19</td>\n",
              "      <td>15.59</td>\n",
              "      <td>626.93</td>\n",
              "      <td>328.54</td>\n",
              "    </tr>\n",
              "    <tr>\n",
              "      <th>3</th>\n",
              "      <td>3</td>\n",
              "      <td>American Intl Group</td>\n",
              "      <td>United States</td>\n",
              "      <td>Insurance</td>\n",
              "      <td>76.66</td>\n",
              "      <td>6.46</td>\n",
              "      <td>647.66</td>\n",
              "      <td>194.87</td>\n",
              "    </tr>\n",
              "    <tr>\n",
              "      <th>4</th>\n",
              "      <td>4</td>\n",
              "      <td>ExxonMobil</td>\n",
              "      <td>United States</td>\n",
              "      <td>Oil &amp; gas operations</td>\n",
              "      <td>222.88</td>\n",
              "      <td>20.96</td>\n",
              "      <td>166.99</td>\n",
              "      <td>277.02</td>\n",
              "    </tr>\n",
              "    <tr>\n",
              "      <th>5</th>\n",
              "      <td>5</td>\n",
              "      <td>BP</td>\n",
              "      <td>United Kingdom</td>\n",
              "      <td>Oil &amp; gas operations</td>\n",
              "      <td>232.57</td>\n",
              "      <td>10.27</td>\n",
              "      <td>177.57</td>\n",
              "      <td>173.54</td>\n",
              "    </tr>\n",
              "  </tbody>\n",
              "</table>\n",
              "</div>\n",
              "    <div class=\"colab-df-buttons\">\n",
              "\n",
              "  <div class=\"colab-df-container\">\n",
              "    <button class=\"colab-df-convert\" onclick=\"convertToInteractive('df-9e865c9e-10ff-4adc-a3e0-21c27fc468b9')\"\n",
              "            title=\"Convert this dataframe to an interactive table.\"\n",
              "            style=\"display:none;\">\n",
              "\n",
              "  <svg xmlns=\"http://www.w3.org/2000/svg\" height=\"24px\" viewBox=\"0 -960 960 960\">\n",
              "    <path d=\"M120-120v-720h720v720H120Zm60-500h600v-160H180v160Zm220 220h160v-160H400v160Zm0 220h160v-160H400v160ZM180-400h160v-160H180v160Zm440 0h160v-160H620v160ZM180-180h160v-160H180v160Zm440 0h160v-160H620v160Z\"/>\n",
              "  </svg>\n",
              "    </button>\n",
              "\n",
              "  <style>\n",
              "    .colab-df-container {\n",
              "      display:flex;\n",
              "      gap: 12px;\n",
              "    }\n",
              "\n",
              "    .colab-df-convert {\n",
              "      background-color: #E8F0FE;\n",
              "      border: none;\n",
              "      border-radius: 50%;\n",
              "      cursor: pointer;\n",
              "      display: none;\n",
              "      fill: #1967D2;\n",
              "      height: 32px;\n",
              "      padding: 0 0 0 0;\n",
              "      width: 32px;\n",
              "    }\n",
              "\n",
              "    .colab-df-convert:hover {\n",
              "      background-color: #E2EBFA;\n",
              "      box-shadow: 0px 1px 2px rgba(60, 64, 67, 0.3), 0px 1px 3px 1px rgba(60, 64, 67, 0.15);\n",
              "      fill: #174EA6;\n",
              "    }\n",
              "\n",
              "    .colab-df-buttons div {\n",
              "      margin-bottom: 4px;\n",
              "    }\n",
              "\n",
              "    [theme=dark] .colab-df-convert {\n",
              "      background-color: #3B4455;\n",
              "      fill: #D2E3FC;\n",
              "    }\n",
              "\n",
              "    [theme=dark] .colab-df-convert:hover {\n",
              "      background-color: #434B5C;\n",
              "      box-shadow: 0px 1px 3px 1px rgba(0, 0, 0, 0.15);\n",
              "      filter: drop-shadow(0px 1px 2px rgba(0, 0, 0, 0.3));\n",
              "      fill: #FFFFFF;\n",
              "    }\n",
              "  </style>\n",
              "\n",
              "    <script>\n",
              "      const buttonEl =\n",
              "        document.querySelector('#df-9e865c9e-10ff-4adc-a3e0-21c27fc468b9 button.colab-df-convert');\n",
              "      buttonEl.style.display =\n",
              "        google.colab.kernel.accessAllowed ? 'block' : 'none';\n",
              "\n",
              "      async function convertToInteractive(key) {\n",
              "        const element = document.querySelector('#df-9e865c9e-10ff-4adc-a3e0-21c27fc468b9');\n",
              "        const dataTable =\n",
              "          await google.colab.kernel.invokeFunction('convertToInteractive',\n",
              "                                                    [key], {});\n",
              "        if (!dataTable) return;\n",
              "\n",
              "        const docLinkHtml = 'Like what you see? Visit the ' +\n",
              "          '<a target=\"_blank\" href=https://colab.research.google.com/notebooks/data_table.ipynb>data table notebook</a>'\n",
              "          + ' to learn more about interactive tables.';\n",
              "        element.innerHTML = '';\n",
              "        dataTable['output_type'] = 'display_data';\n",
              "        await google.colab.output.renderOutput(dataTable, element);\n",
              "        const docLink = document.createElement('div');\n",
              "        docLink.innerHTML = docLinkHtml;\n",
              "        element.appendChild(docLink);\n",
              "      }\n",
              "    </script>\n",
              "  </div>\n",
              "\n",
              "\n",
              "<div id=\"df-20bc1881-831e-432b-b157-69a0f95d1927\">\n",
              "  <button class=\"colab-df-quickchart\" onclick=\"quickchart('df-20bc1881-831e-432b-b157-69a0f95d1927')\"\n",
              "            title=\"Suggest charts\"\n",
              "            style=\"display:none;\">\n",
              "\n",
              "<svg xmlns=\"http://www.w3.org/2000/svg\" height=\"24px\"viewBox=\"0 0 24 24\"\n",
              "     width=\"24px\">\n",
              "    <g>\n",
              "        <path d=\"M19 3H5c-1.1 0-2 .9-2 2v14c0 1.1.9 2 2 2h14c1.1 0 2-.9 2-2V5c0-1.1-.9-2-2-2zM9 17H7v-7h2v7zm4 0h-2V7h2v10zm4 0h-2v-4h2v4z\"/>\n",
              "    </g>\n",
              "</svg>\n",
              "  </button>\n",
              "\n",
              "<style>\n",
              "  .colab-df-quickchart {\n",
              "      --bg-color: #E8F0FE;\n",
              "      --fill-color: #1967D2;\n",
              "      --hover-bg-color: #E2EBFA;\n",
              "      --hover-fill-color: #174EA6;\n",
              "      --disabled-fill-color: #AAA;\n",
              "      --disabled-bg-color: #DDD;\n",
              "  }\n",
              "\n",
              "  [theme=dark] .colab-df-quickchart {\n",
              "      --bg-color: #3B4455;\n",
              "      --fill-color: #D2E3FC;\n",
              "      --hover-bg-color: #434B5C;\n",
              "      --hover-fill-color: #FFFFFF;\n",
              "      --disabled-bg-color: #3B4455;\n",
              "      --disabled-fill-color: #666;\n",
              "  }\n",
              "\n",
              "  .colab-df-quickchart {\n",
              "    background-color: var(--bg-color);\n",
              "    border: none;\n",
              "    border-radius: 50%;\n",
              "    cursor: pointer;\n",
              "    display: none;\n",
              "    fill: var(--fill-color);\n",
              "    height: 32px;\n",
              "    padding: 0;\n",
              "    width: 32px;\n",
              "  }\n",
              "\n",
              "  .colab-df-quickchart:hover {\n",
              "    background-color: var(--hover-bg-color);\n",
              "    box-shadow: 0 1px 2px rgba(60, 64, 67, 0.3), 0 1px 3px 1px rgba(60, 64, 67, 0.15);\n",
              "    fill: var(--button-hover-fill-color);\n",
              "  }\n",
              "\n",
              "  .colab-df-quickchart-complete:disabled,\n",
              "  .colab-df-quickchart-complete:disabled:hover {\n",
              "    background-color: var(--disabled-bg-color);\n",
              "    fill: var(--disabled-fill-color);\n",
              "    box-shadow: none;\n",
              "  }\n",
              "\n",
              "  .colab-df-spinner {\n",
              "    border: 2px solid var(--fill-color);\n",
              "    border-color: transparent;\n",
              "    border-bottom-color: var(--fill-color);\n",
              "    animation:\n",
              "      spin 1s steps(1) infinite;\n",
              "  }\n",
              "\n",
              "  @keyframes spin {\n",
              "    0% {\n",
              "      border-color: transparent;\n",
              "      border-bottom-color: var(--fill-color);\n",
              "      border-left-color: var(--fill-color);\n",
              "    }\n",
              "    20% {\n",
              "      border-color: transparent;\n",
              "      border-left-color: var(--fill-color);\n",
              "      border-top-color: var(--fill-color);\n",
              "    }\n",
              "    30% {\n",
              "      border-color: transparent;\n",
              "      border-left-color: var(--fill-color);\n",
              "      border-top-color: var(--fill-color);\n",
              "      border-right-color: var(--fill-color);\n",
              "    }\n",
              "    40% {\n",
              "      border-color: transparent;\n",
              "      border-right-color: var(--fill-color);\n",
              "      border-top-color: var(--fill-color);\n",
              "    }\n",
              "    60% {\n",
              "      border-color: transparent;\n",
              "      border-right-color: var(--fill-color);\n",
              "    }\n",
              "    80% {\n",
              "      border-color: transparent;\n",
              "      border-right-color: var(--fill-color);\n",
              "      border-bottom-color: var(--fill-color);\n",
              "    }\n",
              "    90% {\n",
              "      border-color: transparent;\n",
              "      border-bottom-color: var(--fill-color);\n",
              "    }\n",
              "  }\n",
              "</style>\n",
              "\n",
              "  <script>\n",
              "    async function quickchart(key) {\n",
              "      const quickchartButtonEl =\n",
              "        document.querySelector('#' + key + ' button');\n",
              "      quickchartButtonEl.disabled = true;  // To prevent multiple clicks.\n",
              "      quickchartButtonEl.classList.add('colab-df-spinner');\n",
              "      try {\n",
              "        const charts = await google.colab.kernel.invokeFunction(\n",
              "            'suggestCharts', [key], {});\n",
              "      } catch (error) {\n",
              "        console.error('Error during call to suggestCharts:', error);\n",
              "      }\n",
              "      quickchartButtonEl.classList.remove('colab-df-spinner');\n",
              "      quickchartButtonEl.classList.add('colab-df-quickchart-complete');\n",
              "    }\n",
              "    (() => {\n",
              "      let quickchartButtonEl =\n",
              "        document.querySelector('#df-20bc1881-831e-432b-b157-69a0f95d1927 button');\n",
              "      quickchartButtonEl.style.display =\n",
              "        google.colab.kernel.accessAllowed ? 'block' : 'none';\n",
              "    })();\n",
              "  </script>\n",
              "</div>\n",
              "\n",
              "    </div>\n",
              "  </div>\n"
            ],
            "text/plain": [
              "   rank                 name         country              category   sales  profits   assets  \\\n",
              "1     1            Citigroup   United States               Banking   94.71    17.85  1264.03   \n",
              "2     2     General Electric   United States         Conglomerates  134.19    15.59   626.93   \n",
              "3     3  American Intl Group   United States             Insurance   76.66     6.46   647.66   \n",
              "4     4           ExxonMobil   United States  Oil & gas operations  222.88    20.96   166.99   \n",
              "5     5                   BP  United Kingdom  Oil & gas operations  232.57    10.27   177.57   \n",
              "\n",
              "   marketvalue  \n",
              "1       255.30  \n",
              "2       328.54  \n",
              "3       194.87  \n",
              "4       277.02  \n",
              "5       173.54  "
            ]
          },
          "execution_count": 7,
          "metadata": {},
          "output_type": "execute_result"
        }
      ],
      "source": [
        "df = data('Forbes2000')\n",
        "df.head()"
      ]
    },
    {
      "cell_type": "markdown",
      "metadata": {
        "id": "h3zSUmJTo6xf"
      },
      "source": [
        "**DESAFIO**\n",
        "\n",
        "**Definição do problema: Você está trabalhando em um jornal e o\n",
        "editor quer que você responda as seguintes questões:**\n",
        "\n",
        "**1. Qual a empresa mais valiosa da lista da Forbes 2000?**\n",
        "\n",
        "**2. Construa uma tabela com as TOP 10 empresas mais lucrativas da\n",
        "lista.**\n",
        "\n",
        "**3. Qual a média de valores de empresa das cinco categorias mais\n",
        "valiosas?**\n",
        "\n",
        "**Dicas:**\n",
        "\n",
        "**Método .max()**\n",
        "\n",
        "**Método nlargest()**\n",
        "\n",
        "**Método .groupby()**"
      ]
    },
    {
      "cell_type": "markdown",
      "metadata": {
        "id": "mCVVsRSw2iyf"
      },
      "source": [
        "### 1. Qual a empresa mais valiosa da lista da Forbes 2000?"
      ]
    },
    {
      "cell_type": "code",
      "execution_count": null,
      "metadata": {
        "colab": {
          "base_uri": "https://localhost:8080/"
        },
        "id": "w4fywg_K21y8",
        "outputId": "1414b6c3-455e-464d-a7e2-3e4855277a67"
      },
      "outputs": [
        {
          "name": "stdout",
          "output_type": "stream",
          "text": [
            "rank                          2\n",
            "name           General Electric\n",
            "country           United States\n",
            "category          Conglomerates\n",
            "sales                    134.19\n",
            "profits                   15.59\n",
            "assets                   626.93\n",
            "marketvalue              328.54\n",
            "Name: 2, dtype: object\n"
          ]
        }
      ],
      "source": [
        "empresa_mais_valiosa = df.loc[df['marketvalue'].idxmax()]\n",
        "print(empresa_mais_valiosa)"
      ]
    },
    {
      "cell_type": "markdown",
      "metadata": {
        "id": "0e-ly84L4Acu"
      },
      "source": [
        "### 2. Construa uma tabela com as TOP 10 empresas mais lucrativas da lista."
      ]
    },
    {
      "cell_type": "code",
      "execution_count": null,
      "metadata": {
        "colab": {
          "base_uri": "https://localhost:8080/"
        },
        "id": "kftd5ZOx4B_-",
        "outputId": "79997ed3-918f-448f-9227-4761ebce0e60"
      },
      "outputs": [
        {
          "name": "stdout",
          "output_type": "stream",
          "text": [
            "    rank              name         country                category   sales  profits   assets  \\\n",
            "4      4        ExxonMobil   United States    Oil & gas operations  222.88    20.96   166.99   \n",
            "1      1         Citigroup   United States                 Banking   94.71    17.85  1264.03   \n",
            "2      2  General Electric   United States           Conglomerates  134.19    15.59   626.93   \n",
            "6      6   Bank of America   United States                 Banking   49.01    10.81   736.45   \n",
            "5      5                BP  United Kingdom    Oil & gas operations  232.57    10.27   177.57   \n",
            "20    20       Freddie Mac   United States  Diversified financials   46.26    10.09   752.25   \n",
            "22    22      Altria Group   United States    Food drink & tobacco   60.70     9.20    96.18   \n",
            "10    10   Wal-Mart Stores   United States               Retailing  256.33     9.05   104.91   \n",
            "31    31         Microsoft   United States     Software & services   34.27     8.88    85.94   \n",
            "17    17             Total          France    Oil & gas operations  131.64     8.84    87.84   \n",
            "\n",
            "    marketvalue  \n",
            "4        277.02  \n",
            "1        255.30  \n",
            "2        328.54  \n",
            "6        117.55  \n",
            "5        173.54  \n",
            "20        44.25  \n",
            "22       111.02  \n",
            "10       243.74  \n",
            "31       287.02  \n",
            "17       116.64  \n"
          ]
        }
      ],
      "source": [
        "top10lucrativas = df.nlargest(10, 'profits')\n",
        "\n",
        "print(top10lucrativas)"
      ]
    },
    {
      "cell_type": "markdown",
      "metadata": {
        "id": "2i8az58e6SmE"
      },
      "source": [
        "### 3. Qual a média de valores de empresa das cinco categorias mais valiosas?"
      ]
    },
    {
      "cell_type": "code",
      "execution_count": null,
      "metadata": {
        "colab": {
          "base_uri": "https://localhost:8080/"
        },
        "id": "zYIxmbap6fkx",
        "outputId": "037dd5d7-c7b7-4c8d-f017-23e5f1cab921"
      },
      "outputs": [
        {
          "name": "stdout",
          "output_type": "stream",
          "text": [
            "26.69119454835006\n"
          ]
        }
      ],
      "source": [
        "mediaCategoria = df.groupby('category')['marketvalue'].mean()\n",
        "\n",
        "top5Categorias = mediaCategoria.nlargest(5)\n",
        "\n",
        "mediaTOP5categoria = top5Categorias.mean()\n",
        "\n",
        "print(mediaTOP5categoria)"
      ]
    }
  ],
  "metadata": {
    "colab": {
      "provenance": []
    },
    "kernelspec": {
      "display_name": "Python 3",
      "name": "python3"
    },
    "language_info": {
      "name": "python"
    }
  },
  "nbformat": 4,
  "nbformat_minor": 0
}
