{
 "cells": [
  {
   "cell_type": "markdown",
   "metadata": {},
   "source": [
    "### 1. Utilizando listas faça um programa que faça 5 perguntas para uma pessoa sobre um crime. \n",
    "As perguntas são:\"\"Telefonou para a vítima?\"\"\"\"Esteve no local do crime?\"\"\"\"Mora perto da vítima?\"\"\"\"Devia para a vítima?\"\"\"\"Já trabalhou com a vítima?\"\"\n",
    "\n",
    "O programa deve no final emitir uma classificação sobre a participação da pessoa no crime\n",
    "Se a pessoa responder positivamente a 2 questões ela deve ser classificada como \"\"Suspeita\"\",entre 3 e 4 como \"\"Cúmplice\"\" e 5 como \"\"Assassino\"\".Caso contrário,ele será classificado como \"\"Inocente\"\"."
   ]
  },
  {
   "cell_type": "code",
   "execution_count": 6,
   "metadata": {},
   "outputs": [
    {
     "name": "stdout",
     "output_type": "stream",
     "text": [
      "Iremos começar o interrogatório\n",
      "\n",
      "\n",
      "Classificação: Suspeito\n"
     ]
    }
   ],
   "source": [
    "perguntas = [\n",
    "    \"Telefonou para a vítima?\",\n",
    "    \"Esteve no local do crime?\",\n",
    "    \"Mora perto da vítima?\",\n",
    "    \"Devia para a vítima?\",\n",
    "    \"Já trabalhou com a vítima?\"\n",
    "]\n",
    "\n",
    "respostas = []\n",
    "print(\"Iremos começar o interrogatório\\n\")\n",
    "for pergunta in perguntas:\n",
    "    while True:\n",
    "        resposta = input(pergunta + \" (S/N): \").strip().lower()\n",
    "        if resposta in [\"s\", \"n\"]:\n",
    "            respostas.append(resposta)\n",
    "            break\n",
    "        else:\n",
    "            print(\"Por favor, responda com 'S' ou 'N'.\")\n",
    "\n",
    "contador_sim = respostas.count(\"s\")\n",
    "\n",
    "if contador_sim == 5:\n",
    "    classificacao = \"Assassino\"\n",
    "elif 3 <= contador_sim <= 4:\n",
    "    classificacao = \"Cúmplice\"\n",
    "elif contador_sim == 2:\n",
    "    classificacao = \"Suspeito\"\n",
    "else:\n",
    "    classificacao = \"Inocente\"\n",
    "\n",
    "print(\"\\nClassificação:\", classificacao)"
   ]
  },
  {
   "cell_type": "markdown",
   "metadata": {},
   "source": [
    "### 2. Programa para calcular a média de 5 alunos e imprimir o número de alunos com média maior ou igual a 7.0"
   ]
  },
  {
   "cell_type": "code",
   "execution_count": 7,
   "metadata": {},
   "outputs": [
    {
     "name": "stdout",
     "output_type": "stream",
     "text": [
      "Aluno 1:\n",
      "Aluno 2:\n",
      "Aluno 3:\n",
      "Aluno 4:\n",
      "Aluno 5:\n",
      "\n",
      "Número de alunos com média maior ou igual a 7.0: 4\n"
     ]
    }
   ],
   "source": [
    "medias = []\n",
    "\n",
    "for i in range(5):\n",
    "    print(f\"Aluno {i + 1}:\")\n",
    "    notas = []\n",
    "    for j in range(4):\n",
    "        nota = float(input(f\"Digite a nota {j + 1}: \"))\n",
    "        notas.append(nota)\n",
    "    media = sum(notas) / len(notas)\n",
    "    medias.append(media)\n",
    "\n",
    "alunos_acima_7 = sum(1 for media in medias if media >= 7.0)\n",
    "\n",
    "print(f\"\\nNúmero de alunos com média maior ou igual a 7.0: {alunos_acima_7}\")"
   ]
  },
  {
   "cell_type": "markdown",
   "metadata": {},
   "source": [
    "### 3. Programa para criar um dicionário representando um carrinho de compras e calcular o total"
   ]
  },
  {
   "cell_type": "code",
   "execution_count": 8,
   "metadata": {},
   "outputs": [
    {
     "name": "stdout",
     "output_type": "stream",
     "text": [
      "Lista de produtos disponíveis:\n",
      "Arroz: R$7.00\n",
      "Feijao: R$8.00\n",
      "Macarrao: R$5.00\n",
      "Azeite: R$30.00\n",
      "Acucar: R$3.00\n",
      "\n",
      "Total do carrinho de compras: R$27.00\n"
     ]
    }
   ],
   "source": [
    "precos = {\n",
    "    \"arroz\": 7.0,\n",
    "    \"feijao\": 8.0,\n",
    "    \"macarrao\": 5.0,\n",
    "    \"azeite\": 30.0,\n",
    "    \"acucar\": 3.0\n",
    "}\n",
    "\n",
    "print(\"Lista de produtos disponíveis:\")\n",
    "for produto, preco in precos.items():\n",
    "    print(f\"{produto.capitalize()}: R${preco:.2f}\")\n",
    "\n",
    "carrinho = {}\n",
    "\n",
    "while True:\n",
    "    produto = input(\"\\nDigite o nome do produto (ou 'sair' para finalizar): \").strip().lower()\n",
    "    if produto == 'sair':\n",
    "        break\n",
    "    if produto not in precos:\n",
    "        print(f\"Produto '{produto}' não encontrado na lista. Tente novamente.\")\n",
    "        continue\n",
    "    quantidade = int(input(f\"Digite a quantidade de {produto}: \"))\n",
    "    if produto in carrinho:\n",
    "        carrinho[produto] += quantidade\n",
    "    else:\n",
    "        carrinho[produto] = quantidade\n",
    "\n",
    "total = 0.0\n",
    "for produto, quantidade in carrinho.items():\n",
    "    total += quantidade * precos[produto]\n",
    "\n",
    "print(f\"\\nTotal do carrinho de compras: R${total:.2f}\")"
   ]
  },
  {
   "cell_type": "markdown",
   "metadata": {},
   "source": [
    "### 4.  Programa para criar um dicionário de contatos e permitir a busca por nome"
   ]
  },
  {
   "cell_type": "code",
   "execution_count": 9,
   "metadata": {},
   "outputs": [
    {
     "name": "stdout",
     "output_type": "stream",
     "text": [
      "Telefone de hugo: 39992132\n"
     ]
    }
   ],
   "source": [
    "contatos = {}\n",
    "\n",
    "# adicionar contatos\n",
    "while True:\n",
    "    nome = input(\"Digite o nome do contato (ou 'sair' para finalizar): \").strip().lower()\n",
    "    if nome == 'sair':\n",
    "        break\n",
    "    telefone = input(f\"Digite o telefone de {nome}: \")\n",
    "    contatos[nome] = telefone\n",
    "\n",
    "\n",
    "nome_contato = input(\"\\nDigite o nome do contato que deseja procurar: \").strip().lower()\n",
    "telefone = contatos.get(nome_contato, \"Contato não encontrado.\")\n",
    "print(f\"Telefone de {nome_contato}: {telefone}\")"
   ]
  },
  {
   "cell_type": "markdown",
   "metadata": {},
   "source": [
    "### 5. Programa para criar duas tuplas e concatená-las"
   ]
  },
  {
   "cell_type": "code",
   "execution_count": 10,
   "metadata": {},
   "outputs": [
    {
     "name": "stdout",
     "output_type": "stream",
     "text": [
      "tupla concatenada: (1, 2, 3, 4, 5, 6)\n"
     ]
    }
   ],
   "source": [
    "tupla1 = (1, 2, 3)\n",
    "tupla2 = (4, 5, 6)\n",
    "\n",
    "tupla_concatenada = tupla1 + tupla2\n",
    "\n",
    "print(f\"tupla concatenada: {tupla_concatenada}\")"
   ]
  },
  {
   "cell_type": "markdown",
   "metadata": {},
   "source": [
    "### 6. Programa para mostrar o nome do usuário de trás para frente em letras maiúsculas"
   ]
  },
  {
   "cell_type": "code",
   "execution_count": 11,
   "metadata": {},
   "outputs": [
    {
     "name": "stdout",
     "output_type": "stream",
     "text": [
      "Nome invertido: SOLRAC\n"
     ]
    }
   ],
   "source": [
    "nome = input(\"Digite o seu nome: \").strip()\n",
    "\n",
    "nome_invertido = nome[::-1].upper()\n",
    "\n",
    "print(f\"Nome invertido: {nome_invertido}\")"
   ]
  }
 ],
 "metadata": {
  "kernelspec": {
   "display_name": "Python 3",
   "language": "python",
   "name": "python3"
  },
  "language_info": {
   "codemirror_mode": {
    "name": "ipython",
    "version": 3
   },
   "file_extension": ".py",
   "mimetype": "text/x-python",
   "name": "python",
   "nbconvert_exporter": "python",
   "pygments_lexer": "ipython3",
   "version": "3.12.4"
  }
 },
 "nbformat": 4,
 "nbformat_minor": 2
}
