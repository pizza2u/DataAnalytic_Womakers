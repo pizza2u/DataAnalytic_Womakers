{
 "cells": [
  {
   "cell_type": "markdown",
   "metadata": {},
   "source": [
    "### 1. Faça um Programa que peça dois números e imprima o maior deles."
   ]
  },
  {
   "cell_type": "code",
   "execution_count": 1,
   "metadata": {},
   "outputs": [
    {
     "name": "stdout",
     "output_type": "stream",
     "text": [
      "O maior número é: 10.0\n"
     ]
    }
   ],
   "source": [
    "num1 = float(input(\"Digite o primeiro número: \"))\n",
    "num2 = float(input(\"Digite o segundo número: \"))\n",
    "\n",
    "if num1 > num2:\n",
    "   print(\"O maior número é:\", num1)\n",
    "elif num2 > num1:\n",
    "    print(\"O maior número é:\", num2)\n",
    "else:\n",
    "    print(\"Os números são iguais.\")"
   ]
  },
  {
   "cell_type": "markdown",
   "metadata": {},
   "source": [
    "### 2. Faça um Programa que pergunte em que turno você estuda. Peça para digitar M - Matutino ou V - Vespertino ou N - Noturno. "
   ]
  },
  {
   "cell_type": "code",
   "execution_count": 2,
   "metadata": {},
   "outputs": [
    {
     "name": "stdout",
     "output_type": "stream",
     "text": [
      "Bom Dia!\n"
     ]
    }
   ],
   "source": [
    "turno = input(\"Em que turno você estuda? (M-matutino, V-vespertino, N-noturno): \").upper()\n",
    "    \n",
    "if turno == \"M\":\n",
    "    print(\"Bom Dia!\")\n",
    "elif turno == \"V\":\n",
    "    print(\"Boa Tarde!\")\n",
    "elif turno == \"N\":\n",
    "    print(\"Boa Noite!\")\n",
    "else:\n",
    "    print(\"Valor Inválido!\")"
   ]
  },
  {
   "cell_type": "markdown",
   "metadata": {},
   "source": [
    "### 3. Faça um programa que peça uma nota, entre zero e dez. Mostre uma mensagem caso o valor seja inválido e continue pedindo até que o usuário informe um valor válido."
   ]
  },
  {
   "cell_type": "code",
   "execution_count": 3,
   "metadata": {},
   "outputs": [
    {
     "name": "stdout",
     "output_type": "stream",
     "text": [
      "Nota válida: 2.0\n"
     ]
    }
   ],
   "source": [
    "while True:\n",
    "    nota = float(input(\"Digite uma nota entre zero e dez: \"))\n",
    "    if 0 <= nota <= 10:\n",
    "        print(\"Nota válida:\", nota)\n",
    "        break\n",
    "    else:\n",
    "        print(\"Valor inválido, tente novamente.\")"
   ]
  },
  {
   "cell_type": "markdown",
   "metadata": {},
   "source": [
    "### 4. Implemente um programa que classifique um aluno com base em sua pontuação em um exame. O programa deverá solicitar uma nota de 0 a 10. Se a pontuação for maior ou igual a 7, o aluno é aprovado; caso contrário, é reprovado."
   ]
  },
  {
   "cell_type": "code",
   "execution_count": 4,
   "metadata": {},
   "outputs": [
    {
     "name": "stdout",
     "output_type": "stream",
     "text": [
      "Aluno reprovado.\n"
     ]
    }
   ],
   "source": [
    "nota = float(input(\"Digite a nota do exame (0 a 10): \"))\n",
    "    \n",
    "if 0 <= nota <= 10:\n",
    "    if nota >= 7:\n",
    "        print(\"Aluno aprovado.\")\n",
    "    else:\n",
    "        print(\"Aluno reprovado.\")\n",
    "else:\n",
    "    print(\"Nota inválida.\")"
   ]
  },
  {
   "cell_type": "markdown",
   "metadata": {},
   "source": [
    "### 5. Desenvolva um programa que solicite ao usuário os comprimentos dos três lados de um triângulo e classifique-o como equilátero, isósceles ou escaleno. Equilátero: todos os lados com o mesmo valor. Isósceles: dois lados com o mesmo valor. Escaleno: todos os lados com medidas distintas."
   ]
  },
  {
   "cell_type": "code",
   "execution_count": 1,
   "metadata": {},
   "outputs": [
    {
     "name": "stdout",
     "output_type": "stream",
     "text": [
      "Triângulo Escaleno: todos os lados diferentes.\n"
     ]
    }
   ],
   "source": [
    "lado1 = float(input(\"Digite o comprimento do primeiro lado do triângulo: \"))\n",
    "lado2 = float(input(\"Digite o comprimento do segundo lado do triângulo: \"))\n",
    "lado3 = float(input(\"Digite o comprimento do terceiro lado do triângulo: \"))\n",
    "    \n",
    "if lado1 == lado2 == lado3:\n",
    "    print(\"Triângulo Equilátero: todos os lados iguais.\")\n",
    "elif lado1 == lado2 or lado1 == lado3 or lado2 == lado3:\n",
    "    print(\"Triângulo Isósceles: dois lados iguais.\")\n",
    "else:\n",
    "    print(\"Triângulo Escaleno: todos os lados diferentes.\")"
   ]
  },
  {
   "cell_type": "markdown",
   "metadata": {},
   "source": [
    "### 6. Crie um programa que solicite ao usuário um login e uma senha. O programa deve permitir o acesso apenas se o usuário for \"admin\" e a senha for \"admin123\", caso contrário, imprima uma mensagem de erro."
   ]
  },
  {
   "cell_type": "code",
   "execution_count": 2,
   "metadata": {},
   "outputs": [
    {
     "name": "stdout",
     "output_type": "stream",
     "text": [
      "Acesso permitido.\n"
     ]
    }
   ],
   "source": [
    "login = input(\"Digite o login: \")\n",
    "senha = input(\"Digite a senha: \")\n",
    "    \n",
    "if login == \"admin\" and senha == \"admin123\":\n",
    "    print(\"Acesso permitido.\")\n",
    "else:\n",
    "    print(\"Login ou senha incorretos.\")"
   ]
  },
  {
   "cell_type": "markdown",
   "metadata": {},
   "source": [
    "### 7. Desenvolver um programa que solicite a idade do usuário e identifique se ele é uma criança, um adolescente, adulto ou idoso."
   ]
  },
  {
   "cell_type": "code",
   "execution_count": 3,
   "metadata": {},
   "outputs": [
    {
     "name": "stdout",
     "output_type": "stream",
     "text": [
      "Você é um adolescente.\n"
     ]
    }
   ],
   "source": [
    "idade = int(input(\"Digite a sua idade: \"))\n",
    "    \n",
    "if idade < 12:\n",
    "    print(\"Você é uma criança.\")\n",
    "elif 12 <= idade < 18:\n",
    "    print(\"Você é um adolescente.\")\n",
    "elif 18 <= idade < 60:\n",
    "    print(\"Você é um adulto.\")\n",
    "else:\n",
    "    print(\"Você é um idoso.\")"
   ]
  },
  {
   "cell_type": "markdown",
   "metadata": {},
   "source": [
    "### 8. Criar um programa em Python que solicite três números ao usuário, utilize estruturas condicionais para determinar o maior entre eles e apresente o resultado."
   ]
  },
  {
   "cell_type": "code",
   "execution_count": 4,
   "metadata": {},
   "outputs": [
    {
     "name": "stdout",
     "output_type": "stream",
     "text": [
      "O maior número é: 3.0\n"
     ]
    }
   ],
   "source": [
    "num1 = float(input(\"Digite o primeiro número: \"))\n",
    "num2 = float(input(\"Digite o segundo número: \"))\n",
    "num3 = float(input(\"Digite o terceiro número: \"))\n",
    "    \n",
    "if num1 >= num2 and num1 >= num3:\n",
    "    print(\"O maior número é:\", num1)\n",
    "elif num2 >= num1 and num2 >= num3:\n",
    "    print(\"O maior número é:\", num2)\n",
    "else:\n",
    "    print(\"O maior número é:\", num3)"
   ]
  },
  {
   "cell_type": "markdown",
   "metadata": {},
   "source": [
    "### 9. O programa deve calcular e apresentar a quantidade de números pares e ímpares inseridos. O processo de leitura deve ser encerrado quando o usuário informar o valor zero. Certifique-se de incluir validações para garantir que apenas números positivos sejam considerados na contagem e cálculos."
   ]
  },
  {
   "cell_type": "code",
   "execution_count": 5,
   "metadata": {},
   "outputs": [
    {
     "name": "stdout",
     "output_type": "stream",
     "text": [
      "Quantidade de números pares: 2\n",
      "Quantidade de números ímpares: 2\n"
     ]
    }
   ],
   "source": [
    "pares = 0\n",
    "impares = 0\n",
    "    \n",
    "while True:\n",
    "    numero = int(input(\"Digite um número (0 para sair): \"))\n",
    "    if numero == 0:\n",
    "        break\n",
    "    elif numero > 0:\n",
    "        if numero % 2 == 0:\n",
    "            pares += 1\n",
    "        else:\n",
    "            impares += 1\n",
    "    \n",
    "print(\"Quantidade de números pares:\", pares)\n",
    "print(\"Quantidade de números ímpares:\", impares)\n"
   ]
  },
  {
   "cell_type": "markdown",
   "metadata": {},
   "source": [
    "### 10. Faça um programa que lê três números inteiros e os mostra em ordem crescente."
   ]
  },
  {
   "cell_type": "code",
   "execution_count": 7,
   "metadata": {},
   "outputs": [
    {
     "name": "stdout",
     "output_type": "stream",
     "text": [
      "Números em ordem crescente: [2, 10, 11]\n"
     ]
    }
   ],
   "source": [
    "num1 = int(input(\"Digite o primeiro número: \"))\n",
    "num2 = int(input(\"Digite o segundo número: \"))\n",
    "num3 = int(input(\"Digite o terceiro número: \"))\n",
    "    \n",
    "numeros = [num1, num2, num3]\n",
    "numeros.sort()\n",
    "    \n",
    "print(\"Números em ordem crescente:\", numeros)"
   ]
  },
  {
   "cell_type": "markdown",
   "metadata": {},
   "source": [
    "### 11. Escreva um programa que calcule o salário líquido. Lembrando de declarar o salário bruto e o percentual de desconto do Imposto de Renda. Renda até R$1.903,98: isento de imposto de renda; Renda entre R$1.903,99 e R$2.826,65: alíquota de 7,5%; Renda entre R$2.826,66 e R$3.751,05: alíquota de 15%; Renda entre R$3.751,06 e R$4.664,68: alíquota de 22,5%; Renda acima de R$4.664,68: alíquota máxima de 27,5%."
   ]
  },
  {
   "cell_type": "code",
   "execution_count": 8,
   "metadata": {},
   "outputs": [
    {
     "name": "stdout",
     "output_type": "stream",
     "text": [
      "Salário bruto: R$ 2300.00\n",
      "Alíquota: 7.5%\n",
      "Desconto: R$ 172.50\n",
      "Salário líquido: R$ 2127.50\n"
     ]
    }
   ],
   "source": [
    "salario_bruto = float(input(\"Digite o salário bruto: \"))\n",
    "    \n",
    "if salario_bruto <= 1903.98:\n",
    "    aliquota = 0\n",
    "elif salario_bruto <= 2826.65:\n",
    "    aliquota = 7.5\n",
    "elif salario_bruto <= 3751.05:\n",
    "    aliquota = 15\n",
    "elif salario_bruto <= 4664.68:\n",
    "    aliquota = 22.5\n",
    "else:\n",
    "    aliquota = 27.5\n",
    "    \n",
    "desconto = salario_bruto * (aliquota / 100)\n",
    "salario_liquido = salario_bruto - desconto\n",
    "    \n",
    "print(f\"Salário bruto: R$ {salario_bruto:.2f}\")\n",
    "print(f\"Alíquota: {aliquota}%\")\n",
    "print(f\"Desconto: R$ {desconto:.2f}\")\n",
    "print(f\"Salário líquido: R$ {salario_liquido:.2f}\")"
   ]
  }
 ],
 "metadata": {
  "kernelspec": {
   "display_name": "Python 3",
   "language": "python",
   "name": "python3"
  },
  "language_info": {
   "codemirror_mode": {
    "name": "ipython",
    "version": 3
   },
   "file_extension": ".py",
   "mimetype": "text/x-python",
   "name": "python",
   "nbconvert_exporter": "python",
   "pygments_lexer": "ipython3",
   "version": "3.12.4"
  }
 },
 "nbformat": 4,
 "nbformat_minor": 2
}
