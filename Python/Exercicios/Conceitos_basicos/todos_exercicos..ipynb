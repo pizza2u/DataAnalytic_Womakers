{
 "cells": [
  {
   "cell_type": "markdown",
   "metadata": {},
   "source": [
    "### 1. Faça um Programa que peça dois números,realize as principais operações: soma,subtração,multiplicação,divisão"
   ]
  },
  {
   "cell_type": "code",
   "execution_count": 4,
   "metadata": {},
   "outputs": [
    {
     "name": "stdout",
     "output_type": "stream",
     "text": [
      "Primeiro número: 2\n",
      "Segundo número:10\n",
      "Soma: 12.0\n",
      "Subtração: -8.0\n",
      "Multiplicação: 20.0\n",
      "Divisão: 0.2\n"
     ]
    },
    {
     "data": {
      "text/plain": [
       "'\\ndef operacoes_basicas():\\n    num1 = float(input(\"Digite o primeiro número: \"))\\n    num2 = float(input(\"Digite o segundo número: \"))\\n    \\n    soma = num1 + num2\\n    subtracao = num1 - num2\\n    multiplicacao = num1 * num2\\n    if num2 != 0:\\n        divisao = num1 / num2\\n    else:\\n        divisao = \"Divisão por zero não é permitida\"\\n\\n    print(f\"Soma: {soma}\")\\n    print(f\"Subtração: {subtracao}\")\\n    print(f\"Multiplicação: {multiplicacao}\")\\n    print(f\"Divisão: {divisao}\")\\n\\noperacoes_basicas()\\n'"
      ]
     },
     "execution_count": 4,
     "metadata": {},
     "output_type": "execute_result"
    }
   ],
   "source": [
    "num1 = float(input(\"Digite o primeiro número: \"))\n",
    "num2 = float(input(\"Digite o segundo número: \"))\n",
    "\n",
    "print(f\"Primeiro número: {num1:.0f}\")\n",
    "print(f\"Segundo número:{num2:.0f}\")\n",
    "    \n",
    "soma = num1 + num2\n",
    "subtracao = num1 - num2\n",
    "multiplicacao = num1 * num2\n",
    "if num2 != 0:\n",
    "   divisao = num1 / num2\n",
    "else:\n",
    "   divisao = \"Divisão por zero não é permitida\"\n",
    "\n",
    "print(f\"Soma: {soma}\")\n",
    "print(f\"Subtração: {subtracao}\")\n",
    "print(f\"Multiplicação: {multiplicacao}\")\n",
    "print(f\"Divisão: {divisao}\")\n",
    "\n",
    "\n",
    "# Ou com def \n",
    "'''\n",
    "def operacoes_basicas():\n",
    "    num1 = float(input(\"Digite o primeiro número: \"))\n",
    "    num2 = float(input(\"Digite o segundo número: \"))\n",
    "    \n",
    "    soma = num1 + num2\n",
    "    subtracao = num1 - num2\n",
    "    multiplicacao = num1 * num2\n",
    "    if num2 != 0:\n",
    "        divisao = num1 / num2\n",
    "    else:\n",
    "        divisao = \"Divisão por zero não é permitida\"\n",
    "\n",
    "    print(f\"Soma: {soma}\")\n",
    "    print(f\"Subtração: {subtracao}\")\n",
    "    print(f\"Multiplicação: {multiplicacao}\")\n",
    "    print(f\"Divisão: {divisao}\")\n",
    "\n",
    "operacoes_basicas()\n",
    "'''"
   ]
  },
  {
   "cell_type": "markdown",
   "metadata": {},
   "source": [
    "### 2. Peça ao usuário para informar o ano de nascimento. Em seguida, calcule e imprima a idade atual."
   ]
  },
  {
   "cell_type": "code",
   "execution_count": 1,
   "metadata": {},
   "outputs": [
    {
     "name": "stdout",
     "output_type": "stream",
     "text": [
      "Você tem 23 anos.\n"
     ]
    }
   ],
   "source": [
    "ano_nascimento = int(input(\"Informe o ano de nascimento: \"))\n",
    "ano_atual = int(input(\"Informe o ano atual: \"))\n",
    "idade = ano_atual - ano_nascimento\n",
    "    \n",
    "print(f\"Você tem {idade} anos.\")"
   ]
  },
  {
   "cell_type": "markdown",
   "metadata": {},
   "source": [
    "### 3. Faça um Programa que peça a quantidade de quilômetros, transforme em metros, centímetros e milímetros."
   ]
  },
  {
   "cell_type": "code",
   "execution_count": 6,
   "metadata": {},
   "outputs": [
    {
     "name": "stdout",
     "output_type": "stream",
     "text": [
      "2 km é igual a 2000 metros, 200000 centímetros e 2000000 milímetros.\n"
     ]
    }
   ],
   "source": [
    "km = float(input(\"Informe a quantidade de quilômetros: \"))\n",
    "    \n",
    "metros = km * 1000\n",
    "centimetros = km * 100000\n",
    "milimetros = km * 1000000\n",
    "print(\"%.0f km é igual a %.0f metros, %.0f centímetros e %.0f milímetros.\" % (km, metros, centimetros, milimetros))\n",
    "\n",
    "# Outras formas de printas\n",
    "#print(f\"{km} km é igual a {metros} metros, {centimetros} centímetros e {milimetros} milímetros.\")\n",
    "#print(\"{} km é igual a {} metros, {} centímetros e {} milímetros.\".format(km, metros, centimetros, milimetros))\n",
    "# print(str(km) + \" km é igual a \" + str(metros) + \" metros, \" + str(centimetros) + \" centímetros e \" + str(milimetros) + \" milímetros.\")"
   ]
  },
  {
   "cell_type": "markdown",
   "metadata": {},
   "source": [
    "### 4. Receba do usuário a quantidade de litros de combustível consumidos e a distância percorrida. Calcule e imprima o consumo médio em km/l."
   ]
  },
  {
   "cell_type": "code",
   "execution_count": 7,
   "metadata": {},
   "outputs": [
    {
     "name": "stdout",
     "output_type": "stream",
     "text": [
      "O consumo médio é de 0.20 km/l.\n"
     ]
    }
   ],
   "source": [
    "litros = float(input(\"Informe a quantidade de litros de combustível consumidos: \"))\n",
    "distancia = float(input(\"Informe a distância percorrida em quilômetros: \"))\n",
    "    \n",
    "consumo_medio = distancia / litros\n",
    "    \n",
    "print(f\"O consumo médio é de {consumo_medio:.2f} km/l.\")"
   ]
  },
  {
   "cell_type": "markdown",
   "metadata": {},
   "source": [
    "### 5. Escreva um programa que calcule o tempo de uma viagem. Faça um comparativo do mesmo percurso de avião, carro e ônibus. Levando em consideração: avião = 600 km/h, carro = 100 km/h, ônibus = 80 km/h."
   ]
  },
  {
   "cell_type": "code",
   "execution_count": 9,
   "metadata": {},
   "outputs": [
    {
     "name": "stdout",
     "output_type": "stream",
     "text": [
      "distância: 30\n",
      "\n",
      "Tempo de viagem de avião: %.2f horas. 0.05\n",
      "Tempo de viagem de carro: %.2f horas. 0.3\n",
      "Tempo de viagem de ônibus: %.2f horas. 0.375\n"
     ]
    }
   ],
   "source": [
    "distancia = float(input(\"Informe a distância do percurso em quilômetros: \"))\n",
    "print(f\"distância: {distancia:.0f}\\n\")  \n",
    "\n",
    "tempo_aviao = distancia / 600\n",
    "tempo_carro = distancia / 100\n",
    "tempo_onibus = distancia / 80\n",
    "    \n",
    "print(\"Tempo de viagem de avião: %.2f horas.\",tempo_aviao)\n",
    "print(\"Tempo de viagem de carro: %.2f horas.\",tempo_carro)\n",
    "print(\"Tempo de viagem de ônibus: %.2f horas.\",tempo_onibus)"
   ]
  },
  {
   "cell_type": "markdown",
   "metadata": {},
   "source": [
    "### 6. Solicite ao usuário o peso em kg e a altura em metros. Calcule e imprima o Índice de Massa Corporal (IMC) usando a fórmula: IMC = peso / (altura x altura)."
   ]
  },
  {
   "cell_type": "code",
   "execution_count": 10,
   "metadata": {},
   "outputs": [
    {
     "name": "stdout",
     "output_type": "stream",
     "text": [
      "O seu IMC é 19.56.\n"
     ]
    }
   ],
   "source": [
    "peso = float(input(\"Informe o seu peso em kg: \"))\n",
    "altura = float(input(\"Informe a sua altura em metros: \"))\n",
    "    \n",
    "imc = peso / (altura * altura)\n",
    "    \n",
    "print(f\"O seu IMC é {imc:.2f}.\")"
   ]
  },
  {
   "cell_type": "markdown",
   "metadata": {},
   "source": [
    "### 7. Faça um Programa que pergunte quanto você ganha por hora e o número de horas trabalhadas no mês. Calcule e mostre o total do seu salário no referido mês."
   ]
  },
  {
   "cell_type": "code",
   "execution_count": 11,
   "metadata": {},
   "outputs": [
    {
     "name": "stdout",
     "output_type": "stream",
     "text": [
      "O seu salário no referido mês é R$ 3600.00.\n"
     ]
    }
   ],
   "source": [
    "ganho_por_hora = float(input(\"Informe quanto você ganha por hora: \"))\n",
    "horas_trabalhadas = float(input(\"Informe o número de horas trabalhadas no mês: \"))\n",
    "    \n",
    "salario_mensal = ganho_por_hora * horas_trabalhadas\n",
    "    \n",
    "print(f\"O seu salário no referido mês é R$ {salario_mensal:.2f}.\")"
   ]
  },
  {
   "cell_type": "markdown",
   "metadata": {},
   "source": [
    "### 8. Solicite ao usuário o número de horas de exercício físico por semana. Calcule o total de calorias queimadas em um mês, considerando uma média de 5 calorias por minuto de exercício."
   ]
  },
  {
   "cell_type": "code",
   "execution_count": 12,
   "metadata": {},
   "outputs": [
    {
     "name": "stdout",
     "output_type": "stream",
     "text": [
      "O total de calorias queimadas em um mês é 6000.0 calorias.\n"
     ]
    }
   ],
   "source": [
    "horas_exercicio = float(input(\"Informe o número de horas de exercício físico por semana: \"))\n",
    "minutos_exercicio_por_mes = horas_exercicio * 60 * 4\n",
    "calorias_queimadas = minutos_exercicio_por_mes * 5\n",
    "    \n",
    "print(f\"O total de calorias queimadas em um mês é {calorias_queimadas} calorias.\")"
   ]
  },
  {
   "cell_type": "markdown",
   "metadata": {},
   "source": [
    "### 9. Faça um Programa que utilize 4 variáveis como preferir e no final print uma mensagem amigável utilizando as variáveis criadas. Exemplos de variáveis: nome, idade, lugar, profissão."
   ]
  },
  {
   "cell_type": "code",
   "execution_count": 13,
   "metadata": {},
   "outputs": [
    {
     "name": "stdout",
     "output_type": "stream",
     "text": [
      "Olá Sara, prazer te conhecer. Você tem 22 anos, mora em João Pessoa e trabalha como Estudante.\n"
     ]
    }
   ],
   "source": [
    "nome = input(\"Qual é o seu nome? \")\n",
    "idade = int(input(\"Quantos anos você tem? \"))\n",
    "lugar = input(\"Onde você mora? \")\n",
    "profissao = input(\"Qual é a sua profissão? \")\n",
    "    \n",
    "print(f\"Olá {nome}, prazer te conhecer. Você tem {idade} anos, mora em {lugar} e trabalha como {profissao}.\")"
   ]
  }
 ],
 "metadata": {
  "kernelspec": {
   "display_name": "Python 3",
   "language": "python",
   "name": "python3"
  },
  "language_info": {
   "codemirror_mode": {
    "name": "ipython",
    "version": 3
   },
   "file_extension": ".py",
   "mimetype": "text/x-python",
   "name": "python",
   "nbconvert_exporter": "python",
   "pygments_lexer": "ipython3",
   "version": "3.12.4"
  }
 },
 "nbformat": 4,
 "nbformat_minor": 2
}
