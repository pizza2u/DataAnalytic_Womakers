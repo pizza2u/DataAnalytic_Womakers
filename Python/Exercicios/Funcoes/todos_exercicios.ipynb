{
 "cells": [
  {
   "cell_type": "markdown",
   "metadata": {},
   "source": [
    "### 1. Soma de Três Números:\n",
    "Escreva um programa que inclua uma função que requer três argumentos e forneça a soma desses três argumentos.\n"
   ]
  },
  {
   "cell_type": "code",
   "execution_count": 1,
   "metadata": {},
   "outputs": [
    {
     "name": "stdout",
     "output_type": "stream",
     "text": [
      "A soma dos três números é: 54\n"
     ]
    }
   ],
   "source": [
    "def soma(a, b, c):\n",
    "    return a + b + c\n",
    "\n",
    "numeros = []\n",
    "for i in range(3):\n",
    "    valor = int(input(f\"Digite o {i+1}º número: \"))\n",
    "    numeros.append(valor)\n",
    "\n",
    "'''res = sum(numeros)\n",
    "print(res)'''\n",
    "resultado = soma(numeros[0], numeros[1], numeros[2])\n",
    "print(f\"A soma dos três números é: {resultado}\")"
   ]
  },
  {
   "cell_type": "markdown",
   "metadata": {},
   "source": [
    "### 2. Reverso de Número:\n",
    "Crie uma função que retorne o reverso de um número inteiro informado. Por exemplo, para o número 127, o reverso seria 721.\n"
   ]
  },
  {
   "cell_type": "code",
   "execution_count": 3,
   "metadata": {},
   "outputs": [
    {
     "name": "stdout",
     "output_type": "stream",
     "text": [
      "43331\n"
     ]
    }
   ],
   "source": [
    "def reverse(numero):\n",
    "    return int(str(numero)[::-1])\n",
    "\n",
    "numero = int(input(\"Digite um número inteiro: \"))\n",
    "\n",
    "result=reverse(numero)\n",
    "print(result)"
   ]
  },
  {
   "cell_type": "markdown",
   "metadata": {},
   "source": [
    "### Conversor de Temperatura:\n",
    "Desenvolva um script que pergunte ao usuário se ele deseja converter uma\n",
    "temperatura de graus Celsius para Fahrenheit ou vice-versa. Para cada opção, crie uma função correspondente. \n",
    "Além disso, crie um menu onde o usuário possa escolher a opção desejada."
   ]
  },
  {
   "cell_type": "code",
   "execution_count": 4,
   "metadata": {},
   "outputs": [
    {
     "name": "stdout",
     "output_type": "stream",
     "text": [
      "\n",
      "Menu:\n",
      "1. Celsius para Fahrenheit\n",
      "2. Fahrenheit para Celsius\n",
      "74.0 ºF é igual a 23.33 Cº\n",
      "\n"
     ]
    }
   ],
   "source": [
    "def celsius2fahr(celsius):\n",
    "    return (celsius * 9/5) + 32\n",
    "\n",
    "def fahr2celsius(fahr):\n",
    "    return (fahr-32) * 5/9\n",
    "\n",
    "def menu():\n",
    "    print(\"\\nMenu:\")\n",
    "    print(\"1. Celsius para Fahrenheit\")\n",
    "    print(\"2. Fahrenheit para Celsius\")\n",
    "    choice = input(\"Opção: \")\n",
    "\n",
    "    if choice == '1':\n",
    "        temperatura_cel= float(input(\"Digite a temperatura em Celsius: \\n\"))\n",
    "        result = celsius2fahr(temperatura_cel)\n",
    "        print(f\"{temperatura_cel} ºC é igual a {result:.2f} ºF\\n\")\n",
    "    elif choice == '2':\n",
    "        temperatura_fah= float(input(\"Digite a temperatura em Fahrenheit: \\n\"))\n",
    "        result = fahr2celsius(temperatura_fah)\n",
    "        print(f\"{temperatura_fah} ºF é igual a {result:.2f} Cº\\n\")   \n",
    "    else:\n",
    "        print(\"Inválido\") \n",
    "\n",
    "\n",
    "menu()\n",
    " "
   ]
  },
  {
   "cell_type": "markdown",
   "metadata": {},
   "source": [
    "### Conversor de Moedas:\n",
    "Crie um programa que leia quanto dinheiro uma pessoa tem na carteira e calcule quanto ela poderia comprar de cada moeda estrangeira. Considere a tabela de conversão abaixo:\n",
    "\n",
    "Dólar Americano: R$4,91\n",
    "Peso Argentino: R$0,02\n",
    "Dólar Australiano: R$3,18\n",
    "Dólar Canadense: R$3,64\n",
    "Franco Suíço: R$0,42\n",
    "Euro: R$5,36\n",
    "Libra Esterlina: R$6,21"
   ]
  },
  {
   "cell_type": "code",
   "execution_count": 5,
   "metadata": {},
   "outputs": [
    {
     "name": "stdout",
     "output_type": "stream",
     "text": [
      "Com R$5.00 você pode comprar aproximadamente 1.02 Dólar Americano\n",
      "Com R$5.00 você pode comprar aproximadamente 250.00 Peso Argentino\n",
      "Com R$5.00 você pode comprar aproximadamente 1.57 Dólar Australiano\n",
      "Com R$5.00 você pode comprar aproximadamente 1.37 Dólar Canadense\n",
      "Com R$5.00 você pode comprar aproximadamente 11.90 Franco Suíço\n",
      "Com R$5.00 você pode comprar aproximadamente 0.93 Euro\n",
      "Com R$5.00 você pode comprar aproximadamente 0.81 Libra Esterlina\n"
     ]
    }
   ],
   "source": [
    "\n",
    "def calcular_moedas(dinheiro):\n",
    "    taxa_conversao = {\n",
    "        'Dólar Americano': 4.91,\n",
    "        'Peso Argentino': 0.02,\n",
    "        'Dólar Australiano': 3.18,\n",
    "        'Dólar Canadense': 3.64,\n",
    "        'Franco Suíço': 0.42,\n",
    "        'Euro': 5.36,\n",
    "        'Libra Esterlina': 6.21\n",
    "    }\n",
    "\n",
    "    for moeda, taxa in taxa_conversao.items():\n",
    "        valor_convertido = dinheiro / taxa\n",
    "        print(f\"Com R${dinheiro:.2f} você pode comprar aproximadamente {valor_convertido:.2f} {moeda}\")\n",
    "\n",
    "dinheiro_na_carteira = float(input(\"Digite quanto dinheiro você tem na carteira (em R$): \"))\n",
    "calcular_moedas(dinheiro_na_carteira)"
   ]
  },
  {
   "cell_type": "markdown",
   "metadata": {},
   "source": [
    "### 5. Contador de Vogais:\n",
    "Crie uma função chamada contar_vogais que receba uma string como parâmetro. \n",
    "Implemente a lógica para contar o número de vogais na string e retorne o total de vogais. Solicite ao usuário que insira uma frase e utilize a função para contar as vogais.\n"
   ]
  },
  {
   "cell_type": "code",
   "execution_count": 7,
   "metadata": {},
   "outputs": [
    {
     "name": "stdout",
     "output_type": "stream",
     "text": [
      "ola mundo\n",
      "A frase tem 4 vogais\n"
     ]
    }
   ],
   "source": [
    "def contar(frase):\n",
    "    vogais='aeiouAEIOU'\n",
    "    total_vogais = 0\n",
    "    for letra in frase:\n",
    "        if letra in vogais:\n",
    "            total_vogais += 1\n",
    "    return total_vogais\n",
    "\n",
    "frase_digitada = input(\"Digite uma frase:\\n\")\n",
    "total_vogais = contar(frase_digitada)\n",
    "print(frase_digitada)\n",
    "print(f\"A frase tem {total_vogais} vogais\")"
   ]
  },
  {
   "cell_type": "markdown",
   "metadata": {},
   "source": [
    "### 6. Jogo de Forca:\n",
    "Vamos construir um jogo de forca. O programa escolherá aleatoriamente uma palavra secreta\n",
    "de uma lista predefinida. A palavra secreta será representada por espaços em branco,\n",
    "um para cada letra da palavra. O jogador terá um número limitado de 6 tentativas. \n",
    "Em cada tentativa, o jogador pode fornecer uma letra. Se a letra estiver presente na\n",
    "palavra secreta, ela será revelada nas posições correspondentes. \n",
    "Se a letra não estiver na palavra, uma mensagem de erro será exibida. \n",
    "Após um número máximo de erros, o jogador perde. O jogo continua \n",
    "até que o jogador adivinhe a palavra ou exceda o número máximo de tentativas."
   ]
  },
  {
   "cell_type": "code",
   "execution_count": 8,
   "metadata": {},
   "outputs": [
    {
     "name": "stdout",
     "output_type": "stream",
     "text": [
      "Bem-vindo ao jogo de Forca!\n",
      "A palavra secreta tem 4 letras.\n",
      "\n",
      "Palavra secreta: ____\n",
      "Letra incorreta. Tente novamente.\n",
      "\n",
      "Palavra secreta: ____\n",
      "Letra incorreta. Tente novamente.\n",
      "\n",
      "Palavra secreta: ____\n",
      "Letra correta!\n",
      "\n",
      "Palavra secreta: k___\n",
      "Letra incorreta. Tente novamente.\n",
      "\n",
      "Palavra secreta: k___\n",
      "Letra incorreta. Tente novamente.\n",
      "\n",
      "Palavra secreta: k___\n",
      "Letra correta!\n",
      "\n",
      "Palavra secreta: kp_p\n",
      "Letra correta!\n",
      "\n",
      "Parabéns! Você acertou a palavra secreta: kpop\n"
     ]
    }
   ],
   "source": [
    "import random\n",
    "\n",
    "def escolher_palavra():\n",
    "    palavras = ['kpop', 'pop', 'rock', 'sertanejo', 'funk']\n",
    "    return random.choice(palavras)\n",
    "\n",
    "def mostrar_palavra_escondida(palavra, letras_corretas):\n",
    "    palavra_escondida = ''\n",
    "    for letra in palavra:\n",
    "        if letra in letras_corretas:\n",
    "            palavra_escondida += letra  # mostra a letra se estiver correta\n",
    "        else:\n",
    "            palavra_escondida += '_' # mostra um sublinhado se a letra não foi descobe\n",
    "    return palavra_escondida # retorna a palavra com letras reveladas e sublinhados\n",
    "\n",
    "def jogar_forca():\n",
    "    palavra_secreta = escolher_palavra() # escolhe uma palavra secreta aleatória\n",
    "    letras_corretas = []\n",
    "    max_tentativas = 6 \n",
    "    tentativas = 0 # contador\n",
    "\n",
    "    print(\"Bem-vindo ao jogo de Forca!\")\n",
    "    print(f\"A palavra secreta tem {len(palavra_secreta)} letras.\")\n",
    "\n",
    "    while tentativas < max_tentativas:\n",
    "        print(\"\\nPalavra secreta:\", mostrar_palavra_escondida(palavra_secreta, letras_corretas))\n",
    "        letra = input(\"Digite uma letra: \").lower()\n",
    "\n",
    "        if letra in letras_corretas:\n",
    "            print(\"Você já tentou esta letra. Tente outra.\")\n",
    "            continue\n",
    "\n",
    "        if letra in palavra_secreta:\n",
    "            letras_corretas.append(letra)\n",
    "            print(\"Letra correta!\")\n",
    "        else:\n",
    "            print(\"Letra incorreta. Tente novamente.\")\n",
    "            tentativas += 1 # incrementa o número de tentativas realizadas\n",
    "\n",
    "        if '_' not in mostrar_palavra_escondida(palavra_secreta, letras_corretas):\n",
    "            print(\"\\nParabéns! Você acertou a palavra secreta:\", palavra_secreta)\n",
    "            break\n",
    "\n",
    "    if tentativas >= max_tentativas:\n",
    "        print(\"\\nGame Over! Você excedeu o número máximo de tentativas.\")\n",
    "        print(\"A palavra secreta era:\", palavra_secreta)\n",
    "\n",
    "jogar_forca()"
   ]
  }
 ],
 "metadata": {
  "kernelspec": {
   "display_name": "Python 3",
   "language": "python",
   "name": "python3"
  },
  "language_info": {
   "codemirror_mode": {
    "name": "ipython",
    "version": 3
   },
   "file_extension": ".py",
   "mimetype": "text/x-python",
   "name": "python",
   "nbconvert_exporter": "python",
   "pygments_lexer": "ipython3",
   "version": "3.12.4"
  }
 },
 "nbformat": 4,
 "nbformat_minor": 2
}
