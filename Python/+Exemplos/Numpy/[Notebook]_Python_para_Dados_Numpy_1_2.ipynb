{
  "cells": [
    {
      "cell_type": "code",
      "execution_count": null,
      "metadata": {
        "id": "9ye4cNTu6ReI"
      },
      "outputs": [],
      "source": [
        "import numpy as np"
      ]
    },
    {
      "cell_type": "code",
      "execution_count": null,
      "metadata": {
        "colab": {
          "base_uri": "https://localhost:8080/"
        },
        "id": "f-BSn32D6-fA",
        "outputId": "5a1063be-42e1-489a-f493-faced317b10a"
      },
      "outputs": [
        {
          "data": {
            "text/plain": [
              "4"
            ]
          },
          "execution_count": 3,
          "metadata": {},
          "output_type": "execute_result"
        }
      ],
      "source": [
        "arr = np.array([2, 4, 6, 7, 8])\n",
        "arr[1]"
      ]
    },
    {
      "cell_type": "code",
      "execution_count": null,
      "metadata": {
        "colab": {
          "base_uri": "https://localhost:8080/"
        },
        "id": "pOwnXsoE7CnJ",
        "outputId": "989a51fd-a2c8-46c6-bfcb-376d3d01091b"
      },
      "outputs": [
        {
          "data": {
            "text/plain": [
              "2"
            ]
          },
          "execution_count": 4,
          "metadata": {},
          "output_type": "execute_result"
        }
      ],
      "source": [
        "arr[0]"
      ]
    },
    {
      "cell_type": "code",
      "execution_count": null,
      "metadata": {
        "colab": {
          "base_uri": "https://localhost:8080/"
        },
        "id": "eSWIayXH7Cpt",
        "outputId": "6c025d60-2001-4800-9fbc-52eeca7872e7"
      },
      "outputs": [
        {
          "data": {
            "text/plain": [
              "array([[16, 10,  3, 15],\n",
              "       [14, 23, 17, 27],\n",
              "       [ 6, 19,  3,  1],\n",
              "       [10,  4, 18, 19]])"
            ]
          },
          "execution_count": 5,
          "metadata": {},
          "output_type": "execute_result"
        }
      ],
      "source": [
        "cartela_bingo = np.array([[16, 10,  3, 15],\n",
        "                            [14, 23, 17, 27],\n",
        "                            [ 6, 19,  3,  1],\n",
        "                            [10,  4, 18, 19]])\n",
        "cartela_bingo"
      ]
    },
    {
      "cell_type": "markdown",
      "metadata": {
        "id": "Wsl95f4Lib7A"
      },
      "source": []
    },
    {
      "cell_type": "code",
      "execution_count": null,
      "metadata": {
        "colab": {
          "base_uri": "https://localhost:8080/"
        },
        "id": "EYHXgwWM7CsT",
        "outputId": "f5b33370-146a-4a50-b229-81d1d242b11e"
      },
      "outputs": [
        {
          "data": {
            "text/plain": [
              "array([[10],\n",
              "       [23],\n",
              "       [19],\n",
              "       [ 4]])"
            ]
          },
          "execution_count": 8,
          "metadata": {},
          "output_type": "execute_result"
        }
      ],
      "source": [
        "cartela_bingo[:, 1].reshape((4,1))"
      ]
    },
    {
      "cell_type": "code",
      "execution_count": null,
      "metadata": {
        "colab": {
          "base_uri": "https://localhost:8080/"
        },
        "id": "ui3ygaJR7Cu_",
        "outputId": "2168e8bf-0ad9-41c6-d42c-67bedf5c461d"
      },
      "outputs": [
        {
          "data": {
            "text/plain": [
              "array([16, 10,  3, 15])"
            ]
          },
          "execution_count": 9,
          "metadata": {},
          "output_type": "execute_result"
        }
      ],
      "source": [
        "cartela_bingo[0]"
      ]
    },
    {
      "cell_type": "code",
      "execution_count": null,
      "metadata": {
        "colab": {
          "base_uri": "https://localhost:8080/"
        },
        "id": "1UY_zh_O7Cxk",
        "outputId": "51802c1f-19f9-4be7-8053-cdd16c99d4a2"
      },
      "outputs": [
        {
          "data": {
            "text/plain": [
              "array([[ 3, 10, 15, 16],\n",
              "       [14, 17, 23, 27],\n",
              "       [ 1,  3,  6, 19],\n",
              "       [ 4, 10, 18, 19]])"
            ]
          },
          "execution_count": 10,
          "metadata": {},
          "output_type": "execute_result"
        }
      ],
      "source": [
        "np.sort(cartela_bingo)"
      ]
    },
    {
      "cell_type": "code",
      "execution_count": null,
      "metadata": {
        "colab": {
          "base_uri": "https://localhost:8080/"
        },
        "id": "kuUUK0a87C0B",
        "outputId": "6028e6ab-e9f8-44db-ca3b-ebe00dfe465f"
      },
      "outputs": [
        {
          "data": {
            "text/plain": [
              "array([[ 6,  4,  3,  1],\n",
              "       [10, 10,  3, 15],\n",
              "       [14, 19, 17, 19],\n",
              "       [16, 23, 18, 27]])"
            ]
          },
          "execution_count": 11,
          "metadata": {},
          "output_type": "execute_result"
        }
      ],
      "source": [
        "np.sort(cartela_bingo, axis=0)"
      ]
    },
    {
      "cell_type": "markdown",
      "metadata": {
        "id": "5Xr_92nOfJAa"
      },
      "source": [
        "## 1.1 Explorando Ecossistemas:\n",
        "Como bióloga marinha, me encontrei em uma expedição nas profundezas do Oceano Pacífico, onde estávamos estudando a biodiversidade e a saúde dos recifes de coral. O catálogo abaixo demonstra dados das espécies encontradas, considere a seguinte ordem de colunas:\n",
        "\n",
        "**ID da espécie, quantidade de representantes encontrados, profundeza, tamanho médio da espécie**\n",
        "\n",
        "\n",
        "\n",
        "*  Selecione a segunda coluna com a quantidade de espécies encontradas e adicione em um array as qtd_especies.\n",
        "*  De qtd_especies selecione apenas as primeiras 3 quantidades e print\n",
        "*  Print as 5 últimas quantidades de espécies\n",
        "*  Crie um array que contenha apenas os tamanhos das espécies e ordene por ordem crescente\n",
        "\n",
        "\n",
        "\n",
        "\n"
      ]
    },
    {
      "cell_type": "code",
      "execution_count": 3,
      "metadata": {},
      "outputs": [],
      "source": [
        "import numpy as np"
      ]
    },
    {
      "cell_type": "code",
      "execution_count": 4,
      "metadata": {
        "colab": {
          "base_uri": "https://localhost:8080/"
        },
        "id": "mKTG17i661tt",
        "outputId": "e2c15705-03e0-4389-c8ef-a864f9ac5f0c"
      },
      "outputs": [
        {
          "data": {
            "text/plain": [
              "array([[747,  89,  33,   5],\n",
              "       [623, 123,  32,  13],\n",
              "       [501,  22,  49,   2],\n",
              "       [116, 101,  42,  10],\n",
              "       [297,  56,  69,  22],\n",
              "       [613,  64,  27,   7],\n",
              "       [295,  84,  29,  14],\n",
              "       [692, 105,  72,  16],\n",
              "       [229, 103,  35,   5],\n",
              "       [374, 124,  70,   1]])"
            ]
          },
          "execution_count": 4,
          "metadata": {},
          "output_type": "execute_result"
        }
      ],
      "source": [
        "especies = np.array([[747,  89,  33,   5],\n",
        "                    [623, 123,  32,  13],\n",
        "                    [501,  22,  49,   2],\n",
        "                    [116, 101,  42,  10],\n",
        "                    [297,  56,  69,  22],\n",
        "                    [613,  64,  27,   7],\n",
        "                    [295,  84,  29,  14],\n",
        "                    [692, 105,  72,  16],\n",
        "                    [229, 103,  35,   5],\n",
        "                    [374, 124,  70,   1]])\n",
        "especies"
      ]
    },
    {
      "cell_type": "code",
      "execution_count": 5,
      "metadata": {},
      "outputs": [
        {
          "name": "stdout",
          "output_type": "stream",
          "text": [
            "Quantidade de espécies encontradas:\n",
            " [ 89 123  22 101  56  64  84 105 103 124]\n"
          ]
        }
      ],
      "source": [
        "especies = np.array([[747, 89, 33, 5], [623, 123, 32, 13], [501, 22, 49, 2],\n",
        "                     [116, 101, 42, 10], [297, 56, 69, 22], [613, 64, 27, 7],\n",
        "                     [295, 84, 29, 14], [692, 105, 72, 16], [229, 103, 35, 5],\n",
        "                     [374, 124, 70, 1]])\n",
        "\n",
        "qtd_especies = especies[:, 1]  \n",
        "print(\"Quantidade de espécies encontradas:\\n\", qtd_especies)\n"
      ]
    },
    {
      "cell_type": "code",
      "execution_count": 6,
      "metadata": {},
      "outputs": [
        {
          "name": "stdout",
          "output_type": "stream",
          "text": [
            "Primeiras 3 quantidades de espécies encontradas:\n",
            " [ 89 123  22]\n"
          ]
        }
      ],
      "source": [
        "primeiras_3_qtd = qtd_especies[:3]\n",
        "print(\"Primeiras 3 quantidades de espécies encontradas:\\n\", primeiras_3_qtd)"
      ]
    },
    {
      "cell_type": "code",
      "execution_count": 7,
      "metadata": {},
      "outputs": [
        {
          "name": "stdout",
          "output_type": "stream",
          "text": [
            "Últimas 5 quantidades de espécies encontradas:\n",
            " [ 64  84 105 103 124]\n"
          ]
        }
      ],
      "source": [
        "ultimas_5_qtd = qtd_especies[-5:]\n",
        "print(\"Últimas 5 quantidades de espécies encontradas:\\n\", ultimas_5_qtd)\n"
      ]
    },
    {
      "cell_type": "code",
      "execution_count": 8,
      "metadata": {},
      "outputs": [
        {
          "name": "stdout",
          "output_type": "stream",
          "text": [
            "Tamanhos das espécies ordenados:\n",
            " [ 1  2  5  5  7 10 13 14 16 22]\n"
          ]
        }
      ],
      "source": [
        "tamanhos = especies[:, 3]\n",
        "tamanhos_ordenados = np.sort(tamanhos)\n",
        "print(\"Tamanhos das espécies ordenados:\\n\", tamanhos_ordenados)\n"
      ]
    },
    {
      "cell_type": "markdown",
      "metadata": {
        "id": "fN0bdngrCRlr"
      },
      "source": [
        "## Filtrando Arrays"
      ]
    },
    {
      "cell_type": "code",
      "execution_count": null,
      "metadata": {
        "colab": {
          "base_uri": "https://localhost:8080/"
        },
        "id": "u72h8zD39NaE",
        "outputId": "5922c10b-59fd-4990-a006-dfd88c0efca9"
      },
      "outputs": [
        {
          "data": {
            "text/plain": [
              "array([False, False,  True, False, False])"
            ]
          },
          "execution_count": 33,
          "metadata": {},
          "output_type": "execute_result"
        }
      ],
      "source": [
        "arr1 = np.array([1, 2, 3, 4, 5])\n",
        "mask = arr1 % 3 == 0\n",
        "mask"
      ]
    },
    {
      "cell_type": "code",
      "execution_count": null,
      "metadata": {
        "colab": {
          "base_uri": "https://localhost:8080/"
        },
        "id": "TaLHOLi_CMn5",
        "outputId": "dc24f639-8346-4d5d-93d7-15a68fe9927e"
      },
      "outputs": [
        {
          "data": {
            "text/plain": [
              "array([[ 1, 22],\n",
              "       [ 2, 21],\n",
              "       [ 3, 27],\n",
              "       [ 4, 26]])"
            ]
          },
          "execution_count": 35,
          "metadata": {},
          "output_type": "execute_result"
        }
      ],
      "source": [
        "pessoas_id_idade = np.array([[1, 22], [2, 21], [3, 27], [4, 26]])\n",
        "pessoas_id_idade"
      ]
    },
    {
      "cell_type": "code",
      "execution_count": null,
      "metadata": {
        "colab": {
          "base_uri": "https://localhost:8080/"
        },
        "id": "2TID3wQ1DHoD",
        "outputId": "27197585-5459-46a9-be4e-fdfade1c6c42"
      },
      "outputs": [
        {
          "data": {
            "text/plain": [
              "array([[16, 10,  3, 15],\n",
              "       [14, 23, 17, 27],\n",
              "       [ 6, 19,  3,  1],\n",
              "       [10,  4, 18, 19]])"
            ]
          },
          "execution_count": 43,
          "metadata": {},
          "output_type": "execute_result"
        }
      ],
      "source": [
        "cartela_bingo = np.array([[16, 10,  3, 15],\n",
        "       [14, 23, 17, 27],\n",
        "       [ 6, 19,  3,  1],\n",
        "       [10,  4, 18, 19]])\n",
        "cartela_bingo"
      ]
    },
    {
      "cell_type": "markdown",
      "metadata": {
        "id": "SVvnsCn9EGkv"
      },
      "source": [
        "## 1.2 Ainda usando o Array de espécies marítimas.\n",
        "\n",
        "*   Usando um index booleano crie um array que contém os dados da maior espécie encontrada (considerando o seu tamanho), esse valor corresponde ao valor 22.\n",
        "\n",
        "*   Usando fency index faça um array que contém apenas dados da espécie com ID 297\n",
        "*   Usando np.where() faça um array com a linha com dados correspondentes a espécie com 105 representantes encontrados.\n",
        "*   Considere a profundeza em que o espécie foi encontrada substitua valores maiores que 60 com \"Profundo\"\n",
        "\n"
      ]
    },
    {
      "cell_type": "code",
      "execution_count": null,
      "metadata": {
        "colab": {
          "base_uri": "https://localhost:8080/"
        },
        "id": "ajhm-M6UEPpb",
        "outputId": "396800c2-813e-495c-9264-a1f74f5ea626"
      },
      "outputs": [
        {
          "data": {
            "text/plain": [
              "array([[747,  89,  33,   5],\n",
              "       [623, 123,  32,  13],\n",
              "       [501,  22,  49,   2],\n",
              "       [116, 101,  42,  10],\n",
              "       [297,  56,  69,  22],\n",
              "       [613,  64,  27,   7],\n",
              "       [295,  84,  29,  14],\n",
              "       [692, 105,  72,  16],\n",
              "       [229, 103,  35,   5],\n",
              "       [374, 124,  70,   1]])"
            ]
          },
          "execution_count": 50,
          "metadata": {},
          "output_type": "execute_result"
        }
      ],
      "source": [
        "especies"
      ]
    },
    {
      "cell_type": "code",
      "execution_count": 9,
      "metadata": {},
      "outputs": [
        {
          "name": "stdout",
          "output_type": "stream",
          "text": [
            "Dados da maior espécie encontrada:\n",
            " [[297  56  69  22]]\n"
          ]
        }
      ],
      "source": [
        "maior_tamanho_index = especies[:, 3] == 22\n",
        "maior_especie = especies[maior_tamanho_index]\n",
        "print(\"Dados da maior espécie encontrada:\\n\", maior_especie)\n"
      ]
    },
    {
      "cell_type": "code",
      "execution_count": 10,
      "metadata": {},
      "outputs": [
        {
          "name": "stdout",
          "output_type": "stream",
          "text": [
            "Dados da espécie com ID 297:\n",
            " [[297  56  69  22]]\n"
          ]
        }
      ],
      "source": [
        "id_297 = especies[especies[:, 0] == 297]\n",
        "print(\"Dados da espécie com ID 297:\\n\", id_297)\n"
      ]
    },
    {
      "cell_type": "code",
      "execution_count": 11,
      "metadata": {},
      "outputs": [
        {
          "name": "stdout",
          "output_type": "stream",
          "text": [
            "Dados da espécie com 105 representantes encontrados:\n",
            " [[692 105  72  16]]\n"
          ]
        }
      ],
      "source": [
        "representantes_105 = np.where(especies[:, 1] == 105)\n",
        "dados_representantes_105 = especies[representantes_105]\n",
        "print(\"Dados da espécie com 105 representantes encontrados:\\n\", dados_representantes_105)\n"
      ]
    },
    {
      "cell_type": "code",
      "execution_count": 12,
      "metadata": {},
      "outputs": [
        {
          "name": "stdout",
          "output_type": "stream",
          "text": [
            "Profundidade com valores substituídos:\n",
            " ['33' '32' '49' '42' 'Profundo' '27' '29' 'Profundo' '35' 'Profundo']\n"
          ]
        }
      ],
      "source": [
        "profundeza = especies[:, 2]\n",
        "profundeza_substituida = np.where(profundeza > 60, \"Profundo\", profundeza)\n",
        "print(\"Profundidade com valores substituídos:\\n\", profundeza_substituida)\n"
      ]
    },
    {
      "cell_type": "markdown",
      "metadata": {
        "id": "SHKhhhoqqOIs"
      },
      "source": [
        "## 1.3 Ainda no conjunto 'especies'.\n",
        "\n",
        "*   Adicione mais 2 espécies ao array: [[204, 10, 40, 12], [392, 11, 81, 11]]\n",
        "*   Adicione mais uma coluna na no array original agora com o número de espécies encontradas com que indica se o animal enxerga ou não: [0, 1, 0, 0, 0, 0, 1, 0, 1, 1, 0]\n"
      ]
    },
    {
      "cell_type": "code",
      "execution_count": 13,
      "metadata": {},
      "outputs": [
        {
          "name": "stdout",
          "output_type": "stream",
          "text": [
            "Array de espécies atualizado:\n",
            " [[747  89  33   5]\n",
            " [623 123  32  13]\n",
            " [501  22  49   2]\n",
            " [116 101  42  10]\n",
            " [297  56  69  22]\n",
            " [613  64  27   7]\n",
            " [295  84  29  14]\n",
            " [692 105  72  16]\n",
            " [229 103  35   5]\n",
            " [374 124  70   1]\n",
            " [204  10  40  12]\n",
            " [392  11  81  11]]\n"
          ]
        }
      ],
      "source": [
        "novas_especies = np.array([[204, 10, 40, 12], [392, 11, 81, 11]])\n",
        "especies_atualizadas = np.vstack([especies, novas_especies])\n",
        "print(\"Array de espécies atualizado:\\n\", especies_atualizadas)\n"
      ]
    },
    {
      "cell_type": "code",
      "execution_count": 15,
      "metadata": {},
      "outputs": [
        {
          "name": "stdout",
          "output_type": "stream",
          "text": [
            "Número de linhas em especies_atualizadas: 12\n"
          ]
        }
      ],
      "source": [
        "num_linhas = especies_atualizadas.shape[0]\n",
        "print(\"Número de linhas em especies_atualizadas:\", num_linhas)\n"
      ]
    },
    {
      "cell_type": "code",
      "execution_count": 18,
      "metadata": {},
      "outputs": [
        {
          "name": "stdout",
          "output_type": "stream",
          "text": [
            "Número de linhas em especies_atualizadas: 12\n",
            "Array de espécies com nova coluna:\n",
            " [[747  89  33   5   0]\n",
            " [623 123  32  13   1]\n",
            " [501  22  49   2   0]\n",
            " [116 101  42  10   0]\n",
            " [297  56  69  22   0]\n",
            " [613  64  27   7   0]\n",
            " [295  84  29  14   1]\n",
            " [692 105  72  16   0]\n",
            " [229 103  35   5   1]\n",
            " [374 124  70   1   1]\n",
            " [204  10  40  12   0]\n",
            " [392  11  81  11   1]]\n"
          ]
        }
      ],
      "source": [
        "especies = np.array([\n",
        "    [747, 89, 33, 5],\n",
        "    [623, 123, 32, 13],\n",
        "    [501, 22, 49, 2],\n",
        "    [116, 101, 42, 10],\n",
        "    [297, 56, 69, 22],\n",
        "    [613, 64, 27, 7],\n",
        "    [295, 84, 29, 14],\n",
        "    [692, 105, 72, 16],\n",
        "    [229, 103, 35, 5],\n",
        "    [374, 124, 70, 1]\n",
        "])\n",
        "\n",
        "novas_especies = np.array([[204, 10, 40, 12], [392, 11, 81, 11]])\n",
        "especies_atualizadas = np.vstack([especies, novas_especies])\n",
        "\n",
        "num_linhas = especies_atualizadas.shape[0]\n",
        "print(\"Número de linhas em especies_atualizadas:\", num_linhas)\n",
        "\n",
        "nova_coluna = np.array([0, 1, 0, 0, 0, 0, 1, 0, 1, 1, 0, 1])  \n",
        "\n",
        "nova_coluna = nova_coluna.reshape(-1, 1)  \n",
        "especies_com_coluna = np.hstack([especies_atualizadas, nova_coluna])\n",
        "print(\"Array de espécies com nova coluna:\\n\", especies_com_coluna)\n"
      ]
    },
    {
      "cell_type": "markdown",
      "metadata": {},
      "source": [
        "## 1.4 Cálculo com Array\n",
        "\n",
        "*   O cliente que teve acidente abaixo da média nos últimos 2 anos,\n",
        "ganhará um desconto no seu seguro. Identifique-os.\n",
        "* Qual cliente teve pelo menos 2 anos sem cometer acidentes?\n",
        "* Uma professora quer que seus alunos apliquem a função (3x + 2y +\n",
        "x*y) em um conjunto de dados. Ela dá dois arrays aos estudantes e\n",
        "pede que seja feita essa operação.\n",
        "* A mesma professora percebeu que houve um erro em todas as provas\n",
        "dos estudantes e esqueceu de anotar a nota de trabalhos\n",
        "apresentados durante o semestre. Já que foi feito em grupo ela vai\n",
        "adicionar a mesma nota para todos os estudantes. No array cada\n",
        "estudante representa uma linha e cada coluna uma prova. Adicione\n",
        "para cada prova de cada estudante os valores: 1, 2, 1."
      ]
    },
    {
      "cell_type": "code",
      "execution_count": 25,
      "metadata": {},
      "outputs": [
        {
          "name": "stdout",
          "output_type": "stream",
          "text": [
            "Clientes com acidentes abaixo da média: [1 3 4]\n"
          ]
        }
      ],
      "source": [
        "acidentes = np.array([[1, 3, 2],\n",
        "                      [0, 1, 0],\n",
        "                      [2, 1, 4],\n",
        "                      [0, 0, 0],\n",
        "                      [1, 1, 0]])\n",
        "\n",
        "media_acidentes = acidentes.mean(axis=1)\n",
        "\n",
        "media_geral = media_acidentes.mean()\n",
        "\n",
        "clientes_abaixo_media = np.where(media_acidentes < media_geral)[0]\n",
        "\n",
        "print(\"Clientes com acidentes abaixo da média:\", clientes_abaixo_media)"
      ]
    },
    {
      "cell_type": "code",
      "execution_count": 27,
      "metadata": {},
      "outputs": [
        {
          "name": "stdout",
          "output_type": "stream",
          "text": [
            "Clientes com pelo menos 2 anos sem acidentes: [1 3]\n"
          ]
        }
      ],
      "source": [
        "anos_sem_acidente = np.sum(acidentes == 0, axis=1)\n",
        "clientes_sem_acidente = np.where(anos_sem_acidente >= 2)[0]\n",
        "print(\"Clientes com pelo menos 2 anos sem acidentes:\", clientes_sem_acidente)\n"
      ]
    },
    {
      "cell_type": "code",
      "execution_count": 28,
      "metadata": {},
      "outputs": [
        {
          "name": "stdout",
          "output_type": "stream",
          "text": [
            "Clientes com pelo menos 2 anos sem acidentes:\n",
            " [1 3]\n"
          ]
        }
      ],
      "source": [
        "anos_sem_acidente = np.sum(acidentes == 0, axis=1)\n",
        "clientes_sem_acidente = np.where(anos_sem_acidente >= 2)[0]\n",
        "print(\"Clientes com pelo menos 2 anos sem acidentes:\\n\", clientes_sem_acidente)\n"
      ]
    },
    {
      "cell_type": "code",
      "execution_count": 22,
      "metadata": {},
      "outputs": [
        {
          "name": "stdout",
          "output_type": "stream",
          "text": [
            "Resultado da função aplicada:\n",
            " [15 26 39]\n"
          ]
        }
      ],
      "source": [
        "def funcao(x, y):\n",
        "    return 3*x + 2*y + x*y\n",
        "\n",
        "x = np.array([1, 2, 3])\n",
        "y = np.array([4, 5, 6])\n",
        "resultado = funcao(x, y)\n",
        "print(\"Resultado da função aplicada:\\n\", resultado)\n"
      ]
    },
    {
      "cell_type": "code",
      "execution_count": 23,
      "metadata": {},
      "outputs": [
        {
          "name": "stdout",
          "output_type": "stream",
          "text": [
            "Notas adicionadas:\n",
            " [[1 2 1 1 2 1 1 2 1]\n",
            " [1 2 1 1 2 1 1 2 1]\n",
            " [1 2 1 1 2 1 1 2 1]]\n"
          ]
        }
      ],
      "source": [
        "notas_provas = np.array([[1, 2, 1] * 3, [1, 2, 1] * 3, [1, 2, 1] * 3])\n",
        "print(\"Notas adicionadas:\\n\", notas_provas)\n"
      ]
    }
  ],
  "metadata": {
    "colab": {
      "provenance": []
    },
    "kernelspec": {
      "display_name": "Python 3",
      "name": "python3"
    },
    "language_info": {
      "codemirror_mode": {
        "name": "ipython",
        "version": 3
      },
      "file_extension": ".py",
      "mimetype": "text/x-python",
      "name": "python",
      "nbconvert_exporter": "python",
      "pygments_lexer": "ipython3",
      "version": "3.12.5"
    }
  },
  "nbformat": 4,
  "nbformat_minor": 0
}
