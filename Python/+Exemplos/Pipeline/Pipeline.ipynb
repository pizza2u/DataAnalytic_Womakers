{
  "cells": [
    {
      "cell_type": "code",
      "execution_count": null,
      "metadata": {
        "id": "1qjOSZhBFu3z"
      },
      "outputs": [
        {
          "ename": "",
          "evalue": "",
          "output_type": "error",
          "traceback": [
            "\u001b[1;31mFailed to start the Kernel. \n",
            "\u001b[1;31mThe kernel died. Error: ... View Jupyter <a href='command:jupyter.viewOutput'>log</a> for further details."
          ]
        }
      ],
      "source": [
        "import requests\n",
        "import numpy as np\n",
        "import pandas as pd\n",
        "import logging"
      ]
    },
    {
      "cell_type": "code",
      "execution_count": null,
      "metadata": {
        "id": "HxxNUieYyunE"
      },
      "outputs": [],
      "source": [
        "! python -version"
      ]
    },
    {
      "cell_type": "markdown",
      "metadata": {
        "id": "3sdftdAfbT1w"
      },
      "source": [
        "### Minha API"
      ]
    },
    {
      "cell_type": "code",
      "execution_count": null,
      "metadata": {
        "id": "ambrjpMZbSfm"
      },
      "outputs": [],
      "source": [
        "headers = {\"chave-api-dados\" : \"insira_seu_token\"}\n"
      ]
    },
    {
      "cell_type": "markdown",
      "metadata": {
        "id": "rPD2DjJ7bZzC"
      },
      "source": [
        "### Acesso ao portal da transparência do governo federal playground para a criação da extração"
      ]
    },
    {
      "cell_type": "code",
      "execution_count": null,
      "metadata": {
        "id": "1BirBE6LFK_0"
      },
      "outputs": [],
      "source": [
        "url = 'https://api.portaldatransparencia.gov.br/api-de-dados/emendas?ano=2022&pagina=2'\n",
        "\n",
        "resposta_ = requests.get(url, headers=headers)"
      ]
    },
    {
      "cell_type": "code",
      "execution_count": null,
      "metadata": {
        "id": "urVqSc0FWdH2"
      },
      "outputs": [],
      "source": [
        "data1 = resposta_.json()"
      ]
    },
    {
      "cell_type": "code",
      "execution_count": null,
      "metadata": {
        "id": "xRdV044FXJCv"
      },
      "outputs": [],
      "source": [
        "data2 = resposta_.json()"
      ]
    },
    {
      "cell_type": "code",
      "execution_count": null,
      "metadata": {
        "id": "TDpKhDqQXSNX"
      },
      "outputs": [],
      "source": [
        "url = 'https://api.portaldatransparencia.gov.br/api-de-dados/emendas?ano=2022&pagina='"
      ]
    },
    {
      "cell_type": "code",
      "execution_count": null,
      "metadata": {
        "id": "WFhokEjYXVbn"
      },
      "outputs": [],
      "source": [
        "# Emendas página até 408\n",
        "\n",
        "list_urls = [url + str(i) for i in range(1, 409)]"
      ]
    },
    {
      "cell_type": "code",
      "execution_count": null,
      "metadata": {
        "colab": {
          "base_uri": "https://localhost:8080/"
        },
        "id": "cgSiDENPa5iE",
        "outputId": "f7eb36f2-296d-4394-b0a5-8c71ed8f5076"
      },
      "outputs": [
        {
          "data": {
            "text/plain": [
              "['https://api.portaldatransparencia.gov.br/api-de-dados/emendas?ano=2022&pagina=1',\n",
              " 'https://api.portaldatransparencia.gov.br/api-de-dados/emendas?ano=2022&pagina=2']"
            ]
          },
          "execution_count": 62,
          "metadata": {},
          "output_type": "execute_result"
        }
      ],
      "source": [
        "list_urls[:2]"
      ]
    },
    {
      "cell_type": "code",
      "execution_count": null,
      "metadata": {
        "id": "Rrw_C4KqYtWV"
      },
      "outputs": [],
      "source": [
        "# passando a lista para um array\n",
        "arr_urls = np.asarray(list_urls)"
      ]
    },
    {
      "cell_type": "code",
      "execution_count": null,
      "metadata": {
        "id": "eCS2EpCzYI8I"
      },
      "outputs": [],
      "source": [
        "vec_run = np.vectorize(run_request)\n",
        "\n",
        "arr_responses = vec_run(arr_urls)"
      ]
    },
    {
      "cell_type": "code",
      "execution_count": null,
      "metadata": {
        "id": "iZePpsadZrP1"
      },
      "outputs": [],
      "source": [
        "arr_responses = arr_responses.tolist()"
      ]
    },
    {
      "cell_type": "code",
      "execution_count": null,
      "metadata": {
        "id": "FXzbFe-DaEY-"
      },
      "outputs": [],
      "source": [
        "arr_responses[1]"
      ]
    },
    {
      "cell_type": "code",
      "execution_count": null,
      "metadata": {
        "id": "v5Jo4BabaJzo"
      },
      "outputs": [],
      "source": [
        "reposta = np.concatenate(arr_responses).tolist()"
      ]
    },
    {
      "cell_type": "code",
      "execution_count": null,
      "metadata": {
        "id": "TkfoNnHZbW4e"
      },
      "outputs": [],
      "source": [
        "df = pd.DataFrame(reposta)"
      ]
    },
    {
      "cell_type": "code",
      "execution_count": null,
      "metadata": {
        "id": "meYl9ev0cB9d"
      },
      "outputs": [],
      "source": [
        "df"
      ]
    },
    {
      "cell_type": "code",
      "execution_count": null,
      "metadata": {
        "colab": {
          "base_uri": "https://localhost:8080/"
        },
        "id": "pJ0qfB7pcXCy",
        "outputId": "c4e75aad-1374-47de-83cf-f59a6cac039d"
      },
      "outputs": [
        {
          "name": "stderr",
          "output_type": "stream",
          "text": [
            "<ipython-input-186-94971b8f1f3b>:2: FutureWarning: The default value of regex will change from True to False in a future version. In addition, single character regular expressions will *not* be treated as literal strings when regex=True.\n",
            "  df_area['valorEmpenhado'] = df_area['valorEmpenhado'].str.replace('.', '').str.replace(',', '.').astype(np.float64)\n",
            "<ipython-input-186-94971b8f1f3b>:2: SettingWithCopyWarning: \n",
            "A value is trying to be set on a copy of a slice from a DataFrame.\n",
            "Try using .loc[row_indexer,col_indexer] = value instead\n",
            "\n",
            "See the caveats in the documentation: https://pandas.pydata.org/pandas-docs/stable/user_guide/indexing.html#returning-a-view-versus-a-copy\n",
            "  df_area['valorEmpenhado'] = df_area['valorEmpenhado'].str.replace('.', '').str.replace(',', '.').astype(np.float64)\n"
          ]
        }
      ],
      "source": [
        "df_area = df[['funcao', 'valorEmpenhado']]\n",
        "df_area['valorEmpenhado'] = df_area['valorEmpenhado'].str.replace('.', '').str.replace(',', '.').astype(np.float64)"
      ]
    },
    {
      "cell_type": "code",
      "execution_count": null,
      "metadata": {
        "colab": {
          "base_uri": "https://localhost:8080/"
        },
        "id": "DYQDCw5SfR7c",
        "outputId": "44b7a9a2-7dd0-4dc3-cac1-8269cb1b32b0"
      },
      "outputs": [
        {
          "name": "stdout",
          "output_type": "stream",
          "text": [
            "<class 'pandas.core.frame.DataFrame'>\n",
            "RangeIndex: 6108 entries, 0 to 6107\n",
            "Data columns (total 2 columns):\n",
            " #   Column          Non-Null Count  Dtype  \n",
            "---  ------          --------------  -----  \n",
            " 0   funcao          6108 non-null   object \n",
            " 1   valorEmpenhado  6108 non-null   float64\n",
            "dtypes: float64(1), object(1)\n",
            "memory usage: 95.6+ KB\n"
          ]
        }
      ],
      "source": [
        "df_area.info()"
      ]
    },
    {
      "cell_type": "code",
      "execution_count": null,
      "metadata": {
        "id": "d7dFiXOkgdkk"
      },
      "outputs": [],
      "source": [
        "agg_area = df_area.groupby('funcao').sum('valorEmpenhado')"
      ]
    },
    {
      "cell_type": "code",
      "execution_count": null,
      "metadata": {
        "colab": {
          "base_uri": "https://localhost:8080/",
          "height": 802
        },
        "id": "SEicrxEEo4QC",
        "outputId": "21b712ec-9f1d-40aa-8895-ec4afaed0650"
      },
      "outputs": [
        {
          "data": {
            "text/html": [
              "\n",
              "  <div id=\"df-8aec4bfb-bca5-4aed-922f-cf4a3708bbf1\" class=\"colab-df-container\">\n",
              "    <div>\n",
              "<style scoped>\n",
              "    .dataframe tbody tr th:only-of-type {\n",
              "        vertical-align: middle;\n",
              "    }\n",
              "\n",
              "    .dataframe tbody tr th {\n",
              "        vertical-align: top;\n",
              "    }\n",
              "\n",
              "    .dataframe thead th {\n",
              "        text-align: right;\n",
              "    }\n",
              "</style>\n",
              "<table border=\"1\" class=\"dataframe\">\n",
              "  <thead>\n",
              "    <tr style=\"text-align: right;\">\n",
              "      <th></th>\n",
              "      <th>valorEmpenhado</th>\n",
              "    </tr>\n",
              "    <tr>\n",
              "      <th>funcao</th>\n",
              "      <th></th>\n",
              "    </tr>\n",
              "  </thead>\n",
              "  <tbody>\n",
              "    <tr>\n",
              "      <th>Administração</th>\n",
              "      <td>2.306679e+06</td>\n",
              "    </tr>\n",
              "    <tr>\n",
              "      <th>Agricultura</th>\n",
              "      <td>2.322263e+08</td>\n",
              "    </tr>\n",
              "    <tr>\n",
              "      <th>Assistência social</th>\n",
              "      <td>1.353689e+09</td>\n",
              "    </tr>\n",
              "    <tr>\n",
              "      <th>Ciência e Tecnologia</th>\n",
              "      <td>2.871393e+07</td>\n",
              "    </tr>\n",
              "    <tr>\n",
              "      <th>Comunicações</th>\n",
              "      <td>1.065198e+07</td>\n",
              "    </tr>\n",
              "    <tr>\n",
              "      <th>Comércio e serviços</th>\n",
              "      <td>4.521835e+07</td>\n",
              "    </tr>\n",
              "    <tr>\n",
              "      <th>Cultura</th>\n",
              "      <td>5.476948e+07</td>\n",
              "    </tr>\n",
              "    <tr>\n",
              "      <th>Defesa nacional</th>\n",
              "      <td>5.556213e+08</td>\n",
              "    </tr>\n",
              "    <tr>\n",
              "      <th>Desporto e lazer</th>\n",
              "      <td>4.118776e+08</td>\n",
              "    </tr>\n",
              "    <tr>\n",
              "      <th>Direitos da cidadania</th>\n",
              "      <td>1.098769e+08</td>\n",
              "    </tr>\n",
              "    <tr>\n",
              "      <th>Educação</th>\n",
              "      <td>8.396700e+08</td>\n",
              "    </tr>\n",
              "    <tr>\n",
              "      <th>Encargos especiais</th>\n",
              "      <td>2.709251e+09</td>\n",
              "    </tr>\n",
              "    <tr>\n",
              "      <th>Gestão ambiental</th>\n",
              "      <td>3.079113e+07</td>\n",
              "    </tr>\n",
              "    <tr>\n",
              "      <th>Habitação</th>\n",
              "      <td>1.300000e+03</td>\n",
              "    </tr>\n",
              "    <tr>\n",
              "      <th>Múltiplo</th>\n",
              "      <td>5.648085e+08</td>\n",
              "    </tr>\n",
              "    <tr>\n",
              "      <th>Organização agrária</th>\n",
              "      <td>3.475790e+07</td>\n",
              "    </tr>\n",
              "    <tr>\n",
              "      <th>Previdência social</th>\n",
              "      <td>3.000000e+01</td>\n",
              "    </tr>\n",
              "    <tr>\n",
              "      <th>Relações exteriores</th>\n",
              "      <td>2.520998e+06</td>\n",
              "    </tr>\n",
              "    <tr>\n",
              "      <th>Saúde</th>\n",
              "      <td>1.485897e+10</td>\n",
              "    </tr>\n",
              "    <tr>\n",
              "      <th>Segurança pública</th>\n",
              "      <td>2.630099e+08</td>\n",
              "    </tr>\n",
              "    <tr>\n",
              "      <th>Trabalho</th>\n",
              "      <td>5.703747e+06</td>\n",
              "    </tr>\n",
              "    <tr>\n",
              "      <th>Transporte</th>\n",
              "      <td>1.758143e+08</td>\n",
              "    </tr>\n",
              "    <tr>\n",
              "      <th>Urbanismo</th>\n",
              "      <td>1.380082e+09</td>\n",
              "    </tr>\n",
              "  </tbody>\n",
              "</table>\n",
              "</div>\n",
              "    <div class=\"colab-df-buttons\">\n",
              "\n",
              "  <div class=\"colab-df-container\">\n",
              "    <button class=\"colab-df-convert\" onclick=\"convertToInteractive('df-8aec4bfb-bca5-4aed-922f-cf4a3708bbf1')\"\n",
              "            title=\"Convert this dataframe to an interactive table.\"\n",
              "            style=\"display:none;\">\n",
              "\n",
              "  <svg xmlns=\"http://www.w3.org/2000/svg\" height=\"24px\" viewBox=\"0 -960 960 960\">\n",
              "    <path d=\"M120-120v-720h720v720H120Zm60-500h600v-160H180v160Zm220 220h160v-160H400v160Zm0 220h160v-160H400v160ZM180-400h160v-160H180v160Zm440 0h160v-160H620v160ZM180-180h160v-160H180v160Zm440 0h160v-160H620v160Z\"/>\n",
              "  </svg>\n",
              "    </button>\n",
              "\n",
              "  <style>\n",
              "    .colab-df-container {\n",
              "      display:flex;\n",
              "      gap: 12px;\n",
              "    }\n",
              "\n",
              "    .colab-df-convert {\n",
              "      background-color: #E8F0FE;\n",
              "      border: none;\n",
              "      border-radius: 50%;\n",
              "      cursor: pointer;\n",
              "      display: none;\n",
              "      fill: #1967D2;\n",
              "      height: 32px;\n",
              "      padding: 0 0 0 0;\n",
              "      width: 32px;\n",
              "    }\n",
              "\n",
              "    .colab-df-convert:hover {\n",
              "      background-color: #E2EBFA;\n",
              "      box-shadow: 0px 1px 2px rgba(60, 64, 67, 0.3), 0px 1px 3px 1px rgba(60, 64, 67, 0.15);\n",
              "      fill: #174EA6;\n",
              "    }\n",
              "\n",
              "    .colab-df-buttons div {\n",
              "      margin-bottom: 4px;\n",
              "    }\n",
              "\n",
              "    [theme=dark] .colab-df-convert {\n",
              "      background-color: #3B4455;\n",
              "      fill: #D2E3FC;\n",
              "    }\n",
              "\n",
              "    [theme=dark] .colab-df-convert:hover {\n",
              "      background-color: #434B5C;\n",
              "      box-shadow: 0px 1px 3px 1px rgba(0, 0, 0, 0.15);\n",
              "      filter: drop-shadow(0px 1px 2px rgba(0, 0, 0, 0.3));\n",
              "      fill: #FFFFFF;\n",
              "    }\n",
              "  </style>\n",
              "\n",
              "    <script>\n",
              "      const buttonEl =\n",
              "        document.querySelector('#df-8aec4bfb-bca5-4aed-922f-cf4a3708bbf1 button.colab-df-convert');\n",
              "      buttonEl.style.display =\n",
              "        google.colab.kernel.accessAllowed ? 'block' : 'none';\n",
              "\n",
              "      async function convertToInteractive(key) {\n",
              "        const element = document.querySelector('#df-8aec4bfb-bca5-4aed-922f-cf4a3708bbf1');\n",
              "        const dataTable =\n",
              "          await google.colab.kernel.invokeFunction('convertToInteractive',\n",
              "                                                    [key], {});\n",
              "        if (!dataTable) return;\n",
              "\n",
              "        const docLinkHtml = 'Like what you see? Visit the ' +\n",
              "          '<a target=\"_blank\" href=https://colab.research.google.com/notebooks/data_table.ipynb>data table notebook</a>'\n",
              "          + ' to learn more about interactive tables.';\n",
              "        element.innerHTML = '';\n",
              "        dataTable['output_type'] = 'display_data';\n",
              "        await google.colab.output.renderOutput(dataTable, element);\n",
              "        const docLink = document.createElement('div');\n",
              "        docLink.innerHTML = docLinkHtml;\n",
              "        element.appendChild(docLink);\n",
              "      }\n",
              "    </script>\n",
              "  </div>\n",
              "\n",
              "\n",
              "<div id=\"df-2223d545-062c-4d17-bb07-72d050c6031e\">\n",
              "  <button class=\"colab-df-quickchart\" onclick=\"quickchart('df-2223d545-062c-4d17-bb07-72d050c6031e')\"\n",
              "            title=\"Suggest charts\"\n",
              "            style=\"display:none;\">\n",
              "\n",
              "<svg xmlns=\"http://www.w3.org/2000/svg\" height=\"24px\"viewBox=\"0 0 24 24\"\n",
              "     width=\"24px\">\n",
              "    <g>\n",
              "        <path d=\"M19 3H5c-1.1 0-2 .9-2 2v14c0 1.1.9 2 2 2h14c1.1 0 2-.9 2-2V5c0-1.1-.9-2-2-2zM9 17H7v-7h2v7zm4 0h-2V7h2v10zm4 0h-2v-4h2v4z\"/>\n",
              "    </g>\n",
              "</svg>\n",
              "  </button>\n",
              "\n",
              "<style>\n",
              "  .colab-df-quickchart {\n",
              "      --bg-color: #E8F0FE;\n",
              "      --fill-color: #1967D2;\n",
              "      --hover-bg-color: #E2EBFA;\n",
              "      --hover-fill-color: #174EA6;\n",
              "      --disabled-fill-color: #AAA;\n",
              "      --disabled-bg-color: #DDD;\n",
              "  }\n",
              "\n",
              "  [theme=dark] .colab-df-quickchart {\n",
              "      --bg-color: #3B4455;\n",
              "      --fill-color: #D2E3FC;\n",
              "      --hover-bg-color: #434B5C;\n",
              "      --hover-fill-color: #FFFFFF;\n",
              "      --disabled-bg-color: #3B4455;\n",
              "      --disabled-fill-color: #666;\n",
              "  }\n",
              "\n",
              "  .colab-df-quickchart {\n",
              "    background-color: var(--bg-color);\n",
              "    border: none;\n",
              "    border-radius: 50%;\n",
              "    cursor: pointer;\n",
              "    display: none;\n",
              "    fill: var(--fill-color);\n",
              "    height: 32px;\n",
              "    padding: 0;\n",
              "    width: 32px;\n",
              "  }\n",
              "\n",
              "  .colab-df-quickchart:hover {\n",
              "    background-color: var(--hover-bg-color);\n",
              "    box-shadow: 0 1px 2px rgba(60, 64, 67, 0.3), 0 1px 3px 1px rgba(60, 64, 67, 0.15);\n",
              "    fill: var(--button-hover-fill-color);\n",
              "  }\n",
              "\n",
              "  .colab-df-quickchart-complete:disabled,\n",
              "  .colab-df-quickchart-complete:disabled:hover {\n",
              "    background-color: var(--disabled-bg-color);\n",
              "    fill: var(--disabled-fill-color);\n",
              "    box-shadow: none;\n",
              "  }\n",
              "\n",
              "  .colab-df-spinner {\n",
              "    border: 2px solid var(--fill-color);\n",
              "    border-color: transparent;\n",
              "    border-bottom-color: var(--fill-color);\n",
              "    animation:\n",
              "      spin 1s steps(1) infinite;\n",
              "  }\n",
              "\n",
              "  @keyframes spin {\n",
              "    0% {\n",
              "      border-color: transparent;\n",
              "      border-bottom-color: var(--fill-color);\n",
              "      border-left-color: var(--fill-color);\n",
              "    }\n",
              "    20% {\n",
              "      border-color: transparent;\n",
              "      border-left-color: var(--fill-color);\n",
              "      border-top-color: var(--fill-color);\n",
              "    }\n",
              "    30% {\n",
              "      border-color: transparent;\n",
              "      border-left-color: var(--fill-color);\n",
              "      border-top-color: var(--fill-color);\n",
              "      border-right-color: var(--fill-color);\n",
              "    }\n",
              "    40% {\n",
              "      border-color: transparent;\n",
              "      border-right-color: var(--fill-color);\n",
              "      border-top-color: var(--fill-color);\n",
              "    }\n",
              "    60% {\n",
              "      border-color: transparent;\n",
              "      border-right-color: var(--fill-color);\n",
              "    }\n",
              "    80% {\n",
              "      border-color: transparent;\n",
              "      border-right-color: var(--fill-color);\n",
              "      border-bottom-color: var(--fill-color);\n",
              "    }\n",
              "    90% {\n",
              "      border-color: transparent;\n",
              "      border-bottom-color: var(--fill-color);\n",
              "    }\n",
              "  }\n",
              "</style>\n",
              "\n",
              "  <script>\n",
              "    async function quickchart(key) {\n",
              "      const quickchartButtonEl =\n",
              "        document.querySelector('#' + key + ' button');\n",
              "      quickchartButtonEl.disabled = true;  // To prevent multiple clicks.\n",
              "      quickchartButtonEl.classList.add('colab-df-spinner');\n",
              "      try {\n",
              "        const charts = await google.colab.kernel.invokeFunction(\n",
              "            'suggestCharts', [key], {});\n",
              "      } catch (error) {\n",
              "        console.error('Error during call to suggestCharts:', error);\n",
              "      }\n",
              "      quickchartButtonEl.classList.remove('colab-df-spinner');\n",
              "      quickchartButtonEl.classList.add('colab-df-quickchart-complete');\n",
              "    }\n",
              "    (() => {\n",
              "      let quickchartButtonEl =\n",
              "        document.querySelector('#df-2223d545-062c-4d17-bb07-72d050c6031e button');\n",
              "      quickchartButtonEl.style.display =\n",
              "        google.colab.kernel.accessAllowed ? 'block' : 'none';\n",
              "    })();\n",
              "  </script>\n",
              "</div>\n",
              "    </div>\n",
              "  </div>\n"
            ],
            "text/plain": [
              "                       valorEmpenhado\n",
              "funcao                               \n",
              "Administração            2.306679e+06\n",
              "Agricultura              2.322263e+08\n",
              "Assistência social       1.353689e+09\n",
              "Ciência e Tecnologia     2.871393e+07\n",
              "Comunicações             1.065198e+07\n",
              "Comércio e serviços      4.521835e+07\n",
              "Cultura                  5.476948e+07\n",
              "Defesa nacional          5.556213e+08\n",
              "Desporto e lazer         4.118776e+08\n",
              "Direitos da cidadania    1.098769e+08\n",
              "Educação                 8.396700e+08\n",
              "Encargos especiais       2.709251e+09\n",
              "Gestão ambiental         3.079113e+07\n",
              "Habitação                1.300000e+03\n",
              "Múltiplo                 5.648085e+08\n",
              "Organização agrária      3.475790e+07\n",
              "Previdência social       3.000000e+01\n",
              "Relações exteriores      2.520998e+06\n",
              "Saúde                    1.485897e+10\n",
              "Segurança pública        2.630099e+08\n",
              "Trabalho                 5.703747e+06\n",
              "Transporte               1.758143e+08\n",
              "Urbanismo                1.380082e+09"
            ]
          },
          "execution_count": 214,
          "metadata": {},
          "output_type": "execute_result"
        }
      ],
      "source": [
        "agg_area"
      ]
    },
    {
      "cell_type": "code",
      "execution_count": null,
      "metadata": {
        "colab": {
          "base_uri": "https://localhost:8080/"
        },
        "id": "ifcQjfzspIvN",
        "outputId": "bcbcf2f9-db72-4972-abfa-ee145a5f8948"
      },
      "outputs": [
        {
          "data": {
            "text/plain": [
              "0.05830428749306528"
            ]
          },
          "execution_count": 198,
          "metadata": {},
          "output_type": "execute_result"
        }
      ],
      "source": [
        "1.380082e+09/23670334710.190002\n"
      ]
    },
    {
      "cell_type": "code",
      "execution_count": null,
      "metadata": {
        "id": "bH7FMuC4opDP"
      },
      "outputs": [],
      "source": [
        "agg_area = agg_area['valorEmpenhado']/df_area['valorEmpenhado'].sum()"
      ]
    },
    {
      "cell_type": "code",
      "execution_count": null,
      "metadata": {
        "id": "4Ocqhq7Apdre"
      },
      "outputs": [],
      "source": [
        "agg_area = agg_area.reset_index()"
      ]
    },
    {
      "cell_type": "code",
      "execution_count": null,
      "metadata": {
        "id": "UTDe5n4IqDnw"
      },
      "outputs": [],
      "source": [
        "agg_area.to_csv('distribuicao_empenho_area_2022.csv')"
      ]
    },
    {
      "cell_type": "markdown",
      "metadata": {
        "id": "hXsj9Cn8t-ud"
      },
      "source": [
        "## Criação de ETL e métodos organizados para monitoramento e automação"
      ]
    },
    {
      "cell_type": "code",
      "execution_count": null,
      "metadata": {
        "id": "Xa9OYTTwvqtY"
      },
      "outputs": [],
      "source": [
        "logging.basicConfig(level=logging.INFO, format='%(asctime)s - %(levelname)s - %(message)s')\n"
      ]
    },
    {
      "cell_type": "code",
      "execution_count": null,
      "metadata": {
        "id": "uIMEJoIYtGYT"
      },
      "outputs": [],
      "source": [
        "def run_request(url_):\n",
        "  resposta = requests.get(url_, headers=headers)\n",
        "  return resposta.json()"
      ]
    },
    {
      "cell_type": "code",
      "execution_count": null,
      "metadata": {
        "id": "fIz17ziFtGbB"
      },
      "outputs": [],
      "source": [
        "def coletar_dados(url):\n",
        "  logging.info('Pegou URL para a criação das diferentes URLs criando uma para cada página')\n",
        "  url = \n",
        "  list_urls = [url + str(i) for i in range(1, 6)]\n",
        "  arr_urls = np.asarray(list_urls)\n",
        "\n",
        "  vec_run = np.vectorize(run_request)\n",
        "  logging.info('Fazendo uma requisição para cada URL')\n",
        "  arr_responses = vec_run(arr_urls)\n",
        "  logging.info('Requisições concluídas')\n",
        "  arr_responses = arr_responses.tolist()\n",
        "  reposta = np.concatenate(arr_responses).tolist()\n",
        "  return reposta"
      ]
    },
    {
      "cell_type": "code",
      "execution_count": null,
      "metadata": {
        "id": "q7jQL0MNro7X"
      },
      "outputs": [],
      "source": [
        "def transformar_dado(dado):\n",
        "  logging.info('Criando dataframe')\n",
        "  df= pd.DataFrame(dado)\n",
        "\n",
        "  logging.info('Selecionando colunas')\n",
        "  df_area = df[['funcao', 'valorEmpenhado']]\n",
        "\n",
        "  logging.info('Transformando dado string -> float')\n",
        "  df_area['valorEmpenhado'] = df_area['valorEmpenhado'].str.replace('.', '').str.replace(',', '.').astype(np.float64)\n",
        "\n",
        "  logging.info('Transformando dado string -> float')\n",
        "  agg_area = df_area.groupby('funcao').sum('valorEmpenhado')\n",
        "\n",
        "  logging.info('Transformando dados para retirar proporção em porcentagem')\n",
        "  agg_area = agg_area['valorEmpenhado']/df_area['valorEmpenhado'].sum()\n",
        "  agg_area = agg_area.reset_index()\n",
        "\n",
        "  return agg_area"
      ]
    },
    {
      "cell_type": "code",
      "execution_count": null,
      "metadata": {
        "id": "_o-M9PmhqYrb"
      },
      "outputs": [],
      "source": [
        "def carga(dado):\n",
        "  dado.to_csv('distribuicao_empenho_area_20220.csv')\n"
      ]
    },
    {
      "cell_type": "code",
      "execution_count": null,
      "metadata": {
        "id": "kJN475pNtLGi"
      },
      "outputs": [],
      "source": [
        "def etl():\n",
        "  url = 'https://api.portaldatransparencia.gov.br/api-de-dados/emendas?ano=2022&pagina='\n",
        "  dado = coletar_dados()\n",
        "  dado = transformar_dado()\n",
        "  carga(dado)\n",
        "  logging.info('ETL finalizada')\n"
      ]
    },
    {
      "cell_type": "code",
      "execution_count": null,
      "metadata": {
        "id": "q1fI6LHlq967"
      },
      "outputs": [],
      "source": [
        "etl()"
      ]
    }
  ],
  "metadata": {
    "colab": {
      "provenance": []
    },
    "kernelspec": {
      "display_name": "Python 3",
      "name": "python3"
    },
    "language_info": {
      "name": "python",
      "version": "3.12.7"
    }
  },
  "nbformat": 4,
  "nbformat_minor": 0
}
